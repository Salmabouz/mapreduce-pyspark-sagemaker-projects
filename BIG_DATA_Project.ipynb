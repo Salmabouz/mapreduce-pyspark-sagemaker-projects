{
 "cells": [
  {
   "cell_type": "markdown",
   "metadata": {},
   "source": [
    "# Projet de BIG DATA"
   ]
  },
  {
   "cell_type": "markdown",
   "metadata": {},
   "source": [
    "# Exercice 1"
   ]
  },
  {
   "cell_type": "markdown",
   "metadata": {},
   "source": [
    "## Question 1"
   ]
  },
  {
   "cell_type": "code",
   "execution_count": 1,
   "metadata": {},
   "outputs": [
    {
     "name": "stdout",
     "output_type": "stream",
     "text": [
      "Données nettoyées (extrait) :\n",
      "Utilisateur : 10 → Amis : ['20', '30', '40']\n",
      "Utilisateur : 20 → Amis : ['10', '30', '40']\n",
      "Utilisateur : 30 → Amis : ['10', '20', '40', '50']\n",
      "Utilisateur : 40 → Amis : ['10', '20', '30', '50']\n",
      "Utilisateur : 50 → Amis : ['30', '40']\n",
      "\n",
      "Résultats après Mapper (extrait) :\n",
      "[(('10', '20'), ['30', '40']), (('10', '30'), ['20', '40']), (('10', '40'), ['20', '30'])]\n",
      "\n",
      "Résultat de groupByKey (extrait) :\n",
      "{('10', '20'): [['30', '40'], ['30', '40']], ('10', '30'): [['20', '40'], ['20', '40', '50']]}\n",
      "\n",
      "Résultat de reduceByKey (extrait) :\n",
      "[(('10', '20'), ['40', '30']), (('10', '30'), ['20', '40']), (('10', '40'), ['20', '30'])]\n",
      "\n",
      "Résultats finaux (amis en commun) :\n",
      "('10', '20'): 2 ami(s) en commun → ['40', '30']\n",
      "('10', '30'): 2 ami(s) en commun → ['20', '40']\n",
      "('10', '40'): 2 ami(s) en commun → ['20', '30']\n",
      "('20', '30'): 2 ami(s) en commun → ['40', '10']\n",
      "('20', '40'): 2 ami(s) en commun → ['30', '10']\n",
      "('30', '40'): 3 ami(s) en commun → ['20', '10', '50']\n",
      "('30', '50'): 1 ami(s) en commun → ['40']\n",
      "('40', '50'): 1 ami(s) en commun → ['30']\n"
     ]
    }
   ],
   "source": [
    "from functools import reduce\n",
    "\n",
    "# ------------------------ Fonction pour lire le fichier ------------------------\n",
    "\n",
    "def lire_fichier(file_path):\n",
    "    \"\"\"\n",
    "    Cette fonction lit le fichier contenant les relations d’amitié, \n",
    "    nettoie et retourne les données sous forme de liste de tuples \n",
    "    (utilisateur, set d'amis).\n",
    "    \"\"\"\n",
    "    resultat = []\n",
    "    with open(file_path, 'r', encoding='utf-8') as f:\n",
    "        for line in f:\n",
    "            # Vérification que la ligne est bien structurée : \"utilisateur: ami1, ami2, ...\"\n",
    "            if ':' in line and line[0].isdigit():\n",
    "                utilisateur, amis = line.strip().split(':')\n",
    "                amis_nettoyes = set()\n",
    "                for ami in amis.split(','):\n",
    "                    ami = ami.strip()\n",
    "                    if ami.isdigit():  # On garde seulement les amis identifiés par des chiffres\n",
    "                        amis_nettoyes.add(ami)\n",
    "                resultat.append((utilisateur, amis_nettoyes))\n",
    "    return resultat\n",
    "\n",
    "# ------------------------ Fonction MAP : Générer les couples d'amis ------------------------\n",
    "\n",
    "def mapper(user_friends):\n",
    "    \"\"\"\n",
    "    Cette fonction crée une liste de couples (utilisateur, ami), où chaque couple\n",
    "    représente un utilisateur et un de ses amis. Elle garde aussi les autres amis\n",
    "    pour pouvoir trouver les amis en commun lors de la réduction.\n",
    "    \"\"\"\n",
    "    user, friends = user_friends\n",
    "    couples = []\n",
    "    for friend in friends:\n",
    "        pair = tuple(sorted((user, friend)))  # Création de la paire triée (utilisateur, ami)\n",
    "        autres = [f for f in friends if f != friend]  # Liste des autres amis\n",
    "        couples.append((pair, autres))  # Ajout du couple avec les autres amis\n",
    "    return couples\n",
    "\n",
    "# ------------------------ Fonction GroupByKey : Regrouper par clé ------------------------\n",
    "\n",
    "def groupByKey(data):\n",
    "    \"\"\"\n",
    "    Cette fonction groupe les éléments d'une liste de tuples (clé, valeur)\n",
    "    par clé. Elle simule le groupByKey dans Spark.\n",
    "    \"\"\"\n",
    "    result = {}\n",
    "    for key, value in data:\n",
    "        if key in result:\n",
    "            result[key].append(value)\n",
    "        else:\n",
    "            result[key] = [value]\n",
    "    return result\n",
    "\n",
    "# ------------------------ Fonction ReduceByKey : Application d'une fonction de réduction ------------------------\n",
    "\n",
    "def reduceByKey(f, data):\n",
    "    \"\"\"\n",
    "    Cette fonction applique une fonction de réduction à chaque groupe d'éléments\n",
    "    ayant la même clé. Elle simule le reduceByKey dans Spark.\n",
    "    \"\"\"\n",
    "    grouped = groupByKey(data)  # Groupement des éléments par clé\n",
    "    return [(key, reduce(f, grouped[key])) for key in grouped]\n",
    "\n",
    "# ------------------------ Code principal ------------------------\n",
    "\n",
    "if __name__ == \"__main__\":\n",
    "    # Définition du chemin d'accès au fichier des relations d'amitié\n",
    "    fichier_path = \"C:/Users/t/Downloads/amis.txt\"\n",
    "    \n",
    "    # Lecture des données et préparation sous forme de tuples (utilisateur, set(amis))\n",
    "    data = lire_fichier(fichier_path)\n",
    "    \n",
    "    # Création d'un dictionnaire pour un accès rapide aux amis de chaque utilisateur\n",
    "    friends_dict = {u: f for u, f in data}\n",
    "    utilisateurs = sorted(friends_dict.keys())\n",
    "\n",
    "    # ------------------------ Affichage des données nettoyées ------------------------\n",
    "\n",
    "    print(\"Données nettoyées (extrait) :\")\n",
    "    for utilisateur, amis in data[:10]:\n",
    "        print(f\"Utilisateur : {utilisateur} → Amis : {sorted(list(amis))}\")\n",
    "\n",
    "    # ------------------------ Etape MAP : Transformation des données ------------------------\n",
    "\n",
    "    couples = []\n",
    "    for user_friends in data:\n",
    "        couples.extend(mapper(user_friends))  # Générer tous les couples d'amis\n",
    "\n",
    "    print(\"\\nRésultats après Mapper (extrait) :\")\n",
    "    print(couples[:3])  # Affiche les 3 premiers couples générés\n",
    "\n",
    "    # ------------------------ Etape GroupByKey : Regrouper les couples ------------------------\n",
    "\n",
    "    grouped = groupByKey(couples)\n",
    "    print(\"\\nRésultat de groupByKey (extrait) :\")\n",
    "    print(dict(list(grouped.items())[:2]))  # Affiche les 2 premières paires groupées\n",
    "\n",
    "    # ------------------------ Etape ReduceByKey : Trouver les amis en commun ------------------------\n",
    "\n",
    "    def intersection_reducer(l1, l2):\n",
    "        \"\"\"\n",
    "        Fonction de réduction : trouve l'intersection entre deux listes d'amis.\n",
    "        \"\"\"\n",
    "        return list(set(l1) & set(l2))  # Retourne les amis en commun\n",
    "\n",
    "    # Application de la réduction pour obtenir les amis en commun\n",
    "    reduced = reduceByKey(intersection_reducer, couples)\n",
    "    \n",
    "    print(\"\\nRésultat de reduceByKey (extrait) :\")\n",
    "    print(reduced[:3])  # Affiche les 3 premiers résultats après réduction\n",
    "\n",
    "    # ------------------------ Résultat final : Affichage des amis en commun ------------------------\n",
    "\n",
    "    print(\"\\nRésultats finaux (amis en commun) :\")\n",
    "    for pair, amis in sorted(reduced):\n",
    "        print(f\"{pair}: {len(amis)} ami(s) en commun → {amis}\")\n"
   ]
  },
  {
   "cell_type": "markdown",
   "metadata": {},
   "source": [
    "## Question 2"
   ]
  },
  {
   "cell_type": "code",
   "execution_count": 1,
   "metadata": {},
   "outputs": [
    {
     "name": "stdout",
     "output_type": "stream",
     "text": [
      "Données nettoyées (extrait) :\n",
      "Utilisateur : 10 → Amis : ['20', '30', '40']\n",
      "Utilisateur : 20 → Amis : ['10', '30', '40']\n",
      "Utilisateur : 30 → Amis : ['10', '20', '40', '50']\n",
      "Utilisateur : 40 → Amis : ['10', '20', '30', '50']\n",
      "Utilisateur : 50 → Amis : ['30', '40']\n",
      "\n",
      "Résultats après Mapper (extrait) :\n",
      "[(('10', '20'), ['40', '30']), (('10', '40'), ['20', '30']), (('10', '30'), ['20', '40'])]\n",
      "\n",
      "Résultat de groupByKey (extrait) :\n",
      "{('10', '20'): [['30', '40'], ['30', '40']], ('10', '40'): [['20', '30'], ['20', '30', '50']]}\n",
      "\n",
      "Résultat de reduceByKey (extrait) :\n",
      "[(('10', '20'), ['40', '30']), (('10', '40'), ['20', '30']), (('20', '40'), ['10', '30'])]\n",
      "\n",
      "Résultats finaux (amis en commun) :\n",
      "('10', '20'): 2 ami(s) en commun → ['30', '40']\n",
      "('10', '30'): 2 ami(s) en commun → ['20', '40']\n",
      "('10', '40'): 2 ami(s) en commun → ['20', '30']\n",
      "('20', '30'): 2 ami(s) en commun → ['10', '40']\n",
      "('20', '40'): 2 ami(s) en commun → ['10', '30']\n",
      "('30', '40'): 3 ami(s) en commun → ['10', '20', '50']\n",
      "('30', '50'): 1 ami(s) en commun → ['40']\n",
      "('40', '50'): 1 ami(s) en commun → ['30']\n"
     ]
    }
   ],
   "source": [
    "from pyspark.sql import SparkSession\n",
    "\n",
    "# ------------------------ Initialisation de Spark ------------------------\n",
    "\n",
    "# Création de la session Spark\n",
    "spark = SparkSession.builder \\\n",
    "    .appName(\"AmisEnCommun\") \\\n",
    "    .getOrCreate()\n",
    "\n",
    "# Récupération du contexte Spark\n",
    "sc = spark.sparkContext\n",
    "\n",
    "# ------------------------ Fonction pour lire et parser le fichier ------------------------\n",
    "\n",
    "def lire_fichier(file_path):\n",
    "    \"\"\"\n",
    "    Cette fonction lit un fichier et retourne les relations d'amitié sous forme de RDD.\n",
    "    Chaque relation est nettoyée et convertie en tuple (utilisateur, set(amis)).\n",
    "    \"\"\"\n",
    "    lignes = sc.textFile(file_path)\n",
    "    \n",
    "    # Filtrage des lignes qui ont un format valide\n",
    "    lignes_filtrees = lignes.filter(lambda l: ':' in l and l[0].isdigit())\n",
    "\n",
    "    # Fonction de parsing pour extraire les utilisateurs et leurs amis\n",
    "    def parser(ligne):\n",
    "        utilisateur, amis = ligne.strip().split(':')\n",
    "        amis_nettoyes = set()\n",
    "        for ami in amis.split(','):\n",
    "            ami = ami.strip()\n",
    "            if ami.isdigit():  # Garder uniquement les amis identifiés par des chiffres\n",
    "                amis_nettoyes.add(ami)\n",
    "        return (utilisateur.strip(), amis_nettoyes)\n",
    "\n",
    "    return lignes_filtrees.map(parser)  # Transformation en RDD de tuples (utilisateur, set(amis))\n",
    "\n",
    "# ------------------------ Fonction MAP : Transformation des données ------------------------\n",
    "\n",
    "def mapper(user_friends):\n",
    "    \"\"\"\n",
    "    Cette fonction effectue la transformation MAP : pour chaque utilisateur,\n",
    "    elle génère des couples sous la forme (clé, valeir ) (utilisateur, ami) ainsi que la liste des autres amis.\n",
    "    \"\"\"\n",
    "    user, friends = user_friends\n",
    "    couples = []\n",
    "    for friend in friends:\n",
    "        pair = tuple(sorted((user, friend)))  # Création d'une paire triée (utilisateur, ami)\n",
    "        autres = [f for f in friends if f != friend]  # Liste des autres amis\n",
    "        couples.append((pair, autres))  # On garde cette information pour chaque couple\n",
    "    return couples\n",
    "\n",
    "# ------------------------ Fonction reduce : intersection des amis ------------------------\n",
    "\n",
    "def intersection_reducer(l1, l2):\n",
    "    \"\"\"\n",
    "    Fonction de réduction : elle effectue l'intersection entre deux listes d'amis,\n",
    "    afin de trouver les amis en commun.\n",
    "    \"\"\"\n",
    "    return list(set(l1) & set(l2))\n",
    "\n",
    "# ------------------------ Programme principal ------------------------\n",
    "\n",
    "if __name__ == \"__main__\":\n",
    "    fichier_path = \"C:/Users/PC/Downloads/amis.txt\"\n",
    "\n",
    "    # Lecture et nettoyage des données\n",
    "    data = lire_fichier(fichier_path)\n",
    "\n",
    "    # ------------------------ Affichage des données nettoyées ------------------------\n",
    "\n",
    "    print(\"Données nettoyées (extrait) :\")\n",
    "    for utilisateur, amis in data.take(10):  # Affiche les 10 premières lignes\n",
    "        print(f\"Utilisateur : {utilisateur} → Amis : {sorted(list(amis))}\")\n",
    "\n",
    "    # ------------------------ Étape MAP : Transformation des données ------------------------\n",
    "\n",
    "    # Appliquer la fonction MAP (flatMap permet de \"déplier\" la liste de résultats)\n",
    "    couples = data.flatMap(mapper)\n",
    "\n",
    "    print(\"\\nRésultats après Mapper (extrait) :\")\n",
    "    print(couples.take(10)[:3])  # Affiche les 3 premiers couples générés\n",
    "\n",
    "    # ------------------------ Étape groupByKey : Regrouper par clé ------------------------\n",
    "\n",
    "    grouped = couples.groupByKey().mapValues(list)  # Groupement par clé (utilisateur, ami)\n",
    "    grouped_list = grouped.take(2)  # Affiche les 2 premiers groupes\n",
    "\n",
    "    # Format dict pour l'affichage\n",
    "    grouped_dict = {k: [sorted(v) for v in vals] for k, vals in grouped_list}\n",
    "\n",
    "    print(\"\\nRésultat de groupByKey (extrait) :\")\n",
    "    print(grouped_dict)\n",
    "\n",
    "    # ------------------------ Étape reduceByKey : Trouver les amis en commun ------------------------\n",
    "\n",
    "    reduits = couples.reduceByKey(intersection_reducer)  # Réduction pour trouver les amis en commun\n",
    "    reduits_list = reduits.take(10)  # Affiche les 10 premiers résultats\n",
    "\n",
    "    print(\"\\nRésultat de reduceByKey (extrait) :\")\n",
    "    print(reduits_list[:3])  # Affiche les 3 premiers résultats après réduction\n",
    "\n",
    "    # ------------------------ Résultat final : Affichage des amis en commun ------------------------\n",
    "\n",
    "    print(\"\\nRésultats finaux (amis en commun) :\")\n",
    "    for pair, amis in reduits.sortByKey().collect():  # Tri des résultats et affichage\n",
    "        print(f\"{pair}: {len(amis)} ami(s) en commun → {sorted(amis)}\")\n",
    "\n",
    "    # ------------------------ Fermeture de Spark ------------------------\n",
    "\n",
    "    # Arrêt de la session Spark pour libérer les ressources\n",
    "    spark.stop()\n"
   ]
  },
  {
   "cell_type": "markdown",
   "metadata": {},
   "source": [
    "# EXERCICE 2"
   ]
  },
  {
   "cell_type": "code",
   "execution_count": 11,
   "metadata": {},
   "outputs": [
    {
     "name": "stdout",
     "output_type": "stream",
     "text": [
      "Traitement de l'URL: https://restaurant-mun.com/paris/contact-us\n",
      "Traitement de l'URL: https://gigi-restaurant.com/paris/contact-us\n",
      "Traitement de l'URL: https://perruche-restaurant.com/paris/contact-us\n",
      "Traitement de l'URL: https://benoit-paris.com/en/contact\n",
      "Traitement de l'URL: https://restaurant-allard.fr/en/contact\n",
      "Traitement de l'URL: https://david-mallett.com/en/salons/notre-dame\n",
      "Traitement de l'URL: https://l-hotel.com/contact-directions\n",
      "Traitement de l'URL: https://hotelrdeparis.com/en/p/3/contact\n",
      "Résultats écrits dans RESULTATS.txt\n",
      "Fichier enregistré dans : c:\\Users\\t\\Downloads\\BIG--DATA\n"
     ]
    }
   ],
   "source": [
    "\"\"\"\n",
    "MapReduce-style Email and Word Frequency Extractor\n",
    "Ce script analyse des pages web des restaurants, salons de coiffure et des hôtels à Paris pour extraire les adresses e-mail et les mots les plus fréquents.\n",
    "Il utilise une approche similaire à MapReduce pour le traitement des données.\n",
    "\"\"\"\n",
    "\n",
    "import re\n",
    "import urllib.request\n",
    "from bs4 import BeautifulSoup\n",
    "import os\n",
    "from functools import reduce  # Fonction pour réduire une séquence à une valeur unique\n",
    "\n",
    "# ----- FONCTIONS SIMULANT LE PARADIGME MAPREDUCE -----\n",
    "\n",
    "def groupByKey(data):\n",
    "    \"\"\"\n",
    "    Groupe les données par clé ( (l’étape map),).\n",
    "    \n",
    "    Args:\n",
    "        data: Liste de tuples (clé, valeur)\n",
    "    \n",
    "    Returns:\n",
    "        Dictionnaire avec les clés et les listes de valeurs correspondantes\n",
    "    \"\"\"\n",
    "    result = {}\n",
    "    for key, value in data:\n",
    "        if key in result:\n",
    "            result[key].append(value)\n",
    "        else:\n",
    "            result[key] = [value]\n",
    "    return result\n",
    "\n",
    "\n",
    "def reduceByKey(f, data):\n",
    "    \"\"\"\n",
    "    Fonction de réduction des données par clé (équivalent à la phase reduce de MapReduce).\n",
    "    \n",
    "    Args:\n",
    "        f: Fonction de réduction à appliquer sur les valeurs\n",
    "        data: Liste de tuples (clé, valeur)\n",
    "    \n",
    "    Returns:\n",
    "        Dictionnaire avec les clés et les valeurs réduites\n",
    "    \"\"\"\n",
    "    key_values = groupByKey(data)\n",
    "    return {key: reduce(f, values) for key, values in key_values.items()}\n",
    "\n",
    "\n",
    "def map_reduce(words, top_k):\n",
    "    \"\"\"\n",
    "    Applique le paradigme MapReduce pour compter les occurrences des mots.\n",
    "    \n",
    "    Args:\n",
    "        words: Liste de mots à analyser\n",
    "        top_k: Nombre de mots les plus fréquents à retourner\n",
    "    \n",
    "    Returns:\n",
    "        Liste des top_k mots les plus fréquents avec leur nombre d'occurrences\n",
    "    \"\"\"\n",
    "    # Phase Map: transformer chaque mot en paire (mot, 1), sans filtrage\n",
    "    map_text = [(word.lower(), 1) for word in words]\n",
    "    \n",
    "    # Phase Reduce: sommer les occurrences pour chaque mot\n",
    "    reduced_text = reduceByKey(lambda x, y: x + y, map_text)\n",
    "    \n",
    "    # Trier et limiter aux top_k mots\n",
    "    return sorted(reduced_text.items(), key=lambda item: item[1], reverse=True)[:top_k]\n",
    "\n",
    "\n",
    "# ----- FONCTIONS D'EXTRACTION ET DE TRAITEMENT -----\n",
    "\n",
    "def extract_text_from_html(html_content):\n",
    "    \"\"\"\n",
    "    Extrait le texte propre d'une page HTML en supprimant les balises et \n",
    "    en normalisant les espaces. On va utiliser la librairie BeautifulSoup pour y parvenir.\n",
    "    \n",
    "    Args:\n",
    "        html_content: Contenu HTML à traiter\n",
    "    \n",
    "    Returns:\n",
    "        Texte nettoyé extrait du HTML\n",
    "    \"\"\"\n",
    "    # Parser html.parser, Récuperer les informations définies par les balises\n",
    "    soup = BeautifulSoup(html_content, 'html.parser')\n",
    "    \n",
    "    # Supprimer les scripts et styles qui ne contiennent pas de texte utile\n",
    "    for script_or_style in soup(['script', 'style']):\n",
    "        script_or_style.decompose()\n",
    "    \n",
    "    # Extraire le texte et normaliser les espaces\n",
    "    text = soup.get_text()\n",
    "    text = re.sub(r'\\s+', ' ', text)\n",
    "    \n",
    "    return text.strip()\n",
    "\n",
    "\n",
    "def get_valid_email_word(doc, top_k):\n",
    "    \"\"\"\n",
    "    Fonction principale pour récupérer les emails et les mots fréquents à partir d'URLs.\n",
    "    \n",
    "    Args:\n",
    "        doc: Chemin vers le fichier contenant les URLs à analyser\n",
    "        top_k: Nombre de mots les plus fréquents à retourner pour chaque URL\n",
    "    \n",
    "    Returns:\n",
    "        Dictionnaire avec les résultats pour chaque URL\n",
    "    \"\"\"\n",
    "    result_dict = {}\n",
    "    \n",
    "    # Compiler l'expression reguliere associee aux adresses email des sites Web\n",
    "    reMail = re.compile(r\"[A-Za-z0-9\\.\\-+]+@[A-Za-z0-9\\.\\-+]+\\.[a-zA-Z]{2,6}\")\n",
    "    \n",
    "    # Regex pour extraire des mots\n",
    "    reWord = re.compile(r\"\\b\\w+\\b\")\n",
    "    \n",
    "    with open(doc, 'r') as f:\n",
    "        for index, ligne in enumerate(f):\n",
    "            ligne = ligne.strip()\n",
    "            if not ligne:\n",
    "                continue\n",
    "                \n",
    "            email_and_words = {\"emails\": [], \"top_words\": []}\n",
    "            \n",
    "            try:\n",
    "                print(f\"Traitement de l'URL: {ligne}\")\n",
    "                \n",
    "                # Ajouter un User-Agent pour éviter d'être bloqué par certains sites\n",
    "                headers = {'User-Agent': 'Mozilla/5.0'}\n",
    "                req = urllib.request.Request(ligne, headers=headers)\n",
    "                \n",
    "                with urllib.request.urlopen(req, timeout=10) as page:\n",
    "                    # Ouverture de la page sous forme de fichier et on le rend lisible en harmonisant le texte\n",
    "                    contenu = page.read().decode('utf-8', errors='ignore')\n",
    "                    clean_text = extract_text_from_html(contenu)\n",
    "                    \n",
    "                    # Extraire les emails visibles\n",
    "                    email_and_words[\"emails\"] = reMail.findall(clean_text)\n",
    "                    \n",
    "                    # Extraire et compter les mots avec MapReduce\n",
    "                    words = reWord.findall(clean_text)\n",
    "                    word_counts = map_reduce(words, top_k)\n",
    "                    email_and_words[\"top_words\"] = word_counts\n",
    "                \n",
    "                result_dict[ligne] = email_and_words\n",
    "                \n",
    "            except Exception as e:\n",
    "                print(f\"Erreur pour la page {ligne}: {e}\")\n",
    "                \n",
    "    return result_dict\n",
    "\n",
    "\n",
    "def save_results_to_file(results, output_file):\n",
    "    \"\"\"\n",
    "    Sauvegarde les résultats dans un fichier texte formaté.\n",
    "    \n",
    "    Args:\n",
    "        results: Dictionnaire contenant les résultats pour chaque URL\n",
    "        output_file: Chemin du fichier de sortie\n",
    "    \"\"\"\n",
    "    with open(output_file, 'w', encoding='utf-8') as f:\n",
    "        for url, content in results.items():\n",
    "            f.write(f\"URL: {url}\\n\")\n",
    "            \n",
    "            f.write(\"Emails:\\n\")\n",
    "            for email in content[\"emails\"]:\n",
    "                f.write(f\"  - {email}\\n\")\n",
    "                \n",
    "            f.write(\"Top mots fréquents:\\n\")\n",
    "            for word, count in content[\"top_words\"]:\n",
    "                f.write(f\"  - {word}: {count}\\n\")\n",
    "                \n",
    "            f.write(\"\\n\" + \"-\"*50 + \"\\n\\n\")\n",
    "            \n",
    "    print(f\"Résultats écrits dans {output_file}\")\n",
    "\n",
    "\n",
    "# ----- EXÉCUTION PRINCIPALE -----\n",
    "\n",
    "if __name__ == \"__main__\":\n",
    "    # Exécuter l'extraction pour les URLs dans le fichier spécifié\n",
    "    results = get_valid_email_word(\"C:/Users/t/Downloads/URLs.txt\", 10)\n",
    "    \n",
    "    # Sauvegarder les résultats dans un fichier\n",
    "    save_results_to_file(results, \"RESULTATS.txt\")\n",
    "    \n",
    "    # Afficher le répertoire où le fichier a été enregistré\n",
    "    print(\"Fichier enregistré dans :\", os.getcwd())"
   ]
  },
  {
   "cell_type": "markdown",
   "metadata": {},
   "source": [
    "# EXERCICE 3"
   ]
  },
  {
   "cell_type": "markdown",
   "metadata": {},
   "source": [
    "Objectif : construire un modèle de score de crédit à partir du dataset HMEQ.\n",
    "Approche :\n",
    "- Analyse exploratoire et modélisation locale (Logistic Regression, Random Forest, XGBoost)\n",
    "- Sélection du meilleur modèle (XGBoost)\n",
    "- Entraînement et prédiction sur SageMaker"
   ]
  },
  {
   "cell_type": "code",
   "execution_count": null,
   "metadata": {},
   "outputs": [],
   "source": [
    "#Import des packages\n",
    "import pandas as pd\n",
    "import numpy as np\n",
    "import matplotlib.pyplot as plt\n",
    "import seaborn as sns\n",
    "from sklearn.model_selection import train_test_split, StratifiedKFold, GridSearchCV, cross_val_predict\n",
    "from sklearn.impute import SimpleImputer\n",
    "from sklearn.preprocessing import StandardScaler\n",
    "from sklearn.linear_model import LogisticRegression\n",
    "from sklearn.ensemble import RandomForestClassifier\n",
    "from xgboost import XGBClassifier\n",
    "from sklearn.metrics import (roc_auc_score, precision_score, recall_score, f1_score,\n",
    "                             confusion_matrix, ConfusionMatrixDisplay, classification_report,\n",
    "                             roc_curve, auc)"
   ]
  },
  {
   "cell_type": "code",
   "execution_count": null,
   "metadata": {},
   "outputs": [
    {
     "name": "stderr",
     "output_type": "stream",
     "text": [
      "c:\\Users\\t\\AppData\\Local\\Programs\\Python\\Python312\\Lib\\site-packages\\pydantic\\_internal\\_fields.py:198: UserWarning: Field name \"json\" in \"MonitoringDatasetFormat\" shadows an attribute in parent \"Base\"\n",
      "  warnings.warn(\n"
     ]
    },
    {
     "data": {
      "text/html": [
       "<pre style=\"white-space:pre;overflow-x:auto;line-height:normal;font-family:Menlo,'DejaVu Sans Mono',consolas,'Courier New',monospace\"><span style=\"color: #7fbfbf; text-decoration-color: #7fbfbf\">[04/22/25 05:55:52] </span><span style=\"color: #0069ff; text-decoration-color: #0069ff; font-weight: bold\">INFO    </span> Found credentials in shared credentials file: ~<span style=\"color: #e100e1; text-decoration-color: #e100e1\">/.aws/credentials</span>   <a href=\"file://c:\\Users\\t\\AppData\\Local\\Programs\\Python\\Python312\\Lib\\site-packages\\botocore\\credentials.py\" target=\"_blank\"><span style=\"color: #7f7f7f; text-decoration-color: #7f7f7f\">credentials.py</span></a><span style=\"color: #7f7f7f; text-decoration-color: #7f7f7f\">:</span><a href=\"file://c:\\Users\\t\\AppData\\Local\\Programs\\Python\\Python312\\Lib\\site-packages\\botocore\\credentials.py#1352\" target=\"_blank\"><span style=\"color: #7f7f7f; text-decoration-color: #7f7f7f\">1352</span></a>\n",
       "</pre>\n"
      ],
      "text/plain": [
       "\u001b[2;36m[04/22/25 05:55:52]\u001b[0m\u001b[2;36m \u001b[0m\u001b[1;38;2;0;105;255mINFO    \u001b[0m Found credentials in shared credentials file: ~\u001b[38;2;225;0;225m/.aws/\u001b[0m\u001b[38;2;225;0;225mcredentials\u001b[0m   \u001b]8;id=970919;file://c:\\Users\\t\\AppData\\Local\\Programs\\Python\\Python312\\Lib\\site-packages\\botocore\\credentials.py\u001b\\\u001b[2mcredentials.py\u001b[0m\u001b]8;;\u001b\\\u001b[2m:\u001b[0m\u001b]8;id=826079;file://c:\\Users\\t\\AppData\\Local\\Programs\\Python\\Python312\\Lib\\site-packages\\botocore\\credentials.py#1352\u001b\\\u001b[2m1352\u001b[0m\u001b]8;;\u001b\\\n"
      ]
     },
     "metadata": {},
     "output_type": "display_data"
    },
    {
     "name": "stdout",
     "output_type": "stream",
     "text": [
      "sagemaker.config INFO - Not applying SDK defaults from location: C:\\ProgramData\\sagemaker\\sagemaker\\config.yaml\n",
      "sagemaker.config INFO - Not applying SDK defaults from location: C:\\Users\\t\\AppData\\Local\\sagemaker\\sagemaker\\config.yaml\n"
     ]
    }
   ],
   "source": [
    "#Import des packages pour SageMaker\n",
    "import sagemaker\n",
    "import  boto3, os\n",
    "from sagemaker.debugger import Rule, ProfilerRule, rule_configs\n",
    "from sagemaker.session import TrainingInput"
   ]
  },
  {
   "cell_type": "code",
   "execution_count": null,
   "metadata": {},
   "outputs": [
    {
     "name": "stdout",
     "output_type": "stream",
     "text": [
      "(5961, 13)\n"
     ]
    },
    {
     "data": {
      "text/html": [
       "<div>\n",
       "<style scoped>\n",
       "    .dataframe tbody tr th:only-of-type {\n",
       "        vertical-align: middle;\n",
       "    }\n",
       "\n",
       "    .dataframe tbody tr th {\n",
       "        vertical-align: top;\n",
       "    }\n",
       "\n",
       "    .dataframe thead th {\n",
       "        text-align: right;\n",
       "    }\n",
       "</style>\n",
       "<table border=\"1\" class=\"dataframe\">\n",
       "  <thead>\n",
       "    <tr style=\"text-align: right;\">\n",
       "      <th></th>\n",
       "      <th>bad</th>\n",
       "      <th>loan</th>\n",
       "      <th>mortdue</th>\n",
       "      <th>value</th>\n",
       "      <th>reason</th>\n",
       "      <th>job</th>\n",
       "      <th>yoj</th>\n",
       "      <th>derog</th>\n",
       "      <th>delinq</th>\n",
       "      <th>clage</th>\n",
       "      <th>ninq</th>\n",
       "      <th>clno</th>\n",
       "      <th>debtinc</th>\n",
       "    </tr>\n",
       "  </thead>\n",
       "  <tbody>\n",
       "    <tr>\n",
       "      <th>0</th>\n",
       "      <td>1.0</td>\n",
       "      <td>1100.0</td>\n",
       "      <td>25860.0</td>\n",
       "      <td>39025.0</td>\n",
       "      <td>HomeImp</td>\n",
       "      <td>Other</td>\n",
       "      <td>10.5</td>\n",
       "      <td>0.0</td>\n",
       "      <td>0.0</td>\n",
       "      <td>94.37</td>\n",
       "      <td>1.0</td>\n",
       "      <td>9.0</td>\n",
       "      <td>NaN</td>\n",
       "    </tr>\n",
       "    <tr>\n",
       "      <th>1</th>\n",
       "      <td>1.0</td>\n",
       "      <td>1300.0</td>\n",
       "      <td>70053.0</td>\n",
       "      <td>68400.0</td>\n",
       "      <td>HomeImp</td>\n",
       "      <td>Other</td>\n",
       "      <td>7.0</td>\n",
       "      <td>0.0</td>\n",
       "      <td>2.0</td>\n",
       "      <td>121.83</td>\n",
       "      <td>0.0</td>\n",
       "      <td>14.0</td>\n",
       "      <td>NaN</td>\n",
       "    </tr>\n",
       "    <tr>\n",
       "      <th>2</th>\n",
       "      <td>1.0</td>\n",
       "      <td>1500.0</td>\n",
       "      <td>13500.0</td>\n",
       "      <td>16700.0</td>\n",
       "      <td>HomeImp</td>\n",
       "      <td>Other</td>\n",
       "      <td>4.0</td>\n",
       "      <td>0.0</td>\n",
       "      <td>0.0</td>\n",
       "      <td>149.47</td>\n",
       "      <td>1.0</td>\n",
       "      <td>10.0</td>\n",
       "      <td>NaN</td>\n",
       "    </tr>\n",
       "    <tr>\n",
       "      <th>3</th>\n",
       "      <td>1.0</td>\n",
       "      <td>1500.0</td>\n",
       "      <td>NaN</td>\n",
       "      <td>NaN</td>\n",
       "      <td>NaN</td>\n",
       "      <td>NaN</td>\n",
       "      <td>NaN</td>\n",
       "      <td>NaN</td>\n",
       "      <td>NaN</td>\n",
       "      <td>NaN</td>\n",
       "      <td>NaN</td>\n",
       "      <td>NaN</td>\n",
       "      <td>NaN</td>\n",
       "    </tr>\n",
       "    <tr>\n",
       "      <th>4</th>\n",
       "      <td>0.0</td>\n",
       "      <td>1700.0</td>\n",
       "      <td>97800.0</td>\n",
       "      <td>112000.0</td>\n",
       "      <td>HomeImp</td>\n",
       "      <td>Office</td>\n",
       "      <td>3.0</td>\n",
       "      <td>0.0</td>\n",
       "      <td>0.0</td>\n",
       "      <td>93.33</td>\n",
       "      <td>0.0</td>\n",
       "      <td>14.0</td>\n",
       "      <td>NaN</td>\n",
       "    </tr>\n",
       "  </tbody>\n",
       "</table>\n",
       "</div>"
      ],
      "text/plain": [
       "   bad    loan  mortdue     value   reason     job   yoj  derog  delinq  \\\n",
       "0  1.0  1100.0  25860.0   39025.0  HomeImp   Other  10.5    0.0     0.0   \n",
       "1  1.0  1300.0  70053.0   68400.0  HomeImp   Other   7.0    0.0     2.0   \n",
       "2  1.0  1500.0  13500.0   16700.0  HomeImp   Other   4.0    0.0     0.0   \n",
       "3  1.0  1500.0      NaN       NaN      NaN     NaN   NaN    NaN     NaN   \n",
       "4  0.0  1700.0  97800.0  112000.0  HomeImp  Office   3.0    0.0     0.0   \n",
       "\n",
       "    clage  ninq  clno  debtinc  \n",
       "0   94.37   1.0   9.0      NaN  \n",
       "1  121.83   0.0  14.0      NaN  \n",
       "2  149.47   1.0  10.0      NaN  \n",
       "3     NaN   NaN   NaN      NaN  \n",
       "4   93.33   0.0  14.0      NaN  "
      ]
     },
     "execution_count": 2,
     "metadata": {},
     "output_type": "execute_result"
    }
   ],
   "source": [
    "# Import des données  \n",
    "df = pd.read_csv(\"C:/Users/t/Downloads/tab_credit.csv\",sep=\",\")\n",
    "print(df.shape)\n",
    "df.head(5)"
   ]
  },
  {
   "cell_type": "markdown",
   "metadata": {},
   "source": [
    "## Analyse exploratoire des données"
   ]
  },
  {
   "cell_type": "code",
   "execution_count": 3,
   "metadata": {},
   "outputs": [
    {
     "name": "stdout",
     "output_type": "stream",
     "text": [
      "<class 'pandas.core.frame.DataFrame'>\n",
      "RangeIndex: 5961 entries, 0 to 5960\n",
      "Data columns (total 13 columns):\n",
      " #   Column   Non-Null Count  Dtype  \n",
      "---  ------   --------------  -----  \n",
      " 0   bad      5961 non-null   float64\n",
      " 1   loan     5961 non-null   float64\n",
      " 2   mortdue  5443 non-null   float64\n",
      " 3   value    5849 non-null   float64\n",
      " 4   reason   5709 non-null   object \n",
      " 5   job      5682 non-null   object \n",
      " 6   yoj      5446 non-null   float64\n",
      " 7   derog    5253 non-null   float64\n",
      " 8   delinq   5381 non-null   float64\n",
      " 9   clage    5653 non-null   float64\n",
      " 10  ninq     5451 non-null   float64\n",
      " 11  clno     5739 non-null   float64\n",
      " 12  debtinc  4694 non-null   float64\n",
      "dtypes: float64(11), object(2)\n",
      "memory usage: 605.5+ KB\n"
     ]
    }
   ],
   "source": [
    "# Vérification des types\n",
    "df.info()"
   ]
  },
  {
   "cell_type": "code",
   "execution_count": 19,
   "metadata": {},
   "outputs": [
    {
     "data": {
      "text/plain": [
       "'\\nTaux de valeurs manquantes :\\n'"
      ]
     },
     "metadata": {},
     "output_type": "display_data"
    },
    {
     "data": {
      "text/plain": [
       "debtinc    0.212548\n",
       "derog      0.118772\n",
       "delinq     0.097299\n",
       "mortdue    0.086898\n",
       "yoj        0.086395\n",
       "ninq       0.085556\n",
       "clage      0.051669\n",
       "job        0.046804\n",
       "reason     0.042275\n",
       "clno       0.037242\n",
       "value      0.018789\n",
       "dtype: float64"
      ]
     },
     "metadata": {},
     "output_type": "display_data"
    }
   ],
   "source": [
    "# Analyse des valeurs manquantes\n",
    "missing = df.isnull().mean().sort_values(ascending=False)\n",
    "display(\"\\nTaux de valeurs manquantes :\\n\", missing[missing > 0])"
   ]
  },
  {
   "cell_type": "code",
   "execution_count": null,
   "metadata": {},
   "outputs": [
    {
     "data": {
      "image/png": "[encoded data removed]",
      "text/plain": [
       "<Figure size 1800x800 with 10 Axes>"
      ]
     },
     "metadata": {},
     "output_type": "display_data"
    }
   ],
   "source": [
    "#Voyons le comportement des outliers pour mieux adapter notre approche d'imputation ds valeurs manquantes\n",
    "\n",
    "info_df_num = df.select_dtypes(include=['float64', 'int64'])\n",
    "\n",
    "fig, axes = plt.subplots(2, 5, figsize=(18, 8))\n",
    "axes = axes.flatten()\n",
    "\n",
    "vars_to_plot = [v for v in info_df_num.columns if v != \"bad\"]\n",
    "\n",
    "for i, v in enumerate(vars_to_plot):\n",
    "    sns.boxplot(y=df[v], ax=axes[i], color='skyblue')\n",
    "    axes[i].set_title(v)\n",
    "\n",
    "plt.tight_layout()\n",
    "plt.show()"
   ]
  },
  {
   "cell_type": "markdown",
   "metadata": {},
   "source": [
    "Les variables numeriques ont beaucoup de valeurs extremes,on va donc adopter une approche d'imputation par la mediane pour ces dernieres."
   ]
  },
  {
   "cell_type": "markdown",
   "metadata": {},
   "source": [
    "## Séparation du jeu de données train/ test"
   ]
  },
  {
   "cell_type": "code",
   "execution_count": 7,
   "metadata": {},
   "outputs": [
    {
     "data": {
      "text/plain": [
       "<seaborn.axisgrid.FacetGrid at 0x190ff9e8b60>"
      ]
     },
     "execution_count": 7,
     "metadata": {},
     "output_type": "execute_result"
    },
    {
     "data": {
      "image/png": "[encoded data removed]",
      "text/plain": [
       "<Figure size 511.111x500 with 1 Axes>"
      ]
     },
     "metadata": {},
     "output_type": "display_data"
    }
   ],
   "source": [
    "# définir la variable cible\n",
    "target = \"bad\"\n",
    "sns.catplot(x=target,kind=\"count\",data=df)"
   ]
  },
  {
   "cell_type": "code",
   "execution_count": 8,
   "metadata": {},
   "outputs": [
    {
     "name": "stdout",
     "output_type": "stream",
     "text": [
      "\n",
      "Distribution de la variable cible bad :\n",
      "bad\n",
      "0.0    0.800537\n",
      "1.0    0.199463\n",
      "Name: proportion, dtype: float64\n"
     ]
    }
   ],
   "source": [
    "# Distribution de la variable cible\n",
    "print(\"\\nDistribution de la variable cible bad :\")\n",
    "print(df[target].value_counts(normalize=True))"
   ]
  },
  {
   "cell_type": "markdown",
   "metadata": {},
   "source": [
    "La variable cible est désiquilibrée. Nous allons utiliser donc la notion d'échantillon stratifié : pour avoir la même répartion dans les 2 jeux de données Test et train."
   ]
  },
  {
   "cell_type": "code",
   "execution_count": 9,
   "metadata": {},
   "outputs": [],
   "source": [
    "#Création d'un jeu de données d'apprentissage, de test, on utilisera la methode cross validation pour valider les modeles\n",
    "\n",
    "X = df.drop(columns=target)\n",
    "y = df[target]\n",
    "\n",
    "X_train, X_test, y_train, y_test = train_test_split(\n",
    "    X, y, test_size=0.3, stratify=y, random_state=42\n",
    ")  "
   ]
  },
  {
   "cell_type": "markdown",
   "metadata": {},
   "source": [
    "## Traitement des variables catégorielles "
   ]
  },
  {
   "cell_type": "code",
   "execution_count": 10,
   "metadata": {},
   "outputs": [
    {
     "name": "stdout",
     "output_type": "stream",
     "text": [
      "\n",
      " Modalités et occurrences pour 'reason':\n",
      "\n",
      "reason\n",
      "DebtCon    3929\n",
      "HomeImp    1780\n",
      "Name: count, dtype: int64\n",
      "----------------------------------------\n",
      "\n",
      " Modalités et occurrences pour 'job':\n",
      "\n",
      "job\n",
      "Other     2389\n",
      "ProfEx    1276\n",
      "Office     948\n",
      "Mgr        767\n",
      "Self       193\n",
      "Sales      109\n",
      "Name: count, dtype: int64\n",
      "----------------------------------------\n"
     ]
    }
   ],
   "source": [
    "#Voyons combien de modalites par variables pour savoir comment les encoder\n",
    "\n",
    "#def afficher_modalites_occurrences(df, exclude_cols=['Booking_ID']):\n",
    "def afficher_modalites_occurrences(df):\n",
    "    \"\"\" Affiche toutes les modalités et leurs occurrences pour chaque variable catégorielle \"\"\"\n",
    "    #categoricals = df.select_dtypes(include=['object', 'category']).drop(columns=exclude_cols, errors='ignore')\n",
    "    categoricals = df.select_dtypes(include=['object', 'category'])\n",
    "    \n",
    "    for col in categoricals.columns:\n",
    "        print(f\"\\n Modalités et occurrences pour '{col}':\\n\")\n",
    "        print(df[col].value_counts())\n",
    "        print(\"-\" * 40)\n",
    "\n",
    "\n",
    "afficher_modalites_occurrences(df)"
   ]
  },
  {
   "cell_type": "markdown",
   "metadata": {},
   "source": [
    "Pour les 2 variables catégorielles, le nombre de modalités distinctes est assez faible, nous allons créer une variable indicatrice par modalité et les valeurs manquantes seront considérées comme une modalité à part entière."
   ]
  },
  {
   "cell_type": "code",
   "execution_count": 12,
   "metadata": {},
   "outputs": [],
   "source": [
    "# Pour les variables avec peu de modalité, passage en indicatrice\n",
    "info_types = pd.DataFrame(df.dtypes)\n",
    "list_var_cat_dum = info_types[info_types[0]==\"object\"].index.tolist()\n",
    " \n",
    "# dummy_na = True : création d'une indicatrice pour les valeurs manquantes\n",
    "X_train = pd.concat([X_train,pd.get_dummies(X_train[list_var_cat_dum],prefix=list_var_cat_dum,\n",
    "                                  dummy_na = True,drop_first=True)],axis = 1)\n",
    "\n",
    "X_test = pd.concat([X_test,pd.get_dummies(X_test[list_var_cat_dum],prefix=list_var_cat_dum,\n",
    "                                  dummy_na = True,drop_first=True)], axis = 1)"
   ]
  },
  {
   "cell_type": "code",
   "execution_count": 13,
   "metadata": {},
   "outputs": [],
   "source": [
    "#On supprime les variables initiales du jeu de donnees\n",
    "X_train = X_train.drop(columns = ['reason', 'job'])\n",
    "X_test = X_test.drop(columns = ['reason', 'job'])"
   ]
  },
  {
   "cell_type": "markdown",
   "metadata": {},
   "source": [
    "## Imputation des données manquantes numeriques\n",
    "\n",
    "Nous allons remplacer les valeurs manquantes par la médiane du jeu d'apprentissage.\n",
    "Nous avons ainsi procede car dans une situation opérationnelle, on ne connait pas le jeu de donnees a predire, il faudra donc remplacer les valeurs manquantes par la médiane du jeu d'apprentissage du modele pour eviter des biais dans la prediction!"
   ]
  },
  {
   "cell_type": "code",
   "execution_count": 20,
   "metadata": {},
   "outputs": [],
   "source": [
    "for v in info_df_num.columns.tolist():\n",
    "    if v != target :\n",
    "        tmp = X_train[v].isnull().sum() +X_test[v].isnull().sum()\n",
    "        if tmp > 0 :\n",
    "            v_missing = v + \"_missing\"\n",
    "            X_train[v_missing] = np.where(X_train[v].isnull(),1,0)\n",
    "            X_test[v_missing] = np.where(X_test[v].isnull(),1,0)\n",
    "            median_app = X_train[v].median()\n",
    "            X_train[v].fillna(median_app,inplace = True)\n",
    "            X_test[v].fillna(median_app,inplace = True)   ##### --> Valeur de la moyenne de l'apprentissage"
   ]
  },
  {
   "cell_type": "markdown",
   "metadata": {},
   "source": [
    "## Modélisation"
   ]
  },
  {
   "cell_type": "code",
   "execution_count": 15,
   "metadata": {},
   "outputs": [
    {
     "name": "stdout",
     "output_type": "stream",
     "text": [
      "Fitting 5 folds for each of 36 candidates, totalling 180 fits\n",
      "Fitting 5 folds for each of 54 candidates, totalling 270 fits\n"
     ]
    },
    {
     "name": "stderr",
     "output_type": "stream",
     "text": [
      "c:\\Users\\t\\AppData\\Local\\Programs\\Python\\Python312\\Lib\\site-packages\\xgboost\\training.py:183: UserWarning: [23:15:23] WARNING: C:\\actions-runner\\_work\\xgboost\\xgboost\\src\\learner.cc:738: \n",
      "Parameters: { \"use_label_encoder\" } are not used.\n",
      "\n",
      "  bst.update(dtrain, iteration=i, fobj=obj)\n",
      "c:\\Users\\t\\AppData\\Local\\Programs\\Python\\Python312\\Lib\\site-packages\\xgboost\\training.py:183: UserWarning: [23:15:25] WARNING: C:\\actions-runner\\_work\\xgboost\\xgboost\\src\\learner.cc:738: \n",
      "Parameters: { \"use_label_encoder\" } are not used.\n",
      "\n",
      "  bst.update(dtrain, iteration=i, fobj=obj)\n",
      "c:\\Users\\t\\AppData\\Local\\Programs\\Python\\Python312\\Lib\\site-packages\\xgboost\\training.py:183: UserWarning: [23:15:27] WARNING: C:\\actions-runner\\_work\\xgboost\\xgboost\\src\\learner.cc:738: \n",
      "Parameters: { \"use_label_encoder\" } are not used.\n",
      "\n",
      "  bst.update(dtrain, iteration=i, fobj=obj)\n",
      "c:\\Users\\t\\AppData\\Local\\Programs\\Python\\Python312\\Lib\\site-packages\\xgboost\\training.py:183: UserWarning: [23:15:29] WARNING: C:\\actions-runner\\_work\\xgboost\\xgboost\\src\\learner.cc:738: \n",
      "Parameters: { \"use_label_encoder\" } are not used.\n",
      "\n",
      "  bst.update(dtrain, iteration=i, fobj=obj)\n",
      "c:\\Users\\t\\AppData\\Local\\Programs\\Python\\Python312\\Lib\\site-packages\\xgboost\\training.py:183: UserWarning: [23:15:30] WARNING: C:\\actions-runner\\_work\\xgboost\\xgboost\\src\\learner.cc:738: \n",
      "Parameters: { \"use_label_encoder\" } are not used.\n",
      "\n",
      "  bst.update(dtrain, iteration=i, fobj=obj)\n",
      "c:\\Users\\t\\AppData\\Local\\Programs\\Python\\Python312\\Lib\\site-packages\\xgboost\\training.py:183: UserWarning: [23:15:32] WARNING: C:\\actions-runner\\_work\\xgboost\\xgboost\\src\\learner.cc:738: \n",
      "Parameters: { \"use_label_encoder\" } are not used.\n",
      "\n",
      "  bst.update(dtrain, iteration=i, fobj=obj)\n",
      "c:\\Users\\t\\AppData\\Local\\Programs\\Python\\Python312\\Lib\\site-packages\\xgboost\\training.py:183: UserWarning: [23:15:33] WARNING: C:\\actions-runner\\_work\\xgboost\\xgboost\\src\\learner.cc:738: \n",
      "Parameters: { \"use_label_encoder\" } are not used.\n",
      "\n",
      "  bst.update(dtrain, iteration=i, fobj=obj)\n",
      "c:\\Users\\t\\AppData\\Local\\Programs\\Python\\Python312\\Lib\\site-packages\\xgboost\\training.py:183: UserWarning: [23:15:34] WARNING: C:\\actions-runner\\_work\\xgboost\\xgboost\\src\\learner.cc:738: \n",
      "Parameters: { \"use_label_encoder\" } are not used.\n",
      "\n",
      "  bst.update(dtrain, iteration=i, fobj=obj)\n",
      "c:\\Users\\t\\AppData\\Local\\Programs\\Python\\Python312\\Lib\\site-packages\\xgboost\\training.py:183: UserWarning: [23:15:36] WARNING: C:\\actions-runner\\_work\\xgboost\\xgboost\\src\\learner.cc:738: \n",
      "Parameters: { \"use_label_encoder\" } are not used.\n",
      "\n",
      "  bst.update(dtrain, iteration=i, fobj=obj)\n",
      "c:\\Users\\t\\AppData\\Local\\Programs\\Python\\Python312\\Lib\\site-packages\\xgboost\\training.py:183: UserWarning: [23:15:37] WARNING: C:\\actions-runner\\_work\\xgboost\\xgboost\\src\\learner.cc:738: \n",
      "Parameters: { \"use_label_encoder\" } are not used.\n",
      "\n",
      "  bst.update(dtrain, iteration=i, fobj=obj)\n",
      "c:\\Users\\t\\AppData\\Local\\Programs\\Python\\Python312\\Lib\\site-packages\\xgboost\\training.py:183: UserWarning: [23:15:39] WARNING: C:\\actions-runner\\_work\\xgboost\\xgboost\\src\\learner.cc:738: \n",
      "Parameters: { \"use_label_encoder\" } are not used.\n",
      "\n",
      "  bst.update(dtrain, iteration=i, fobj=obj)\n"
     ]
    }
   ],
   "source": [
    "#####  Standardisation des données pour la Régression Logistique #####\n",
    "scaler = StandardScaler()\n",
    "X_train_scaled = scaler.fit_transform(X_train)\n",
    "\n",
    "cv = StratifiedKFold(n_splits=5, shuffle=True, random_state=42) \n",
    "\n",
    "##### Régression Logistique #####\n",
    "logreg = LogisticRegression(class_weight='balanced', random_state=42, max_iter=1000) #Utilisation de class_weight='balanced' pour gérer le déséquilibre de classes (20% de BAD = 1)\n",
    "y_pred_log = cross_val_predict(logreg, X_train_scaled, y_train, cv=cv, method='predict')\n",
    "y_prob_log = cross_val_predict(logreg, X_train_scaled, y_train, cv=cv, method='predict_proba')[:, 1]\n",
    "\n",
    "##### Random Forest avec GridSearch #####\n",
    "\n",
    "rf_param_grid = {\n",
    "    'n_estimators': [200, 500, 700],\n",
    "    'max_depth': [10, 20, 30],\n",
    "    'min_samples_split': [2, 3],\n",
    "    'min_samples_leaf': [1, 2]\n",
    "}\n",
    "\n",
    "rf_grid = GridSearchCV(\n",
    "    RandomForestClassifier(class_weight='balanced', random_state=42), # Utilisation de class_weight='balanced' pour gérer le déséquilibre de classes (20% de BAD = 1)\n",
    "    param_grid=rf_param_grid,\n",
    "    scoring='roc_auc',\n",
    "    cv=cv,\n",
    "    n_jobs=-1,\n",
    "    verbose=1\n",
    ")\n",
    "rf_grid.fit(X_train, y_train)\n",
    "\n",
    "best_rf = rf_grid.best_estimator_\n",
    "y_pred_rf = cross_val_predict(best_rf, X_train, y_train, cv = cv, method='predict')\n",
    "y_prob_rf = cross_val_predict(best_rf, X_train, y_train, cv = cv, method='predict_proba')[:, 1]\n",
    "\n",
    "##### XGBoost avec GridSearch #####\n",
    "xgb_param_grid = {\n",
    "    'n_estimators': [300, 500, 700],\n",
    "    'max_depth': [6, 7, 8],\n",
    "    'learning_rate': [0.2, 0.3],\n",
    "    'subsample': [0.7, 0.8, 0.9]\n",
    "}\n",
    "\n",
    "xgb_grid = GridSearchCV(\n",
    "    XGBClassifier(use_label_encoder=False, eval_metric='logloss', random_state=42),\n",
    "    param_grid=xgb_param_grid,\n",
    "    scoring='roc_auc',\n",
    "    cv=cv,\n",
    "    n_jobs=-1,\n",
    "    verbose=1\n",
    ")\n",
    "xgb_grid.fit(X_train, y_train)\n",
    "\n",
    "best_xgb = xgb_grid.best_estimator_\n",
    "y_pred_xgb = cross_val_predict(best_xgb, X_train, y_train, cv=cv, method='predict')\n",
    "y_prob_xgb = cross_val_predict(best_xgb, X_train, y_train, cv=cv, method='predict_proba')[:, 1]"
   ]
  },
  {
   "cell_type": "code",
   "execution_count": 16,
   "metadata": {},
   "outputs": [
    {
     "name": "stdout",
     "output_type": "stream",
     "text": [
      "\n",
      " Évaluation des modèles (CV sur X_train) :\n",
      "\n",
      "                        AUC  Précision  Rappel  F1-score\n",
      "Logistic Regression  0.9059     0.6053  0.7981    0.6884\n",
      "Random Forest        0.9567     0.8381  0.6719    0.7458\n",
      "XGBoost              0.9584     0.8675  0.7476    0.8031\n",
      "\n",
      " Meilleurs paramètres trouvés :\n",
      "\n",
      "Random Forest : {'max_depth': 30, 'min_samples_leaf': 1, 'min_samples_split': 2, 'n_estimators': 700}\n",
      "XGBoost       : {'learning_rate': 0.2, 'max_depth': 7, 'n_estimators': 500, 'subsample': 0.8}\n"
     ]
    }
   ],
   "source": [
    "##### Comparaison des modèles #####\n",
    "\n",
    "def eval_metrics(y_true, y_pred, y_proba):\n",
    "    return {\n",
    "        \"AUC\": roc_auc_score(y_true, y_proba),\n",
    "        \"Précision\": precision_score(y_true, y_pred),\n",
    "        \"Rappel\": recall_score(y_true, y_pred),\n",
    "        \"F1-score\": f1_score(y_true, y_pred)\n",
    "    }\n",
    "\n",
    "results = {\n",
    "    \"Logistic Regression\": eval_metrics(y_train, y_pred_log, y_prob_log),\n",
    "    \"Random Forest\": eval_metrics(y_train, y_pred_rf, y_prob_rf),\n",
    "    \"XGBoost\": eval_metrics(y_train, y_pred_xgb, y_prob_xgb)\n",
    "}\n",
    "\n",
    "# Print\n",
    "df_results = pd.DataFrame(results).T.round(4)\n",
    "print(\"\\n Évaluation des modèles (CV sur X_train) :\\n\")\n",
    "print(df_results)\n",
    "\n",
    "# Meilleurs hyperparamètres des modèles ensemblistes\n",
    "print(\"\\n Meilleurs paramètres trouvés :\\n\")\n",
    "print(\"Random Forest :\", rf_grid.best_params_)\n",
    "print(\"XGBoost       :\", xgb_grid.best_params_)"
   ]
  },
  {
   "cell_type": "markdown",
   "metadata": {},
   "source": [
    "On voit que la regression logistique détecte beaucoup de défaillants(rappel : 0.7981),  mais a une faible précision (0.6053) il alerte a tort la banque.\n",
    "\n",
    "Le Random Forest offre un excellent compromis entre précision et rappel (F1-score = 0.7458).\n",
    "\n",
    "Le modele XGBoost pour sa part donne un meilleur compromis que le Random Forest et la regressin logistique (F1-score: 0.8031). Il distingue mieux les clients à risque, ceci en limitant les faux positifs. C’est le meilleur modèle en termes de performance globale.\n",
    "Le modèle XGBoost est donc retenu comme modèle final et sera déployé dans SageMaker pour prédiction sur l’ensemble de test en utilisant les hyperparametres trouves par la methode Grid Search."
   ]
  },
  {
   "cell_type": "markdown",
   "metadata": {},
   "source": [
    "## Interpretabilite du meilleur modèle"
   ]
  },
  {
   "cell_type": "code",
   "execution_count": null,
   "metadata": {},
   "outputs": [
    {
     "data": {
      "image/png": "[encoded data removed]",
      "text/plain": [
       "<Figure size 1000x800 with 1 Axes>"
      ]
     },
     "metadata": {},
     "output_type": "display_data"
    }
   ],
   "source": [
    "# Importance des variables en considerant le meilleur modèle : XGBoost\n",
    "importances = best_xgb.feature_importances_\n",
    "feature_names = X_train.columns  # ou remplacer si tu as modifié l'ordre\n",
    "\n",
    "# Affichage trié des importances\n",
    "pd.Series(importances, index=feature_names).sort_values(ascending=True).plot(\n",
    "    kind='barh', figsize=(10, 8), color='skyblue', title=\"Importance des variables - XGBoost\"\n",
    ")\n",
    "plt.xlabel(\"Importance\")\n",
    "plt.tight_layout()\n",
    "plt.show()"
   ]
  },
  {
   "cell_type": "markdown",
   "metadata": {},
   "source": [
    "On voit que le fait de ne pas connaître les variables debtinc (Ratio dette sur revenu) et value (valeur de la propriété) sont fortement lié à un risque de défaut. \n",
    "Les clients dont on ne connaît pas le revenu, pour pouvoir estimer leur taux d’endettement et pour lesquels ont n'a pas une estimation de la valeur de la propriété sont plus risqués."
   ]
  },
  {
   "cell_type": "markdown",
   "metadata": {},
   "source": [
    "## Entraînement et prédiction sur SageMaker"
   ]
  },
  {
   "cell_type": "code",
   "execution_count": null,
   "metadata": {},
   "outputs": [],
   "source": [
    "# Préparation des données pour SageMaker\n",
    "X_train, X_val, y_train, y_val = train_test_split(X_train, y_train, test_size=0.25, stratify=y_train, random_state=42)"
   ]
  },
  {
   "cell_type": "code",
   "execution_count": 22,
   "metadata": {},
   "outputs": [],
   "source": [
    "import pandas as pd\n",
    "train = pd.concat([pd.Series(y_train, index=X_train.index,\n",
    "                             name='bad', dtype=int), X_train], axis=1)\n",
    "validation = pd.concat([pd.Series(y_val, index=X_val.index,\n",
    "                            name='bad', dtype=int), X_val], axis=1)\n",
    "test = pd.concat([pd.Series(y_test, index=X_test.index,\n",
    "                            name='bad', dtype=int), X_test], axis=1)"
   ]
  },
  {
   "cell_type": "code",
   "execution_count": 23,
   "metadata": {},
   "outputs": [
    {
     "data": {
      "text/html": [
       "<div>\n",
       "<style scoped>\n",
       "    .dataframe tbody tr th:only-of-type {\n",
       "        vertical-align: middle;\n",
       "    }\n",
       "\n",
       "    .dataframe tbody tr th {\n",
       "        vertical-align: top;\n",
       "    }\n",
       "\n",
       "    .dataframe thead th {\n",
       "        text-align: right;\n",
       "    }\n",
       "</style>\n",
       "<table border=\"1\" class=\"dataframe\">\n",
       "  <thead>\n",
       "    <tr style=\"text-align: right;\">\n",
       "      <th></th>\n",
       "      <th>bad</th>\n",
       "      <th>loan</th>\n",
       "      <th>mortdue</th>\n",
       "      <th>value</th>\n",
       "      <th>yoj</th>\n",
       "      <th>derog</th>\n",
       "      <th>delinq</th>\n",
       "      <th>clage</th>\n",
       "      <th>ninq</th>\n",
       "      <th>clno</th>\n",
       "      <th>...</th>\n",
       "      <th>job_nan</th>\n",
       "      <th>mortdue_missing</th>\n",
       "      <th>value_missing</th>\n",
       "      <th>yoj_missing</th>\n",
       "      <th>derog_missing</th>\n",
       "      <th>delinq_missing</th>\n",
       "      <th>clage_missing</th>\n",
       "      <th>ninq_missing</th>\n",
       "      <th>clno_missing</th>\n",
       "      <th>debtinc_missing</th>\n",
       "    </tr>\n",
       "  </thead>\n",
       "  <tbody>\n",
       "    <tr>\n",
       "      <th>4941</th>\n",
       "      <td>0</td>\n",
       "      <td>26100.0</td>\n",
       "      <td>73923.275118</td>\n",
       "      <td>36277.0</td>\n",
       "      <td>9.0</td>\n",
       "      <td>0.0</td>\n",
       "      <td>0.456112</td>\n",
       "      <td>79.33</td>\n",
       "      <td>1.188121</td>\n",
       "      <td>13.0</td>\n",
       "      <td>...</td>\n",
       "      <td>False</td>\n",
       "      <td>1</td>\n",
       "      <td>0</td>\n",
       "      <td>0</td>\n",
       "      <td>0</td>\n",
       "      <td>1</td>\n",
       "      <td>0</td>\n",
       "      <td>1</td>\n",
       "      <td>0</td>\n",
       "      <td>0</td>\n",
       "    </tr>\n",
       "    <tr>\n",
       "      <th>3749</th>\n",
       "      <td>0</td>\n",
       "      <td>19900.0</td>\n",
       "      <td>25589.000000</td>\n",
       "      <td>90051.0</td>\n",
       "      <td>8.0</td>\n",
       "      <td>0.0</td>\n",
       "      <td>0.000000</td>\n",
       "      <td>138.99</td>\n",
       "      <td>0.000000</td>\n",
       "      <td>20.0</td>\n",
       "      <td>...</td>\n",
       "      <td>False</td>\n",
       "      <td>0</td>\n",
       "      <td>0</td>\n",
       "      <td>0</td>\n",
       "      <td>0</td>\n",
       "      <td>0</td>\n",
       "      <td>0</td>\n",
       "      <td>0</td>\n",
       "      <td>0</td>\n",
       "      <td>0</td>\n",
       "    </tr>\n",
       "    <tr>\n",
       "      <th>780</th>\n",
       "      <td>0</td>\n",
       "      <td>8400.0</td>\n",
       "      <td>57103.000000</td>\n",
       "      <td>78079.0</td>\n",
       "      <td>0.0</td>\n",
       "      <td>0.0</td>\n",
       "      <td>0.000000</td>\n",
       "      <td>56.31</td>\n",
       "      <td>8.000000</td>\n",
       "      <td>21.0</td>\n",
       "      <td>...</td>\n",
       "      <td>False</td>\n",
       "      <td>0</td>\n",
       "      <td>0</td>\n",
       "      <td>0</td>\n",
       "      <td>0</td>\n",
       "      <td>0</td>\n",
       "      <td>0</td>\n",
       "      <td>0</td>\n",
       "      <td>0</td>\n",
       "      <td>0</td>\n",
       "    </tr>\n",
       "    <tr>\n",
       "      <th>5028</th>\n",
       "      <td>0</td>\n",
       "      <td>26700.0</td>\n",
       "      <td>81968.000000</td>\n",
       "      <td>114647.0</td>\n",
       "      <td>10.0</td>\n",
       "      <td>0.0</td>\n",
       "      <td>1.000000</td>\n",
       "      <td>126.71</td>\n",
       "      <td>0.000000</td>\n",
       "      <td>19.0</td>\n",
       "      <td>...</td>\n",
       "      <td>False</td>\n",
       "      <td>0</td>\n",
       "      <td>0</td>\n",
       "      <td>0</td>\n",
       "      <td>0</td>\n",
       "      <td>0</td>\n",
       "      <td>0</td>\n",
       "      <td>0</td>\n",
       "      <td>0</td>\n",
       "      <td>0</td>\n",
       "    </tr>\n",
       "    <tr>\n",
       "      <th>5775</th>\n",
       "      <td>0</td>\n",
       "      <td>46100.0</td>\n",
       "      <td>73923.275118</td>\n",
       "      <td>86132.0</td>\n",
       "      <td>10.0</td>\n",
       "      <td>0.0</td>\n",
       "      <td>0.000000</td>\n",
       "      <td>301.93</td>\n",
       "      <td>0.000000</td>\n",
       "      <td>13.0</td>\n",
       "      <td>...</td>\n",
       "      <td>False</td>\n",
       "      <td>1</td>\n",
       "      <td>0</td>\n",
       "      <td>0</td>\n",
       "      <td>0</td>\n",
       "      <td>0</td>\n",
       "      <td>0</td>\n",
       "      <td>0</td>\n",
       "      <td>0</td>\n",
       "      <td>0</td>\n",
       "    </tr>\n",
       "  </tbody>\n",
       "</table>\n",
       "<p>5 rows × 28 columns</p>\n",
       "</div>"
      ],
      "text/plain": [
       "      bad     loan       mortdue     value   yoj  derog    delinq   clage  \\\n",
       "4941    0  26100.0  73923.275118   36277.0   9.0    0.0  0.456112   79.33   \n",
       "3749    0  19900.0  25589.000000   90051.0   8.0    0.0  0.000000  138.99   \n",
       "780     0   8400.0  57103.000000   78079.0   0.0    0.0  0.000000   56.31   \n",
       "5028    0  26700.0  81968.000000  114647.0  10.0    0.0  1.000000  126.71   \n",
       "5775    0  46100.0  73923.275118   86132.0  10.0    0.0  0.000000  301.93   \n",
       "\n",
       "          ninq  clno  ...  job_nan  mortdue_missing  value_missing  \\\n",
       "4941  1.188121  13.0  ...    False                1              0   \n",
       "3749  0.000000  20.0  ...    False                0              0   \n",
       "780   8.000000  21.0  ...    False                0              0   \n",
       "5028  0.000000  19.0  ...    False                0              0   \n",
       "5775  0.000000  13.0  ...    False                1              0   \n",
       "\n",
       "      yoj_missing  derog_missing  delinq_missing  clage_missing  ninq_missing  \\\n",
       "4941            0              0               1              0             1   \n",
       "3749            0              0               0              0             0   \n",
       "780             0              0               0              0             0   \n",
       "5028            0              0               0              0             0   \n",
       "5775            0              0               0              0             0   \n",
       "\n",
       "      clno_missing  debtinc_missing  \n",
       "4941             0                0  \n",
       "3749             0                0  \n",
       "780              0                0  \n",
       "5028             0                0  \n",
       "5775             0                0  \n",
       "\n",
       "[5 rows x 28 columns]"
      ]
     },
     "execution_count": 23,
     "metadata": {},
     "output_type": "execute_result"
    }
   ],
   "source": [
    "train.head()"
   ]
  },
  {
   "cell_type": "code",
   "execution_count": 24,
   "metadata": {},
   "outputs": [],
   "source": [
    "# Use 'csv' format to store the data\n",
    "# The first column is expected to be the output column\n",
    "train.to_csv('train.csv', index=False, header=False)\n",
    "validation.to_csv('validation.csv', index=False, header=False)"
   ]
  },
  {
   "cell_type": "code",
   "execution_count": 25,
   "metadata": {},
   "outputs": [
    {
     "data": {
      "text/html": [
       "<pre style=\"white-space:pre;overflow-x:auto;line-height:normal;font-family:Menlo,'DejaVu Sans Mono',consolas,'Courier New',monospace\"><span style=\"color: #7fbfbf; text-decoration-color: #7fbfbf\">[04/22/25 06:55:07] </span><span style=\"color: #0069ff; text-decoration-color: #0069ff; font-weight: bold\">INFO    </span> Found credentials in shared credentials file: ~<span style=\"color: #e100e1; text-decoration-color: #e100e1\">/.aws/credentials</span>   <a href=\"file://c:\\Users\\t\\AppData\\Local\\Programs\\Python\\Python312\\Lib\\site-packages\\botocore\\credentials.py\" target=\"_blank\"><span style=\"color: #7f7f7f; text-decoration-color: #7f7f7f\">credentials.py</span></a><span style=\"color: #7f7f7f; text-decoration-color: #7f7f7f\">:</span><a href=\"file://c:\\Users\\t\\AppData\\Local\\Programs\\Python\\Python312\\Lib\\site-packages\\botocore\\credentials.py#1352\" target=\"_blank\"><span style=\"color: #7f7f7f; text-decoration-color: #7f7f7f\">1352</span></a>\n",
       "</pre>\n"
      ],
      "text/plain": [
       "\u001b[2;36m[04/22/25 06:55:07]\u001b[0m\u001b[2;36m \u001b[0m\u001b[1;38;2;0;105;255mINFO    \u001b[0m Found credentials in shared credentials file: ~\u001b[38;2;225;0;225m/.aws/\u001b[0m\u001b[38;2;225;0;225mcredentials\u001b[0m   \u001b]8;id=426009;file://c:\\Users\\t\\AppData\\Local\\Programs\\Python\\Python312\\Lib\\site-packages\\botocore\\credentials.py\u001b\\\u001b[2mcredentials.py\u001b[0m\u001b]8;;\u001b\\\u001b[2m:\u001b[0m\u001b]8;id=875724;file://c:\\Users\\t\\AppData\\Local\\Programs\\Python\\Python312\\Lib\\site-packages\\botocore\\credentials.py#1352\u001b\\\u001b[2m1352\u001b[0m\u001b]8;;\u001b\\\n"
      ]
     },
     "metadata": {},
     "output_type": "display_data"
    }
   ],
   "source": [
    "# on initialise une session sagemaker\n",
    "sess = sagemaker.Session()"
   ]
  },
  {
   "cell_type": "code",
   "execution_count": 26,
   "metadata": {},
   "outputs": [
    {
     "data": {
      "text/html": [
       "<pre style=\"white-space:pre;overflow-x:auto;line-height:normal;font-family:Menlo,'DejaVu Sans Mono',consolas,'Courier New',monospace\"><span style=\"color: #7fbfbf; text-decoration-color: #7fbfbf\">[04/22/25 06:55:36] </span><span style=\"color: #0069ff; text-decoration-color: #0069ff; font-weight: bold\">INFO    </span> Found credentials in shared credentials file: ~<span style=\"color: #e100e1; text-decoration-color: #e100e1\">/.aws/credentials</span>   <a href=\"file://c:\\Users\\t\\AppData\\Local\\Programs\\Python\\Python312\\Lib\\site-packages\\botocore\\credentials.py\" target=\"_blank\"><span style=\"color: #7f7f7f; text-decoration-color: #7f7f7f\">credentials.py</span></a><span style=\"color: #7f7f7f; text-decoration-color: #7f7f7f\">:</span><a href=\"file://c:\\Users\\t\\AppData\\Local\\Programs\\Python\\Python312\\Lib\\site-packages\\botocore\\credentials.py#1352\" target=\"_blank\"><span style=\"color: #7f7f7f; text-decoration-color: #7f7f7f\">1352</span></a>\n",
       "</pre>\n"
      ],
      "text/plain": [
       "\u001b[2;36m[04/22/25 06:55:36]\u001b[0m\u001b[2;36m \u001b[0m\u001b[1;38;2;0;105;255mINFO    \u001b[0m Found credentials in shared credentials file: ~\u001b[38;2;225;0;225m/.aws/\u001b[0m\u001b[38;2;225;0;225mcredentials\u001b[0m   \u001b]8;id=482213;file://c:\\Users\\t\\AppData\\Local\\Programs\\Python\\Python312\\Lib\\site-packages\\botocore\\credentials.py\u001b\\\u001b[2mcredentials.py\u001b[0m\u001b]8;;\u001b\\\u001b[2m:\u001b[0m\u001b]8;id=356076;file://c:\\Users\\t\\AppData\\Local\\Programs\\Python\\Python312\\Lib\\site-packages\\botocore\\credentials.py#1352\u001b\\\u001b[2m1352\u001b[0m\u001b]8;;\u001b\\\n"
      ]
     },
     "metadata": {},
     "output_type": "display_data"
    },
    {
     "data": {
      "text/html": [
       "<pre style=\"white-space:pre;overflow-x:auto;line-height:normal;font-family:Menlo,'DejaVu Sans Mono',consolas,'Courier New',monospace\"><span style=\"color: #7fbfbf; text-decoration-color: #7fbfbf\">[04/22/25 06:55:39] </span><span style=\"color: #0069ff; text-decoration-color: #0069ff; font-weight: bold\">INFO    </span> Found credentials in shared credentials file: ~<span style=\"color: #e100e1; text-decoration-color: #e100e1\">/.aws/credentials</span>   <a href=\"file://c:\\Users\\t\\AppData\\Local\\Programs\\Python\\Python312\\Lib\\site-packages\\botocore\\credentials.py\" target=\"_blank\"><span style=\"color: #7f7f7f; text-decoration-color: #7f7f7f\">credentials.py</span></a><span style=\"color: #7f7f7f; text-decoration-color: #7f7f7f\">:</span><a href=\"file://c:\\Users\\t\\AppData\\Local\\Programs\\Python\\Python312\\Lib\\site-packages\\botocore\\credentials.py#1352\" target=\"_blank\"><span style=\"color: #7f7f7f; text-decoration-color: #7f7f7f\">1352</span></a>\n",
       "</pre>\n"
      ],
      "text/plain": [
       "\u001b[2;36m[04/22/25 06:55:39]\u001b[0m\u001b[2;36m \u001b[0m\u001b[1;38;2;0;105;255mINFO    \u001b[0m Found credentials in shared credentials file: ~\u001b[38;2;225;0;225m/.aws/\u001b[0m\u001b[38;2;225;0;225mcredentials\u001b[0m   \u001b]8;id=90730;file://c:\\Users\\t\\AppData\\Local\\Programs\\Python\\Python312\\Lib\\site-packages\\botocore\\credentials.py\u001b\\\u001b[2mcredentials.py\u001b[0m\u001b]8;;\u001b\\\u001b[2m:\u001b[0m\u001b]8;id=876691;file://c:\\Users\\t\\AppData\\Local\\Programs\\Python\\Python312\\Lib\\site-packages\\botocore\\credentials.py#1352\u001b\\\u001b[2m1352\u001b[0m\u001b]8;;\u001b\\\n"
      ]
     },
     "metadata": {},
     "output_type": "display_data"
    }
   ],
   "source": [
    "## Upload des donnees vers S3\n",
    "bucket = \"sagemaker-stevensia-2025\"\n",
    "prefix = \"demo-sagemaker-BigData\"\n",
    "\n",
    "boto3.Session().resource('s3').Bucket(bucket).Object(\n",
    "    os.path.join(prefix, 'data/train.csv')).upload_file('train.csv')\n",
    "boto3.Session().resource('s3').Bucket(bucket).Object(\n",
    "    os.path.join(prefix, 'data/validation.csv')).upload_file('validation.csv')"
   ]
  },
  {
   "cell_type": "code",
   "execution_count": null,
   "metadata": {},
   "outputs": [
    {
     "data": {
      "text/html": [
       "<pre style=\"white-space:pre;overflow-x:auto;line-height:normal;font-family:Menlo,'DejaVu Sans Mono',consolas,'Courier New',monospace\"><span style=\"color: #7fbfbf; text-decoration-color: #7fbfbf\">[04/22/25 06:56:17] </span><span style=\"color: #0069ff; text-decoration-color: #0069ff; font-weight: bold\">INFO    </span> Found credentials in shared credentials file: ~<span style=\"color: #e100e1; text-decoration-color: #e100e1\">/.aws/credentials</span>   <a href=\"file://c:\\Users\\t\\AppData\\Local\\Programs\\Python\\Python312\\Lib\\site-packages\\botocore\\credentials.py\" target=\"_blank\"><span style=\"color: #7f7f7f; text-decoration-color: #7f7f7f\">credentials.py</span></a><span style=\"color: #7f7f7f; text-decoration-color: #7f7f7f\">:</span><a href=\"file://c:\\Users\\t\\AppData\\Local\\Programs\\Python\\Python312\\Lib\\site-packages\\botocore\\credentials.py#1352\" target=\"_blank\"><span style=\"color: #7f7f7f; text-decoration-color: #7f7f7f\">1352</span></a>\n",
       "</pre>\n"
      ],
      "text/plain": [
       "\u001b[2;36m[04/22/25 06:56:17]\u001b[0m\u001b[2;36m \u001b[0m\u001b[1;38;2;0;105;255mINFO    \u001b[0m Found credentials in shared credentials file: ~\u001b[38;2;225;0;225m/.aws/\u001b[0m\u001b[38;2;225;0;225mcredentials\u001b[0m   \u001b]8;id=59446;file://c:\\Users\\t\\AppData\\Local\\Programs\\Python\\Python312\\Lib\\site-packages\\botocore\\credentials.py\u001b\\\u001b[2mcredentials.py\u001b[0m\u001b]8;;\u001b\\\u001b[2m:\u001b[0m\u001b]8;id=782281;file://c:\\Users\\t\\AppData\\Local\\Programs\\Python\\Python312\\Lib\\site-packages\\botocore\\credentials.py#1352\u001b\\\u001b[2m1352\u001b[0m\u001b]8;;\u001b\\\n"
      ]
     },
     "metadata": {},
     "output_type": "display_data"
    },
    {
     "name": "stdout",
     "output_type": "stream",
     "text": [
      "AWS Region: eu-west-3\n",
      "RoleArn: arn:aws:iam::518029234101:role/AmazonSageMakerExecutionRole-Stevensia\n"
     ]
    }
   ],
   "source": [
    "#Configuration de l'environnement SageMaker dans AWS pour accéder a S3, créer des endpoints etc\n",
    "\n",
    "region = sagemaker.Session().boto_region_name #région AWS dans laquelle on travaille\n",
    "print(\"AWS Region: {}\".format(region))\n",
    "\n",
    "role = \"arn:aws:iam::518029234101:role/AmazonSageMakerExecutionRole-Stevensia\" # Le rôle IAM dpermet a SageMaker de lire/écrire sur S3 de entraîner, déployer des modeles de ML\n",
    "print(\"RoleArn: {}\".format(role))"
   ]
  },
  {
   "cell_type": "code",
   "execution_count": 28,
   "metadata": {},
   "outputs": [
    {
     "data": {
      "text/html": [
       "<pre style=\"white-space:pre;overflow-x:auto;line-height:normal;font-family:Menlo,'DejaVu Sans Mono',consolas,'Courier New',monospace\"><span style=\"color: #7fbfbf; text-decoration-color: #7fbfbf\">[04/22/25 06:56:49] </span><span style=\"color: #0069ff; text-decoration-color: #0069ff; font-weight: bold\">INFO    </span> Ignoring unnecessary instance type: <span style=\"color: #e100e1; text-decoration-color: #e100e1; font-style: italic\">None</span>.                            <a href=\"file://c:\\Users\\t\\AppData\\Local\\Programs\\Python\\Python312\\Lib\\site-packages\\sagemaker\\image_uris.py\" target=\"_blank\"><span style=\"color: #7f7f7f; text-decoration-color: #7f7f7f\">image_uris.py</span></a><span style=\"color: #7f7f7f; text-decoration-color: #7f7f7f\">:</span><a href=\"file://c:\\Users\\t\\AppData\\Local\\Programs\\Python\\Python312\\Lib\\site-packages\\sagemaker\\image_uris.py#530\" target=\"_blank\"><span style=\"color: #7f7f7f; text-decoration-color: #7f7f7f\">530</span></a>\n",
       "</pre>\n"
      ],
      "text/plain": [
       "\u001b[2;36m[04/22/25 06:56:49]\u001b[0m\u001b[2;36m \u001b[0m\u001b[1;38;2;0;105;255mINFO    \u001b[0m Ignoring unnecessary instance type: \u001b[3;38;2;225;0;225mNone\u001b[0m.                            \u001b]8;id=337378;file://c:\\Users\\t\\AppData\\Local\\Programs\\Python\\Python312\\Lib\\site-packages\\sagemaker\\image_uris.py\u001b\\\u001b[2mimage_uris.py\u001b[0m\u001b]8;;\u001b\\\u001b[2m:\u001b[0m\u001b]8;id=482133;file://c:\\Users\\t\\AppData\\Local\\Programs\\Python\\Python312\\Lib\\site-packages\\sagemaker\\image_uris.py#530\u001b\\\u001b[2m530\u001b[0m\u001b]8;;\u001b\\\n"
      ]
     },
     "metadata": {},
     "output_type": "display_data"
    },
    {
     "name": "stdout",
     "output_type": "stream",
     "text": [
      "659782779980.dkr.ecr.eu-west-3.amazonaws.com/sagemaker-xgboost:1.2-1\n"
     ]
    }
   ],
   "source": [
    "#sauvegarder le modèle XGBoost entraîné dans un dossier \"xgboost_model\"\n",
    "s3_output_location='s3://{}/{}/{}'.format(bucket, prefix, 'xgboost_model')\n",
    "\n",
    "container=sagemaker.image_uris.retrieve(\"xgboost\", region, \"1.2-1\")\n",
    "print(container)"
   ]
  },
  {
   "cell_type": "code",
   "execution_count": null,
   "metadata": {},
   "outputs": [
    {
     "data": {
      "text/html": [
       "<pre style=\"white-space:pre;overflow-x:auto;line-height:normal;font-family:Menlo,'DejaVu Sans Mono',consolas,'Courier New',monospace\"><span style=\"color: #7fbfbf; text-decoration-color: #7fbfbf\">[04/22/25 06:58:01] </span><span style=\"color: #0069ff; text-decoration-color: #0069ff; font-weight: bold\">INFO    </span> Found credentials in shared credentials file: ~<span style=\"color: #e100e1; text-decoration-color: #e100e1\">/.aws/credentials</span>   <a href=\"file://c:\\Users\\t\\AppData\\Local\\Programs\\Python\\Python312\\Lib\\site-packages\\botocore\\credentials.py\" target=\"_blank\"><span style=\"color: #7f7f7f; text-decoration-color: #7f7f7f\">credentials.py</span></a><span style=\"color: #7f7f7f; text-decoration-color: #7f7f7f\">:</span><a href=\"file://c:\\Users\\t\\AppData\\Local\\Programs\\Python\\Python312\\Lib\\site-packages\\botocore\\credentials.py#1352\" target=\"_blank\"><span style=\"color: #7f7f7f; text-decoration-color: #7f7f7f\">1352</span></a>\n",
       "</pre>\n"
      ],
      "text/plain": [
       "\u001b[2;36m[04/22/25 06:58:01]\u001b[0m\u001b[2;36m \u001b[0m\u001b[1;38;2;0;105;255mINFO    \u001b[0m Found credentials in shared credentials file: ~\u001b[38;2;225;0;225m/.aws/\u001b[0m\u001b[38;2;225;0;225mcredentials\u001b[0m   \u001b]8;id=127397;file://c:\\Users\\t\\AppData\\Local\\Programs\\Python\\Python312\\Lib\\site-packages\\botocore\\credentials.py\u001b\\\u001b[2mcredentials.py\u001b[0m\u001b]8;;\u001b\\\u001b[2m:\u001b[0m\u001b]8;id=452622;file://c:\\Users\\t\\AppData\\Local\\Programs\\Python\\Python312\\Lib\\site-packages\\botocore\\credentials.py#1352\u001b\\\u001b[2m1352\u001b[0m\u001b]8;;\u001b\\\n"
      ]
     },
     "metadata": {},
     "output_type": "display_data"
    },
    {
     "data": {
      "text/html": [
       "<pre style=\"white-space:pre;overflow-x:auto;line-height:normal;font-family:Menlo,'DejaVu Sans Mono',consolas,'Courier New',monospace\"><span style=\"color: #7fbfbf; text-decoration-color: #7fbfbf\">[04/22/25 06:58:03] </span><span style=\"color: #0069ff; text-decoration-color: #0069ff; font-weight: bold\">INFO    </span> Found credentials in shared credentials file: ~<span style=\"color: #e100e1; text-decoration-color: #e100e1\">/.aws/credentials</span>   <a href=\"file://c:\\Users\\t\\AppData\\Local\\Programs\\Python\\Python312\\Lib\\site-packages\\botocore\\credentials.py\" target=\"_blank\"><span style=\"color: #7f7f7f; text-decoration-color: #7f7f7f\">credentials.py</span></a><span style=\"color: #7f7f7f; text-decoration-color: #7f7f7f\">:</span><a href=\"file://c:\\Users\\t\\AppData\\Local\\Programs\\Python\\Python312\\Lib\\site-packages\\botocore\\credentials.py#1352\" target=\"_blank\"><span style=\"color: #7f7f7f; text-decoration-color: #7f7f7f\">1352</span></a>\n",
       "</pre>\n"
      ],
      "text/plain": [
       "\u001b[2;36m[04/22/25 06:58:03]\u001b[0m\u001b[2;36m \u001b[0m\u001b[1;38;2;0;105;255mINFO    \u001b[0m Found credentials in shared credentials file: ~\u001b[38;2;225;0;225m/.aws/\u001b[0m\u001b[38;2;225;0;225mcredentials\u001b[0m   \u001b]8;id=124959;file://c:\\Users\\t\\AppData\\Local\\Programs\\Python\\Python312\\Lib\\site-packages\\botocore\\credentials.py\u001b\\\u001b[2mcredentials.py\u001b[0m\u001b]8;;\u001b\\\u001b[2m:\u001b[0m\u001b]8;id=3829;file://c:\\Users\\t\\AppData\\Local\\Programs\\Python\\Python312\\Lib\\site-packages\\botocore\\credentials.py#1352\u001b\\\u001b[2m1352\u001b[0m\u001b]8;;\u001b\\\n"
      ]
     },
     "metadata": {},
     "output_type": "display_data"
    }
   ],
   "source": [
    "# Définition du modèle XGBoost SageMaker, une seule instance pour l’hebergement, de type : 'ml.m5.xlarge'\n",
    "xgb_model=sagemaker.estimator.Estimator(\n",
    "    image_uri=container,\n",
    "    role=role,\n",
    "    instance_count=1,\n",
    "    instance_type='ml.m5.xlarge',\n",
    "    volume_size=3,\n",
    "    output_path=s3_output_location,\n",
    "    sagemaker_session=sagemaker.Session(),\n",
    "    rules=[\n",
    "        Rule.sagemaker(rule_configs.create_xgboost_report()),\n",
    "        ProfilerRule.sagemaker(rule_configs.ProfilerReport())\n",
    "    ]\n",
    ")"
   ]
  },
  {
   "cell_type": "code",
   "execution_count": null,
   "metadata": {},
   "outputs": [],
   "source": [
    "# Choix des hyperparamètres trouvés par la methode GridSearch pour l'entraînement du modele sur SageMaker\n",
    "xgb_model.set_hyperparameters(\n",
    "    max_depth = 7,\n",
    "    eta = 0.2,\n",
    "    gamma = 4,\n",
    "    min_child_weight = 6,\n",
    "    subsample = 0.8,\n",
    "    objective = \"binary:logistic\",\n",
    "    num_round = 500\n",
    ")"
   ]
  },
  {
   "cell_type": "code",
   "execution_count": null,
   "metadata": {},
   "outputs": [],
   "source": [
    "# Préparation des données pour entraînement avec le format requis par SageMaker\n",
    "train_input = TrainingInput(\n",
    "    \"s3://{}/{}\\{}\".format(bucket, prefix, \"data/train.csv\"), content_type=\"csv\"\n",
    ")\n",
    "validation_input = TrainingInput(\n",
    "    \"s3://{}/{}\\{}\".format(bucket, prefix, \"data/validation.csv\"), content_type=\"csv\"\n",
    ")"
   ]
  },
  {
   "cell_type": "code",
   "execution_count": null,
   "metadata": {},
   "outputs": [
    {
     "data": {
      "text/html": [
       "<pre style=\"white-space:pre;overflow-x:auto;line-height:normal;font-family:Menlo,'DejaVu Sans Mono',consolas,'Courier New',monospace\"><span style=\"color: #7fbfbf; text-decoration-color: #7fbfbf\">[04/22/25 07:06:18] </span><span style=\"color: #0069ff; text-decoration-color: #0069ff; font-weight: bold\">INFO    </span> SageMaker Python SDK will collect telemetry to help us better  <a href=\"file://c:\\Users\\t\\AppData\\Local\\Programs\\Python\\Python312\\Lib\\site-packages\\sagemaker\\telemetry\\telemetry_logging.py\" target=\"_blank\"><span style=\"color: #7f7f7f; text-decoration-color: #7f7f7f\">telemetry_logging.py</span></a><span style=\"color: #7f7f7f; text-decoration-color: #7f7f7f\">:</span><a href=\"file://c:\\Users\\t\\AppData\\Local\\Programs\\Python\\Python312\\Lib\\site-packages\\sagemaker\\telemetry\\telemetry_logging.py#91\" target=\"_blank\"><span style=\"color: #7f7f7f; text-decoration-color: #7f7f7f\">91</span></a>\n",
       "<span style=\"color: #7fbfbf; text-decoration-color: #7fbfbf\">                    </span>         understand our user's needs, diagnose issues, and deliver      <span style=\"color: #7f7f7f; text-decoration-color: #7f7f7f\">                       </span>\n",
       "<span style=\"color: #7fbfbf; text-decoration-color: #7fbfbf\">                    </span>         additional features.                                           <span style=\"color: #7f7f7f; text-decoration-color: #7f7f7f\">                       </span>\n",
       "<span style=\"color: #7fbfbf; text-decoration-color: #7fbfbf\">                    </span>         To opt out of telemetry, please disable via TelemetryOptOut    <span style=\"color: #7f7f7f; text-decoration-color: #7f7f7f\">                       </span>\n",
       "<span style=\"color: #7fbfbf; text-decoration-color: #7fbfbf\">                    </span>         parameter in SDK defaults config. For more information, refer  <span style=\"color: #7f7f7f; text-decoration-color: #7f7f7f\">                       </span>\n",
       "<span style=\"color: #7fbfbf; text-decoration-color: #7fbfbf\">                    </span>         to                                                             <span style=\"color: #7f7f7f; text-decoration-color: #7f7f7f\">                       </span>\n",
       "<span style=\"color: #7fbfbf; text-decoration-color: #7fbfbf\">                    </span>         <span style=\"color: #0069ff; text-decoration-color: #0069ff; text-decoration: underline\">https://sagemaker.readthedocs.io/en/stable/overview.html#confi</span> <span style=\"color: #7f7f7f; text-decoration-color: #7f7f7f\">                       </span>\n",
       "<span style=\"color: #7fbfbf; text-decoration-color: #7fbfbf\">                    </span>         <span style=\"color: #0069ff; text-decoration-color: #0069ff; text-decoration: underline\">guring-and-using-defaults-with-the-sagemaker-python-sdk.</span>       <span style=\"color: #7f7f7f; text-decoration-color: #7f7f7f\">                       </span>\n",
       "</pre>\n"
      ],
      "text/plain": [
       "\u001b[2;36m[04/22/25 07:06:18]\u001b[0m\u001b[2;36m \u001b[0m\u001b[1;38;2;0;105;255mINFO    \u001b[0m SageMaker Python SDK will collect telemetry to help us better  \u001b]8;id=871496;file://c:\\Users\\t\\AppData\\Local\\Programs\\Python\\Python312\\Lib\\site-packages\\sagemaker\\telemetry\\telemetry_logging.py\u001b\\\u001b[2mtelemetry_logging.py\u001b[0m\u001b]8;;\u001b\\\u001b[2m:\u001b[0m\u001b]8;id=498975;file://c:\\Users\\t\\AppData\\Local\\Programs\\Python\\Python312\\Lib\\site-packages\\sagemaker\\telemetry\\telemetry_logging.py#91\u001b\\\u001b[2m91\u001b[0m\u001b]8;;\u001b\\\n",
       "\u001b[2;36m                    \u001b[0m         understand our user's needs, diagnose issues, and deliver      \u001b[2m                       \u001b[0m\n",
       "\u001b[2;36m                    \u001b[0m         additional features.                                           \u001b[2m                       \u001b[0m\n",
       "\u001b[2;36m                    \u001b[0m         To opt out of telemetry, please disable via TelemetryOptOut    \u001b[2m                       \u001b[0m\n",
       "\u001b[2;36m                    \u001b[0m         parameter in SDK defaults config. For more information, refer  \u001b[2m                       \u001b[0m\n",
       "\u001b[2;36m                    \u001b[0m         to                                                             \u001b[2m                       \u001b[0m\n",
       "\u001b[2;36m                    \u001b[0m         \u001b[4;38;2;0;105;255mhttps://sagemaker.readthedocs.io/en/stable/overview.html#confi\u001b[0m \u001b[2m                       \u001b[0m\n",
       "\u001b[2;36m                    \u001b[0m         \u001b[4;38;2;0;105;255mguring-and-using-defaults-with-the-sagemaker-python-sdk.\u001b[0m       \u001b[2m                       \u001b[0m\n"
      ]
     },
     "metadata": {},
     "output_type": "display_data"
    },
    {
     "data": {
      "text/html": [
       "<pre style=\"white-space:pre;overflow-x:auto;line-height:normal;font-family:Menlo,'DejaVu Sans Mono',consolas,'Courier New',monospace\"><span style=\"color: #7fbfbf; text-decoration-color: #7fbfbf\">                    </span><span style=\"color: #0069ff; text-decoration-color: #0069ff; font-weight: bold\">INFO    </span> Ignoring unnecessary instance type: <span style=\"color: #e100e1; text-decoration-color: #e100e1; font-style: italic\">None</span>.                            <a href=\"file://c:\\Users\\t\\AppData\\Local\\Programs\\Python\\Python312\\Lib\\site-packages\\sagemaker\\image_uris.py\" target=\"_blank\"><span style=\"color: #7f7f7f; text-decoration-color: #7f7f7f\">image_uris.py</span></a><span style=\"color: #7f7f7f; text-decoration-color: #7f7f7f\">:</span><a href=\"file://c:\\Users\\t\\AppData\\Local\\Programs\\Python\\Python312\\Lib\\site-packages\\sagemaker\\image_uris.py#530\" target=\"_blank\"><span style=\"color: #7f7f7f; text-decoration-color: #7f7f7f\">530</span></a>\n",
       "</pre>\n"
      ],
      "text/plain": [
       "\u001b[2;36m                   \u001b[0m\u001b[2;36m \u001b[0m\u001b[1;38;2;0;105;255mINFO    \u001b[0m Ignoring unnecessary instance type: \u001b[3;38;2;225;0;225mNone\u001b[0m.                            \u001b]8;id=725303;file://c:\\Users\\t\\AppData\\Local\\Programs\\Python\\Python312\\Lib\\site-packages\\sagemaker\\image_uris.py\u001b\\\u001b[2mimage_uris.py\u001b[0m\u001b]8;;\u001b\\\u001b[2m:\u001b[0m\u001b]8;id=53153;file://c:\\Users\\t\\AppData\\Local\\Programs\\Python\\Python312\\Lib\\site-packages\\sagemaker\\image_uris.py#530\u001b\\\u001b[2m530\u001b[0m\u001b]8;;\u001b\\\n"
      ]
     },
     "metadata": {},
     "output_type": "display_data"
    },
    {
     "data": {
      "text/html": [
       "<pre style=\"white-space:pre;overflow-x:auto;line-height:normal;font-family:Menlo,'DejaVu Sans Mono',consolas,'Courier New',monospace\"><span style=\"color: #7fbfbf; text-decoration-color: #7fbfbf\">                    </span><span style=\"color: #0069ff; text-decoration-color: #0069ff; font-weight: bold\">INFO    </span> Ignoring unnecessary instance type: <span style=\"color: #e100e1; text-decoration-color: #e100e1; font-style: italic\">None</span>.                            <a href=\"file://c:\\Users\\t\\AppData\\Local\\Programs\\Python\\Python312\\Lib\\site-packages\\sagemaker\\image_uris.py\" target=\"_blank\"><span style=\"color: #7f7f7f; text-decoration-color: #7f7f7f\">image_uris.py</span></a><span style=\"color: #7f7f7f; text-decoration-color: #7f7f7f\">:</span><a href=\"file://c:\\Users\\t\\AppData\\Local\\Programs\\Python\\Python312\\Lib\\site-packages\\sagemaker\\image_uris.py#530\" target=\"_blank\"><span style=\"color: #7f7f7f; text-decoration-color: #7f7f7f\">530</span></a>\n",
       "</pre>\n"
      ],
      "text/plain": [
       "\u001b[2;36m                   \u001b[0m\u001b[2;36m \u001b[0m\u001b[1;38;2;0;105;255mINFO    \u001b[0m Ignoring unnecessary instance type: \u001b[3;38;2;225;0;225mNone\u001b[0m.                            \u001b]8;id=84558;file://c:\\Users\\t\\AppData\\Local\\Programs\\Python\\Python312\\Lib\\site-packages\\sagemaker\\image_uris.py\u001b\\\u001b[2mimage_uris.py\u001b[0m\u001b]8;;\u001b\\\u001b[2m:\u001b[0m\u001b]8;id=1531;file://c:\\Users\\t\\AppData\\Local\\Programs\\Python\\Python312\\Lib\\site-packages\\sagemaker\\image_uris.py#530\u001b\\\u001b[2m530\u001b[0m\u001b]8;;\u001b\\\n"
      ]
     },
     "metadata": {},
     "output_type": "display_data"
    },
    {
     "data": {
      "text/html": [
       "<pre style=\"white-space:pre;overflow-x:auto;line-height:normal;font-family:Menlo,'DejaVu Sans Mono',consolas,'Courier New',monospace\"><span style=\"color: #7fbfbf; text-decoration-color: #7fbfbf\">                    </span><span style=\"color: #0069ff; text-decoration-color: #0069ff; font-weight: bold\">INFO    </span> Creating training-job with name:                                       <a href=\"file://c:\\Users\\t\\AppData\\Local\\Programs\\Python\\Python312\\Lib\\site-packages\\sagemaker\\session.py\" target=\"_blank\"><span style=\"color: #7f7f7f; text-decoration-color: #7f7f7f\">session.py</span></a><span style=\"color: #7f7f7f; text-decoration-color: #7f7f7f\">:</span><a href=\"file://c:\\Users\\t\\AppData\\Local\\Programs\\Python\\Python312\\Lib\\site-packages\\sagemaker\\session.py#1042\" target=\"_blank\"><span style=\"color: #7f7f7f; text-decoration-color: #7f7f7f\">1042</span></a>\n",
       "<span style=\"color: #7fbfbf; text-decoration-color: #7fbfbf\">                    </span>         sagemaker-xgboost-<span style=\"color: #008080; text-decoration-color: #008080; font-weight: bold\">2025</span>-04-22-05-06-18-118                              <span style=\"color: #7f7f7f; text-decoration-color: #7f7f7f\">               </span>\n",
       "</pre>\n"
      ],
      "text/plain": [
       "\u001b[2;36m                   \u001b[0m\u001b[2;36m \u001b[0m\u001b[1;38;2;0;105;255mINFO    \u001b[0m Creating training-job with name:                                       \u001b]8;id=83688;file://c:\\Users\\t\\AppData\\Local\\Programs\\Python\\Python312\\Lib\\site-packages\\sagemaker\\session.py\u001b\\\u001b[2msession.py\u001b[0m\u001b]8;;\u001b\\\u001b[2m:\u001b[0m\u001b]8;id=29352;file://c:\\Users\\t\\AppData\\Local\\Programs\\Python\\Python312\\Lib\\site-packages\\sagemaker\\session.py#1042\u001b\\\u001b[2m1042\u001b[0m\u001b]8;;\u001b\\\n",
       "\u001b[2;36m                    \u001b[0m         sagemaker-xgboost-\u001b[1;36m2025\u001b[0m-04-22-05-06-18-118                              \u001b[2m               \u001b[0m\n"
      ]
     },
     "metadata": {},
     "output_type": "display_data"
    },
    {
     "name": "stdout",
     "output_type": "stream",
     "text": [
      "2025-04-22 05:06:19 Starting - Starting the training job...\n",
      "2025-04-22 05:06:52 Starting - Preparing the instances for trainingCreateXgboostReport: InProgress\n",
      "ProfilerReport: InProgress\n",
      "...\n",
      "2025-04-22 05:07:31 Downloading - Downloading the training image.....[2025-04-22 05:08:20.386 ip-10-0-140-213.eu-west-3.compute.internal:7 INFO utils.py:27] RULE_JOB_STOP_SIGNAL_FILENAME: None\n",
      "INFO:sagemaker-containers:Imported framework sagemaker_xgboost_container.training\n",
      "INFO:sagemaker-containers:Failed to parse hyperparameter objective value binary:logistic to Json.\n",
      "Returning the value itself\n",
      "INFO:sagemaker-containers:No GPUs detected (normal if no gpus installed)\n",
      "INFO:sagemaker_xgboost_container.training:Running XGBoost Sagemaker in algorithm mode\n",
      "INFO:root:Determined delimiter of CSV input is ','\n",
      "INFO:root:Determined delimiter of CSV input is ','\n",
      "INFO:root:Determined delimiter of CSV input is ','\n",
      "INFO:root:Determined delimiter of CSV input is ','\n",
      "INFO:root:Single node training.\n",
      "[2025-04-22 05:08:20.464 ip-10-0-140-213.eu-west-3.compute.internal:7 INFO json_config.py:91] Creating hook from json_config at /opt/ml/input/config/debughookconfig.json.\n",
      "[2025-04-22 05:08:20.465 ip-10-0-140-213.eu-west-3.compute.internal:7 INFO hook.py:199] tensorboard_dir has not been set for the hook. SMDebug will not be exporting tensorboard summaries.\n",
      "[2025-04-22 05:08:20.465 ip-10-0-140-213.eu-west-3.compute.internal:7 INFO profiler_config_parser.py:102] User has disabled profiler.\n",
      "[2025-04-22 05:08:20.466 ip-10-0-140-213.eu-west-3.compute.internal:7 INFO hook.py:253] Saving to /opt/ml/output/tensors\n",
      "[2025-04-22 05:08:20.466 ip-10-0-140-213.eu-west-3.compute.internal:7 INFO state_store.py:77] The checkpoint config file /opt/ml/input/config/checkpointconfig.json does not exist.\n",
      "INFO:root:Debug hook created from config\n",
      "INFO:root:Train matrix has 3129 rows and 27 columns\n",
      "INFO:root:Validation matrix has 1043 rows\n",
      "[0]#011train-error:0.11154#011validation-error:0.11026\n",
      "[2025-04-22 05:08:20.565 ip-10-0-140-213.eu-west-3.compute.internal:7 INFO hook.py:413] Monitoring the collections: metrics, labels, predictions, feature_importance, hyperparameters\n",
      "[2025-04-22 05:08:20.568 ip-10-0-140-213.eu-west-3.compute.internal:7 INFO hook.py:476] Hook is writing from the hook with pid: 7\n",
      "[1]#011train-error:0.10355#011validation-error:0.11026\n",
      "[2]#011train-error:0.10195#011validation-error:0.10642\n",
      "[3]#011train-error:0.09907#011validation-error:0.11026\n",
      "[4]#011train-error:0.09843#011validation-error:0.10738\n",
      "[5]#011train-error:0.09939#011validation-error:0.10547\n",
      "[6]#011train-error:0.09971#011validation-error:0.10451\n",
      "[7]#011train-error:0.09875#011validation-error:0.10547\n",
      "[8]#011train-error:0.09748#011validation-error:0.10642\n",
      "[9]#011train-error:0.09652#011validation-error:0.10451\n",
      "[10]#011train-error:0.09460#011validation-error:0.10163\n",
      "[11]#011train-error:0.09396#011validation-error:0.10738\n",
      "[12]#011train-error:0.09268#011validation-error:0.10738\n",
      "[13]#011train-error:0.08980#011validation-error:0.10067\n",
      "[14]#011train-error:0.08885#011validation-error:0.10163\n",
      "[15]#011train-error:0.08693#011validation-error:0.10067\n",
      "[16]#011train-error:0.08661#011validation-error:0.10067\n",
      "[17]#011train-error:0.08725#011validation-error:0.09875\n",
      "[18]#011train-error:0.08501#011validation-error:0.09971\n",
      "[19]#011train-error:0.08405#011validation-error:0.09780\n",
      "[20]#011train-error:0.08150#011validation-error:0.09780\n",
      "[21]#011train-error:0.08022#011validation-error:0.09684\n",
      "[22]#011train-error:0.07670#011validation-error:0.09780\n",
      "[23]#011train-error:0.07830#011validation-error:0.09204\n",
      "[24]#011train-error:0.07830#011validation-error:0.09108\n",
      "[25]#011train-error:0.07574#011validation-error:0.09204\n",
      "[26]#011train-error:0.07415#011validation-error:0.09108\n",
      "[27]#011train-error:0.07478#011validation-error:0.09204\n",
      "[28]#011train-error:0.07287#011validation-error:0.09108\n",
      "[29]#011train-error:0.07223#011validation-error:0.09108\n",
      "[30]#011train-error:0.07031#011validation-error:0.08821\n",
      "[31]#011train-error:0.07031#011validation-error:0.09108\n",
      "[32]#011train-error:0.06935#011validation-error:0.08917\n",
      "[33]#011train-error:0.06903#011validation-error:0.08917\n",
      "[34]#011train-error:0.06871#011validation-error:0.08725\n",
      "[35]#011train-error:0.06807#011validation-error:0.08629\n",
      "[36]#011train-error:0.06871#011validation-error:0.08437\n",
      "[37]#011train-error:0.06711#011validation-error:0.08533\n",
      "[38]#011train-error:0.06584#011validation-error:0.08341\n",
      "[39]#011train-error:0.06456#011validation-error:0.08245\n",
      "[40]#011train-error:0.06360#011validation-error:0.08341\n",
      "[41]#011train-error:0.06264#011validation-error:0.08341\n",
      "[42]#011train-error:0.06072#011validation-error:0.08341\n",
      "[43]#011train-error:0.06136#011validation-error:0.08341\n",
      "[44]#011train-error:0.06136#011validation-error:0.08245\n",
      "[45]#011train-error:0.05944#011validation-error:0.08341\n",
      "[46]#011train-error:0.05912#011validation-error:0.08437\n",
      "[47]#011train-error:0.05785#011validation-error:0.08437\n",
      "[48]#011train-error:0.05785#011validation-error:0.08437\n",
      "[49]#011train-error:0.05721#011validation-error:0.08341\n",
      "[50]#011train-error:0.05817#011validation-error:0.08341\n",
      "[51]#011train-error:0.05785#011validation-error:0.08245\n",
      "[52]#011train-error:0.05689#011validation-error:0.08341\n",
      "[53]#011train-error:0.05689#011validation-error:0.08341\n",
      "[54]#011train-error:0.05721#011validation-error:0.08245\n",
      "[55]#011train-error:0.05721#011validation-error:0.08341\n",
      "[56]#011train-error:0.05561#011validation-error:0.08341\n",
      "[57]#011train-error:0.05337#011validation-error:0.08245\n",
      "[58]#011train-error:0.05337#011validation-error:0.08245\n",
      "[59]#011train-error:0.05337#011validation-error:0.08245\n",
      "[60]#011train-error:0.05337#011validation-error:0.08629\n",
      "[61]#011train-error:0.05369#011validation-error:0.08437\n",
      "[62]#011train-error:0.05209#011validation-error:0.08341\n",
      "[63]#011train-error:0.05145#011validation-error:0.08150\n",
      "[64]#011train-error:0.05113#011validation-error:0.08150\n",
      "[65]#011train-error:0.05177#011validation-error:0.08245\n",
      "[66]#011train-error:0.05081#011validation-error:0.08245\n",
      "[67]#011train-error:0.05209#011validation-error:0.08150\n",
      "[68]#011train-error:0.05209#011validation-error:0.08245\n",
      "[69]#011train-error:0.05209#011validation-error:0.08245\n",
      "[70]#011train-error:0.05145#011validation-error:0.08341\n",
      "[71]#011train-error:0.05145#011validation-error:0.08341\n",
      "[72]#011train-error:0.05145#011validation-error:0.08341\n",
      "[73]#011train-error:0.05145#011validation-error:0.08341\n",
      "[74]#011train-error:0.04954#011validation-error:0.08341\n",
      "[75]#011train-error:0.04858#011validation-error:0.08341\n",
      "[76]#011train-error:0.04858#011validation-error:0.08245\n",
      "[77]#011train-error:0.04890#011validation-error:0.08341\n",
      "[78]#011train-error:0.04762#011validation-error:0.08341\n",
      "[79]#011train-error:0.04762#011validation-error:0.08341\n",
      "[80]#011train-error:0.04922#011validation-error:0.08533\n",
      "[81]#011train-error:0.04858#011validation-error:0.08533\n",
      "[82]#011train-error:0.04794#011validation-error:0.08725\n",
      "[83]#011train-error:0.04762#011validation-error:0.08725\n",
      "[84]#011train-error:0.04762#011validation-error:0.08725\n",
      "[85]#011train-error:0.04890#011validation-error:0.08725\n",
      "[86]#011train-error:0.04666#011validation-error:0.08725\n",
      "[87]#011train-error:0.04730#011validation-error:0.08821\n",
      "[88]#011train-error:0.04602#011validation-error:0.08245\n",
      "[89]#011train-error:0.04602#011validation-error:0.08245\n",
      "[90]#011train-error:0.04570#011validation-error:0.08245\n",
      "[91]#011train-error:0.04570#011validation-error:0.08437\n",
      "[92]#011train-error:0.04602#011validation-error:0.08437\n",
      "[93]#011train-error:0.04570#011validation-error:0.08437\n",
      "[94]#011train-error:0.04538#011validation-error:0.08437\n",
      "[95]#011train-error:0.04538#011validation-error:0.08341\n",
      "[96]#011train-error:0.04538#011validation-error:0.08341\n",
      "[97]#011train-error:0.04506#011validation-error:0.08341\n",
      "[98]#011train-error:0.04506#011validation-error:0.08533\n",
      "[99]#011train-error:0.04474#011validation-error:0.08245\n",
      "[100]#011train-error:0.04219#011validation-error:0.08245\n",
      "[101]#011train-error:0.04219#011validation-error:0.08245\n",
      "[102]#011train-error:0.04219#011validation-error:0.08245\n",
      "[103]#011train-error:0.04251#011validation-error:0.08341\n",
      "[104]#011train-error:0.04219#011validation-error:0.08341\n",
      "[105]#011train-error:0.04187#011validation-error:0.08150\n",
      "[106]#011train-error:0.04123#011validation-error:0.08245\n",
      "[107]#011train-error:0.04187#011validation-error:0.08150\n",
      "[108]#011train-error:0.04187#011validation-error:0.08150\n",
      "[109]#011train-error:0.04315#011validation-error:0.08341\n",
      "[110]#011train-error:0.04283#011validation-error:0.08341\n",
      "[111]#011train-error:0.04315#011validation-error:0.08341\n",
      "[112]#011train-error:0.04251#011validation-error:0.08533\n",
      "[113]#011train-error:0.04219#011validation-error:0.08533\n",
      "[114]#011train-error:0.04251#011validation-error:0.08533\n",
      "[115]#011train-error:0.04219#011validation-error:0.08533\n",
      "[116]#011train-error:0.04219#011validation-error:0.08533\n",
      "[117]#011train-error:0.04219#011validation-error:0.08533\n",
      "[118]#011train-error:0.04187#011validation-error:0.08533\n",
      "[119]#011train-error:0.04187#011validation-error:0.08533\n",
      "[120]#011train-error:0.04187#011validation-error:0.08533\n",
      "[121]#011train-error:0.04155#011validation-error:0.08341\n",
      "[122]#011train-error:0.04155#011validation-error:0.08341\n",
      "[123]#011train-error:0.04155#011validation-error:0.08341\n",
      "[124]#011train-error:0.04155#011validation-error:0.08341\n",
      "[125]#011train-error:0.04155#011validation-error:0.08245\n",
      "[126]#011train-error:0.04187#011validation-error:0.08341\n",
      "[127]#011train-error:0.04059#011validation-error:0.08245\n",
      "[128]#011train-error:0.04123#011validation-error:0.08245\n",
      "[129]#011train-error:0.04091#011validation-error:0.08533\n",
      "[130]#011train-error:0.04027#011validation-error:0.08533\n",
      "[131]#011train-error:0.04027#011validation-error:0.08725\n",
      "[132]#011train-error:0.04027#011validation-error:0.08725\n",
      "[133]#011train-error:0.04027#011validation-error:0.08725\n",
      "[134]#011train-error:0.04059#011validation-error:0.08245\n",
      "[135]#011train-error:0.03995#011validation-error:0.08341\n",
      "[136]#011train-error:0.03995#011validation-error:0.08341\n",
      "[137]#011train-error:0.03995#011validation-error:0.08341\n",
      "[138]#011train-error:0.03995#011validation-error:0.08341\n",
      "[139]#011train-error:0.04027#011validation-error:0.08245\n",
      "[140]#011train-error:0.04027#011validation-error:0.08245\n",
      "[141]#011train-error:0.03995#011validation-error:0.08341\n",
      "[142]#011train-error:0.03995#011validation-error:0.08341\n",
      "[143]#011train-error:0.03867#011validation-error:0.08245\n",
      "[144]#011train-error:0.03867#011validation-error:0.08245\n",
      "[145]#011train-error:0.03803#011validation-error:0.08341\n",
      "[146]#011train-error:0.03803#011validation-error:0.08341\n",
      "[147]#011train-error:0.03835#011validation-error:0.08437\n",
      "[148]#011train-error:0.03803#011validation-error:0.08341\n",
      "[149]#011train-error:0.03835#011validation-error:0.08341\n",
      "[150]#011train-error:0.03835#011validation-error:0.08341\n",
      "[151]#011train-error:0.03803#011validation-error:0.08150\n",
      "[152]#011train-error:0.03835#011validation-error:0.08245\n",
      "[153]#011train-error:0.03803#011validation-error:0.08245\n",
      "[154]#011train-error:0.03803#011validation-error:0.08245\n",
      "[155]#011train-error:0.03835#011validation-error:0.08245\n",
      "[156]#011train-error:0.03835#011validation-error:0.08150\n",
      "[157]#011train-error:0.03835#011validation-error:0.08150\n",
      "[158]#011train-error:0.03675#011validation-error:0.08245\n",
      "[159]#011train-error:0.03675#011validation-error:0.08245\n",
      "[160]#011train-error:0.03675#011validation-error:0.08245\n",
      "[161]#011train-error:0.03675#011validation-error:0.08245\n",
      "[162]#011train-error:0.03707#011validation-error:0.08341\n",
      "[163]#011train-error:0.03675#011validation-error:0.08341\n",
      "[164]#011train-error:0.03675#011validation-error:0.08341\n",
      "[165]#011train-error:0.03675#011validation-error:0.08341\n",
      "[166]#011train-error:0.03707#011validation-error:0.08437\n",
      "[167]#011train-error:0.03739#011validation-error:0.08533\n",
      "[168]#011train-error:0.03547#011validation-error:0.08437\n",
      "[169]#011train-error:0.03547#011validation-error:0.08437\n",
      "[170]#011train-error:0.03515#011validation-error:0.08725\n",
      "[171]#011train-error:0.03515#011validation-error:0.08725\n",
      "[172]#011train-error:0.03515#011validation-error:0.08821\n",
      "[173]#011train-error:0.03483#011validation-error:0.08629\n",
      "[174]#011train-error:0.03356#011validation-error:0.08629\n",
      "[175]#011train-error:0.03324#011validation-error:0.08629\n",
      "[176]#011train-error:0.03483#011validation-error:0.08341\n",
      "[177]#011train-error:0.03483#011validation-error:0.08341\n",
      "[178]#011train-error:0.03452#011validation-error:0.08437\n",
      "[179]#011train-error:0.03483#011validation-error:0.08341\n",
      "[180]#011train-error:0.03452#011validation-error:0.08437\n",
      "[181]#011train-error:0.03483#011validation-error:0.08341\n",
      "[182]#011train-error:0.03515#011validation-error:0.08533\n",
      "[183]#011train-error:0.03388#011validation-error:0.08725\n",
      "[184]#011train-error:0.03420#011validation-error:0.08725\n",
      "[185]#011train-error:0.03420#011validation-error:0.08725\n",
      "[186]#011train-error:0.03388#011validation-error:0.08725\n",
      "[187]#011train-error:0.03420#011validation-error:0.08725\n",
      "[188]#011train-error:0.03420#011validation-error:0.08725\n",
      "[189]#011train-error:0.03388#011validation-error:0.08725\n",
      "[190]#011train-error:0.03388#011validation-error:0.08725\n",
      "[191]#011train-error:0.03324#011validation-error:0.08629\n",
      "[192]#011train-error:0.03324#011validation-error:0.08629\n",
      "[193]#011train-error:0.03356#011validation-error:0.08629\n",
      "[194]#011train-error:0.03388#011validation-error:0.08725\n",
      "[195]#011train-error:0.03388#011validation-error:0.08725\n",
      "[196]#011train-error:0.03388#011validation-error:0.08725\n",
      "[197]#011train-error:0.03356#011validation-error:0.08629\n",
      "[198]#011train-error:0.03388#011validation-error:0.08629\n",
      "[199]#011train-error:0.03388#011validation-error:0.08725\n",
      "[200]#011train-error:0.03420#011validation-error:0.08725\n",
      "[201]#011train-error:0.03420#011validation-error:0.08725\n",
      "[202]#011train-error:0.03420#011validation-error:0.08725\n",
      "[203]#011train-error:0.03420#011validation-error:0.08725\n",
      "[204]#011train-error:0.03420#011validation-error:0.08725\n",
      "[205]#011train-error:0.03388#011validation-error:0.08629\n",
      "[206]#011train-error:0.03420#011validation-error:0.08725\n",
      "[207]#011train-error:0.03420#011validation-error:0.08629\n",
      "[208]#011train-error:0.03388#011validation-error:0.08629\n",
      "[209]#011train-error:0.03420#011validation-error:0.08629\n",
      "[210]#011train-error:0.03420#011validation-error:0.08725\n",
      "[211]#011train-error:0.03420#011validation-error:0.08725\n",
      "[212]#011train-error:0.03420#011validation-error:0.08725\n",
      "[213]#011train-error:0.03292#011validation-error:0.08437\n",
      "[214]#011train-error:0.03388#011validation-error:0.08341\n",
      "[215]#011train-error:0.03420#011validation-error:0.08341\n",
      "[216]#011train-error:0.03388#011validation-error:0.08341\n",
      "[217]#011train-error:0.03388#011validation-error:0.08341\n",
      "[218]#011train-error:0.03388#011validation-error:0.08341\n",
      "[219]#011train-error:0.03324#011validation-error:0.08533\n",
      "[220]#011train-error:0.03324#011validation-error:0.08533\n",
      "[221]#011train-error:0.03324#011validation-error:0.08533\n",
      "[222]#011train-error:0.03356#011validation-error:0.08533\n",
      "[223]#011train-error:0.03324#011validation-error:0.08533\n",
      "[224]#011train-error:0.03324#011validation-error:0.08533\n",
      "[225]#011train-error:0.03324#011validation-error:0.08533\n",
      "[226]#011train-error:0.03324#011validation-error:0.08533\n",
      "[227]#011train-error:0.03324#011validation-error:0.08533\n",
      "[228]#011train-error:0.03324#011validation-error:0.08533\n",
      "[229]#011train-error:0.03324#011validation-error:0.08533\n",
      "[230]#011train-error:0.03324#011validation-error:0.08533\n",
      "[231]#011train-error:0.03356#011validation-error:0.08533\n",
      "[232]#011train-error:0.03388#011validation-error:0.08437\n",
      "[233]#011train-error:0.03356#011validation-error:0.08533\n",
      "[234]#011train-error:0.03324#011validation-error:0.08533\n",
      "[235]#011train-error:0.03324#011validation-error:0.08533\n",
      "\n",
      "2025-04-22 05:08:36 Training - Training image download completed. Training in progress.\n",
      "2025-04-22 05:08:36 Uploading - Uploading generated training model[236]#011train-error:0.03324#011validation-error:0.08533\n",
      "[237]#011train-error:0.03356#011validation-error:0.08437\n",
      "[238]#011train-error:0.03356#011validation-error:0.08437\n",
      "[239]#011train-error:0.03324#011validation-error:0.08533\n",
      "[240]#011train-error:0.03356#011validation-error:0.08437\n",
      "[241]#011train-error:0.03356#011validation-error:0.08437\n",
      "[242]#011train-error:0.03324#011validation-error:0.08533\n",
      "[243]#011train-error:0.03324#011validation-error:0.08533\n",
      "[244]#011train-error:0.03324#011validation-error:0.08533\n",
      "[245]#011train-error:0.03324#011validation-error:0.08533\n",
      "[246]#011train-error:0.03324#011validation-error:0.08533\n",
      "[247]#011train-error:0.03324#011validation-error:0.08533\n",
      "[248]#011train-error:0.03324#011validation-error:0.08533\n",
      "[249]#011train-error:0.03324#011validation-error:0.08533\n",
      "[250]#011train-error:0.03388#011validation-error:0.08341\n",
      "[251]#011train-error:0.03388#011validation-error:0.08341\n",
      "[252]#011train-error:0.03388#011validation-error:0.08341\n",
      "[253]#011train-error:0.03388#011validation-error:0.08341\n",
      "[254]#011train-error:0.03388#011validation-error:0.08341\n",
      "[255]#011train-error:0.03388#011validation-error:0.08341\n",
      "[256]#011train-error:0.03388#011validation-error:0.08341\n",
      "[257]#011train-error:0.03388#011validation-error:0.08341\n",
      "[258]#011train-error:0.03388#011validation-error:0.08341\n",
      "[259]#011train-error:0.03388#011validation-error:0.08341\n",
      "[260]#011train-error:0.03388#011validation-error:0.08341\n",
      "[261]#011train-error:0.03420#011validation-error:0.08341\n",
      "[262]#011train-error:0.03388#011validation-error:0.08341\n",
      "[263]#011train-error:0.03388#011validation-error:0.08341\n",
      "[264]#011train-error:0.03388#011validation-error:0.08341\n",
      "[265]#011train-error:0.03356#011validation-error:0.08341\n",
      "[266]#011train-error:0.03324#011validation-error:0.08341\n",
      "[267]#011train-error:0.03388#011validation-error:0.08341\n",
      "[268]#011train-error:0.03388#011validation-error:0.08341\n",
      "[269]#011train-error:0.03356#011validation-error:0.08341\n",
      "[270]#011train-error:0.03292#011validation-error:0.08341\n",
      "[271]#011train-error:0.03324#011validation-error:0.08341\n",
      "[272]#011train-error:0.03324#011validation-error:0.08341\n",
      "[273]#011train-error:0.03356#011validation-error:0.08341\n",
      "[274]#011train-error:0.03356#011validation-error:0.08341\n",
      "[275]#011train-error:0.03388#011validation-error:0.08341\n",
      "[276]#011train-error:0.03228#011validation-error:0.08245\n",
      "[277]#011train-error:0.03196#011validation-error:0.08245\n",
      "[278]#011train-error:0.03196#011validation-error:0.08341\n",
      "[279]#011train-error:0.03196#011validation-error:0.08245\n",
      "[280]#011train-error:0.03196#011validation-error:0.08245\n",
      "[281]#011train-error:0.03196#011validation-error:0.08245\n",
      "[282]#011train-error:0.03196#011validation-error:0.08245\n",
      "[283]#011train-error:0.03196#011validation-error:0.08245\n",
      "[284]#011train-error:0.03196#011validation-error:0.08341\n",
      "[285]#011train-error:0.03196#011validation-error:0.08245\n",
      "[286]#011train-error:0.03196#011validation-error:0.08341\n",
      "[287]#011train-error:0.03196#011validation-error:0.08437\n",
      "[288]#011train-error:0.03196#011validation-error:0.08437\n",
      "[289]#011train-error:0.03196#011validation-error:0.08437\n",
      "[290]#011train-error:0.03196#011validation-error:0.08437\n",
      "[291]#011train-error:0.03196#011validation-error:0.08437\n",
      "[292]#011train-error:0.03228#011validation-error:0.08437\n",
      "[293]#011train-error:0.03228#011validation-error:0.08437\n",
      "[294]#011train-error:0.03196#011validation-error:0.08437\n",
      "[295]#011train-error:0.03228#011validation-error:0.08437\n",
      "[296]#011train-error:0.03196#011validation-error:0.08437\n",
      "[297]#011train-error:0.03260#011validation-error:0.08341\n",
      "[298]#011train-error:0.03260#011validation-error:0.08341\n",
      "[299]#011train-error:0.03260#011validation-error:0.08341\n",
      "[300]#011train-error:0.03260#011validation-error:0.08341\n",
      "[301]#011train-error:0.03260#011validation-error:0.08341\n",
      "[302]#011train-error:0.03260#011validation-error:0.08341\n",
      "[303]#011train-error:0.03292#011validation-error:0.08341\n",
      "[304]#011train-error:0.03260#011validation-error:0.08341\n",
      "[305]#011train-error:0.03260#011validation-error:0.08341\n",
      "[306]#011train-error:0.03260#011validation-error:0.08341\n",
      "[307]#011train-error:0.03292#011validation-error:0.08341\n",
      "[308]#011train-error:0.03292#011validation-error:0.08341\n",
      "[309]#011train-error:0.03260#011validation-error:0.08341\n",
      "[310]#011train-error:0.03260#011validation-error:0.08341\n",
      "[311]#011train-error:0.03196#011validation-error:0.08245\n",
      "[312]#011train-error:0.03196#011validation-error:0.08245\n",
      "[313]#011train-error:0.03196#011validation-error:0.08245\n",
      "[314]#011train-error:0.03196#011validation-error:0.08245\n",
      "[315]#011train-error:0.03196#011validation-error:0.08245\n",
      "[316]#011train-error:0.03196#011validation-error:0.08341\n",
      "[317]#011train-error:0.03196#011validation-error:0.08341\n",
      "[318]#011train-error:0.03196#011validation-error:0.08341\n",
      "[319]#011train-error:0.03196#011validation-error:0.08341\n",
      "[320]#011train-error:0.03196#011validation-error:0.08341\n",
      "[321]#011train-error:0.03196#011validation-error:0.08341\n",
      "[322]#011train-error:0.03196#011validation-error:0.08341\n",
      "[323]#011train-error:0.03260#011validation-error:0.08533\n",
      "[324]#011train-error:0.03260#011validation-error:0.08533\n",
      "[325]#011train-error:0.03228#011validation-error:0.08533\n",
      "[326]#011train-error:0.03260#011validation-error:0.08533\n",
      "[327]#011train-error:0.03228#011validation-error:0.08533\n",
      "[328]#011train-error:0.03228#011validation-error:0.08629\n",
      "[329]#011train-error:0.03292#011validation-error:0.08533\n",
      "[330]#011train-error:0.03292#011validation-error:0.08533\n",
      "[331]#011train-error:0.03292#011validation-error:0.08533\n",
      "[332]#011train-error:0.03292#011validation-error:0.08533\n",
      "[333]#011train-error:0.03292#011validation-error:0.08533\n",
      "[334]#011train-error:0.03292#011validation-error:0.08533\n",
      "[335]#011train-error:0.03292#011validation-error:0.08533\n",
      "[336]#011train-error:0.03292#011validation-error:0.08533\n",
      "[337]#011train-error:0.03292#011validation-error:0.08533\n",
      "[338]#011train-error:0.03292#011validation-error:0.08629\n",
      "[339]#011train-error:0.03260#011validation-error:0.08725\n",
      "[340]#011train-error:0.03292#011validation-error:0.08725\n",
      "[341]#011train-error:0.03292#011validation-error:0.08629\n",
      "[342]#011train-error:0.03292#011validation-error:0.08725\n",
      "[343]#011train-error:0.03164#011validation-error:0.08533\n",
      "[344]#011train-error:0.03100#011validation-error:0.08437\n",
      "[345]#011train-error:0.03164#011validation-error:0.08533\n",
      "[346]#011train-error:0.03100#011validation-error:0.08437\n",
      "[347]#011train-error:0.03132#011validation-error:0.08437\n",
      "[348]#011train-error:0.03132#011validation-error:0.08437\n",
      "[349]#011train-error:0.03164#011validation-error:0.08533\n",
      "[350]#011train-error:0.03164#011validation-error:0.08533\n",
      "[351]#011train-error:0.03100#011validation-error:0.08437\n",
      "[352]#011train-error:0.03068#011validation-error:0.08437\n",
      "[353]#011train-error:0.03068#011validation-error:0.08437\n",
      "[354]#011train-error:0.03068#011validation-error:0.08437\n",
      "[355]#011train-error:0.03068#011validation-error:0.08533\n",
      "[356]#011train-error:0.03068#011validation-error:0.08533\n",
      "[357]#011train-error:0.03100#011validation-error:0.08533\n",
      "[358]#011train-error:0.03132#011validation-error:0.08533\n",
      "[359]#011train-error:0.03132#011validation-error:0.08533\n",
      "[360]#011train-error:0.03100#011validation-error:0.08533\n",
      "[361]#011train-error:0.03132#011validation-error:0.08533\n",
      "[362]#011train-error:0.03132#011validation-error:0.08533\n",
      "[363]#011train-error:0.03132#011validation-error:0.08533\n",
      "[364]#011train-error:0.03068#011validation-error:0.08533\n",
      "[365]#011train-error:0.03132#011validation-error:0.08533\n",
      "[366]#011train-error:0.03132#011validation-error:0.08533\n",
      "[367]#011train-error:0.03036#011validation-error:0.08533\n",
      "[368]#011train-error:0.03132#011validation-error:0.08533\n",
      "[369]#011train-error:0.03132#011validation-error:0.08533\n",
      "[370]#011train-error:0.03132#011validation-error:0.08533\n",
      "[371]#011train-error:0.03132#011validation-error:0.08533\n",
      "[372]#011train-error:0.03132#011validation-error:0.08533\n",
      "[373]#011train-error:0.03132#011validation-error:0.08533\n",
      "[374]#011train-error:0.03132#011validation-error:0.08533\n",
      "[375]#011train-error:0.03132#011validation-error:0.08533\n",
      "[376]#011train-error:0.03132#011validation-error:0.08533\n",
      "[377]#011train-error:0.03132#011validation-error:0.08533\n",
      "[378]#011train-error:0.03132#011validation-error:0.08533\n",
      "[379]#011train-error:0.03068#011validation-error:0.08533\n",
      "[380]#011train-error:0.03100#011validation-error:0.08533\n",
      "[381]#011train-error:0.03132#011validation-error:0.08533\n",
      "[382]#011train-error:0.03132#011validation-error:0.08533\n",
      "[383]#011train-error:0.03132#011validation-error:0.08533\n",
      "[384]#011train-error:0.03036#011validation-error:0.08533\n",
      "[385]#011train-error:0.03036#011validation-error:0.08533\n",
      "[386]#011train-error:0.03004#011validation-error:0.08533\n",
      "[387]#011train-error:0.03004#011validation-error:0.08533\n",
      "[388]#011train-error:0.03036#011validation-error:0.08533\n",
      "[389]#011train-error:0.03036#011validation-error:0.08533\n",
      "[390]#011train-error:0.03004#011validation-error:0.08533\n",
      "[391]#011train-error:0.03036#011validation-error:0.08533\n",
      "[392]#011train-error:0.03004#011validation-error:0.08437\n",
      "[393]#011train-error:0.03036#011validation-error:0.08533\n",
      "[394]#011train-error:0.03100#011validation-error:0.08533\n",
      "[395]#011train-error:0.03068#011validation-error:0.08533\n",
      "[396]#011train-error:0.03004#011validation-error:0.08437\n",
      "[397]#011train-error:0.02972#011validation-error:0.08437\n",
      "[398]#011train-error:0.03004#011validation-error:0.08437\n",
      "[399]#011train-error:0.03004#011validation-error:0.08437\n",
      "[400]#011train-error:0.03036#011validation-error:0.08437\n",
      "[401]#011train-error:0.03004#011validation-error:0.08437\n",
      "[402]#011train-error:0.03004#011validation-error:0.08437\n",
      "[403]#011train-error:0.03004#011validation-error:0.08437\n",
      "[404]#011train-error:0.03004#011validation-error:0.08437\n",
      "[405]#011train-error:0.02972#011validation-error:0.08629\n",
      "[406]#011train-error:0.02940#011validation-error:0.08629\n",
      "[407]#011train-error:0.02940#011validation-error:0.08629\n",
      "[408]#011train-error:0.02972#011validation-error:0.08629\n",
      "[409]#011train-error:0.02972#011validation-error:0.08629\n",
      "[410]#011train-error:0.02940#011validation-error:0.08629\n",
      "[411]#011train-error:0.02972#011validation-error:0.08629\n",
      "[412]#011train-error:0.02972#011validation-error:0.08629\n",
      "[413]#011train-error:0.02972#011validation-error:0.08629\n",
      "[414]#011train-error:0.02972#011validation-error:0.08629\n",
      "[415]#011train-error:0.02972#011validation-error:0.08629\n",
      "[416]#011train-error:0.02972#011validation-error:0.08629\n",
      "[417]#011train-error:0.02972#011validation-error:0.08629\n",
      "[418]#011train-error:0.02972#011validation-error:0.08629\n",
      "[419]#011train-error:0.02972#011validation-error:0.08629\n",
      "[420]#011train-error:0.02972#011validation-error:0.08629\n",
      "[421]#011train-error:0.02972#011validation-error:0.08629\n",
      "[422]#011train-error:0.02972#011validation-error:0.08629\n",
      "[423]#011train-error:0.03004#011validation-error:0.08629\n",
      "[424]#011train-error:0.03004#011validation-error:0.08629\n",
      "[425]#011train-error:0.02972#011validation-error:0.08629\n",
      "[426]#011train-error:0.02972#011validation-error:0.08629\n",
      "[427]#011train-error:0.03004#011validation-error:0.08629\n",
      "[428]#011train-error:0.02972#011validation-error:0.08629\n",
      "[429]#011train-error:0.02972#011validation-error:0.08629\n",
      "[430]#011train-error:0.02972#011validation-error:0.08629\n",
      "[431]#011train-error:0.02972#011validation-error:0.08629\n",
      "[432]#011train-error:0.02972#011validation-error:0.08629\n",
      "[433]#011train-error:0.02972#011validation-error:0.08629\n",
      "[434]#011train-error:0.03004#011validation-error:0.08629\n",
      "[435]#011train-error:0.03004#011validation-error:0.08629\n",
      "[436]#011train-error:0.03004#011validation-error:0.08629\n",
      "[437]#011train-error:0.02972#011validation-error:0.08629\n",
      "[438]#011train-error:0.02972#011validation-error:0.08629\n",
      "[439]#011train-error:0.02972#011validation-error:0.08629\n",
      "[440]#011train-error:0.03004#011validation-error:0.08629\n",
      "[441]#011train-error:0.03004#011validation-error:0.08629\n",
      "[442]#011train-error:0.02972#011validation-error:0.08629\n",
      "[443]#011train-error:0.02972#011validation-error:0.08629\n",
      "[444]#011train-error:0.02972#011validation-error:0.08629\n",
      "[445]#011train-error:0.02972#011validation-error:0.08629\n",
      "[446]#011train-error:0.02940#011validation-error:0.08629\n",
      "[447]#011train-error:0.02972#011validation-error:0.08629\n",
      "[448]#011train-error:0.02972#011validation-error:0.08629\n",
      "[449]#011train-error:0.02972#011validation-error:0.08629\n",
      "[450]#011train-error:0.02972#011validation-error:0.08629\n",
      "[451]#011train-error:0.02972#011validation-error:0.08629\n",
      "[452]#011train-error:0.02972#011validation-error:0.08629\n",
      "[453]#011train-error:0.02972#011validation-error:0.08629\n",
      "[454]#011train-error:0.02972#011validation-error:0.08629\n",
      "[455]#011train-error:0.02972#011validation-error:0.08629\n",
      "[456]#011train-error:0.02972#011validation-error:0.08629\n",
      "[457]#011train-error:0.02940#011validation-error:0.08533\n",
      "[458]#011train-error:0.02940#011validation-error:0.08533\n",
      "[459]#011train-error:0.02940#011validation-error:0.08533\n",
      "[460]#011train-error:0.02940#011validation-error:0.08533\n",
      "[461]#011train-error:0.02940#011validation-error:0.08533\n",
      "[462]#011train-error:0.02940#011validation-error:0.08533\n",
      "[463]#011train-error:0.02940#011validation-error:0.08533\n",
      "[464]#011train-error:0.02972#011validation-error:0.08533\n",
      "[465]#011train-error:0.02940#011validation-error:0.08533\n",
      "[466]#011train-error:0.02972#011validation-error:0.08533\n",
      "[467]#011train-error:0.02940#011validation-error:0.08533\n",
      "[468]#011train-error:0.02940#011validation-error:0.08533\n",
      "[469]#011train-error:0.02972#011validation-error:0.08533\n",
      "[470]#011train-error:0.02972#011validation-error:0.08533\n",
      "[471]#011train-error:0.02940#011validation-error:0.08533\n",
      "[472]#011train-error:0.02940#011validation-error:0.08533\n",
      "[473]#011train-error:0.02972#011validation-error:0.08533\n",
      "[474]#011train-error:0.02972#011validation-error:0.08533\n",
      "[475]#011train-error:0.03036#011validation-error:0.08533\n",
      "[476]#011train-error:0.03036#011validation-error:0.08533\n",
      "[477]#011train-error:0.02972#011validation-error:0.08533\n",
      "[478]#011train-error:0.03004#011validation-error:0.08533\n",
      "[479]#011train-error:0.03004#011validation-error:0.08533\n",
      "[480]#011train-error:0.03036#011validation-error:0.08533\n",
      "[481]#011train-error:0.02972#011validation-error:0.08533\n",
      "[482]#011train-error:0.02972#011validation-error:0.08533\n",
      "[483]#011train-error:0.03004#011validation-error:0.08533\n",
      "[484]#011train-error:0.03004#011validation-error:0.08533\n",
      "[485]#011train-error:0.03004#011validation-error:0.08533\n",
      "[486]#011train-error:0.02940#011validation-error:0.08533\n",
      "[487]#011train-error:0.02940#011validation-error:0.08533\n",
      "[488]#011train-error:0.03004#011validation-error:0.08533\n",
      "[489]#011train-error:0.02972#011validation-error:0.08533\n",
      "[490]#011train-error:0.03004#011validation-error:0.08533\n",
      "[491]#011train-error:0.02972#011validation-error:0.08533\n",
      "[492]#011train-error:0.03004#011validation-error:0.08533\n",
      "[493]#011train-error:0.02972#011validation-error:0.08533\n",
      "[494]#011train-error:0.02972#011validation-error:0.08533\n",
      "[495]#011train-error:0.03004#011validation-error:0.08533\n",
      "[496]#011train-error:0.02972#011validation-error:0.08533\n",
      "[497]#011train-error:0.03036#011validation-error:0.08533\n",
      "[498]#011train-error:0.02972#011validation-error:0.08533\n",
      "[499]#011train-error:0.03036#011validation-error:0.08533\n",
      "\n",
      "2025-04-22 05:09:12 Completed - Training job completed\n",
      "Training seconds: 109\n",
      "Billable seconds: 109\n"
     ]
    }
   ],
   "source": [
    "#Entraînement du modèle sur SageMaker (dans le cloud)\n",
    "xgb_model.fit({\"train\": train_input, \"validation\": validation_input}, wait=True)"
   ]
  },
  {
   "cell_type": "code",
   "execution_count": null,
   "metadata": {},
   "outputs": [
    {
     "data": {
      "text/html": [
       "<pre style=\"white-space:pre;overflow-x:auto;line-height:normal;font-family:Menlo,'DejaVu Sans Mono',consolas,'Courier New',monospace\"><span style=\"color: #7fbfbf; text-decoration-color: #7fbfbf\">[04/22/25 07:10:12] </span><span style=\"color: #0069ff; text-decoration-color: #0069ff; font-weight: bold\">INFO    </span> Creating model with name: sagemaker-xgboost-<span style=\"color: #008080; text-decoration-color: #008080; font-weight: bold\">2025</span>-04-22-05-10-11-427    <a href=\"file://c:\\Users\\t\\AppData\\Local\\Programs\\Python\\Python312\\Lib\\site-packages\\sagemaker\\session.py\" target=\"_blank\"><span style=\"color: #7f7f7f; text-decoration-color: #7f7f7f\">session.py</span></a><span style=\"color: #7f7f7f; text-decoration-color: #7f7f7f\">:</span><a href=\"file://c:\\Users\\t\\AppData\\Local\\Programs\\Python\\Python312\\Lib\\site-packages\\sagemaker\\session.py#4094\" target=\"_blank\"><span style=\"color: #7f7f7f; text-decoration-color: #7f7f7f\">4094</span></a>\n",
       "</pre>\n"
      ],
      "text/plain": [
       "\u001b[2;36m[04/22/25 07:10:12]\u001b[0m\u001b[2;36m \u001b[0m\u001b[1;38;2;0;105;255mINFO    \u001b[0m Creating model with name: sagemaker-xgboost-\u001b[1;36m2025\u001b[0m-04-22-05-10-11-427    \u001b]8;id=121929;file://c:\\Users\\t\\AppData\\Local\\Programs\\Python\\Python312\\Lib\\site-packages\\sagemaker\\session.py\u001b\\\u001b[2msession.py\u001b[0m\u001b]8;;\u001b\\\u001b[2m:\u001b[0m\u001b]8;id=274019;file://c:\\Users\\t\\AppData\\Local\\Programs\\Python\\Python312\\Lib\\site-packages\\sagemaker\\session.py#4094\u001b\\\u001b[2m4094\u001b[0m\u001b]8;;\u001b\\\n"
      ]
     },
     "metadata": {},
     "output_type": "display_data"
    },
    {
     "data": {
      "text/html": [
       "<pre style=\"white-space:pre;overflow-x:auto;line-height:normal;font-family:Menlo,'DejaVu Sans Mono',consolas,'Courier New',monospace\"><span style=\"color: #7fbfbf; text-decoration-color: #7fbfbf\">[04/22/25 07:10:13] </span><span style=\"color: #0069ff; text-decoration-color: #0069ff; font-weight: bold\">INFO    </span> Creating endpoint-config with name                                     <a href=\"file://c:\\Users\\t\\AppData\\Local\\Programs\\Python\\Python312\\Lib\\site-packages\\sagemaker\\session.py\" target=\"_blank\"><span style=\"color: #7f7f7f; text-decoration-color: #7f7f7f\">session.py</span></a><span style=\"color: #7f7f7f; text-decoration-color: #7f7f7f\">:</span><a href=\"file://c:\\Users\\t\\AppData\\Local\\Programs\\Python\\Python312\\Lib\\site-packages\\sagemaker\\session.py#6019\" target=\"_blank\"><span style=\"color: #7f7f7f; text-decoration-color: #7f7f7f\">6019</span></a>\n",
       "<span style=\"color: #7fbfbf; text-decoration-color: #7fbfbf\">                    </span>         sagemaker-xgboost-<span style=\"color: #008080; text-decoration-color: #008080; font-weight: bold\">2025</span>-04-22-05-10-11-427                              <span style=\"color: #7f7f7f; text-decoration-color: #7f7f7f\">               </span>\n",
       "</pre>\n"
      ],
      "text/plain": [
       "\u001b[2;36m[04/22/25 07:10:13]\u001b[0m\u001b[2;36m \u001b[0m\u001b[1;38;2;0;105;255mINFO    \u001b[0m Creating endpoint-config with name                                     \u001b]8;id=890589;file://c:\\Users\\t\\AppData\\Local\\Programs\\Python\\Python312\\Lib\\site-packages\\sagemaker\\session.py\u001b\\\u001b[2msession.py\u001b[0m\u001b]8;;\u001b\\\u001b[2m:\u001b[0m\u001b]8;id=747214;file://c:\\Users\\t\\AppData\\Local\\Programs\\Python\\Python312\\Lib\\site-packages\\sagemaker\\session.py#6019\u001b\\\u001b[2m6019\u001b[0m\u001b]8;;\u001b\\\n",
       "\u001b[2;36m                    \u001b[0m         sagemaker-xgboost-\u001b[1;36m2025\u001b[0m-04-22-05-10-11-427                              \u001b[2m               \u001b[0m\n"
      ]
     },
     "metadata": {},
     "output_type": "display_data"
    },
    {
     "data": {
      "text/html": [
       "<pre style=\"white-space:pre;overflow-x:auto;line-height:normal;font-family:Menlo,'DejaVu Sans Mono',consolas,'Courier New',monospace\"><span style=\"color: #7fbfbf; text-decoration-color: #7fbfbf\">                    </span><span style=\"color: #0069ff; text-decoration-color: #0069ff; font-weight: bold\">INFO    </span> Creating endpoint with name sagemaker-xgboost-<span style=\"color: #008080; text-decoration-color: #008080; font-weight: bold\">2025</span>-04-22-05-10-11-427  <a href=\"file://c:\\Users\\t\\AppData\\Local\\Programs\\Python\\Python312\\Lib\\site-packages\\sagemaker\\session.py\" target=\"_blank\"><span style=\"color: #7f7f7f; text-decoration-color: #7f7f7f\">session.py</span></a><span style=\"color: #7f7f7f; text-decoration-color: #7f7f7f\">:</span><a href=\"file://c:\\Users\\t\\AppData\\Local\\Programs\\Python\\Python312\\Lib\\site-packages\\sagemaker\\session.py#4841\" target=\"_blank\"><span style=\"color: #7f7f7f; text-decoration-color: #7f7f7f\">4841</span></a>\n",
       "</pre>\n"
      ],
      "text/plain": [
       "\u001b[2;36m                   \u001b[0m\u001b[2;36m \u001b[0m\u001b[1;38;2;0;105;255mINFO    \u001b[0m Creating endpoint with name sagemaker-xgboost-\u001b[1;36m2025\u001b[0m-04-22-05-10-11-427  \u001b]8;id=978276;file://c:\\Users\\t\\AppData\\Local\\Programs\\Python\\Python312\\Lib\\site-packages\\sagemaker\\session.py\u001b\\\u001b[2msession.py\u001b[0m\u001b]8;;\u001b\\\u001b[2m:\u001b[0m\u001b]8;id=956374;file://c:\\Users\\t\\AppData\\Local\\Programs\\Python\\Python312\\Lib\\site-packages\\sagemaker\\session.py#4841\u001b\\\u001b[2m4841\u001b[0m\u001b]8;;\u001b\\\n"
      ]
     },
     "metadata": {},
     "output_type": "display_data"
    },
    {
     "name": "stdout",
     "output_type": "stream",
     "text": [
      "--------!"
     ]
    }
   ],
   "source": [
    "# Déploiement du modèle entraîné (stocké sur S3)en endpoint\n",
    "from sagemaker.serializers import CSVSerializer\n",
    "xgb_predictor=xgb_model.deploy(\n",
    "    initial_instance_count=1,\n",
    "    instance_type='ml.t2.medium',\n",
    "    serializer=CSVSerializer()\n",
    ")"
   ]
  },
  {
   "cell_type": "code",
   "execution_count": null,
   "metadata": {},
   "outputs": [
    {
     "data": {
      "text/plain": [
       "'sagemaker-xgboost-2025-04-22-05-10-11-427'"
      ]
     },
     "execution_count": 34,
     "metadata": {},
     "output_type": "execute_result"
    }
   ],
   "source": [
    "# Afichage du nom du endpoint SageMaker qui a été créé lors du déploiement du modèle\n",
    "xgb_predictor.endpoint_name"
   ]
  },
  {
   "cell_type": "code",
   "execution_count": null,
   "metadata": {},
   "outputs": [],
   "source": [
    "# Prédiction sur X_test (déjà prêt et prétraité) par lot de 1000 lignes max (défaut = rows=1000).\n",
    "import numpy as np\n",
    "def predict(data, rows=1000):\n",
    "    # Découpage des données en plusieurs petits tableaux de maximum 1000 lignes\n",
    "    split_array = np.array_split(data, int(data.shape[0] / float(rows) + 1))\n",
    "\n",
    "    predictions = '' # Chaîne de texte pour stocker toutes les prédictions\n",
    "\n",
    "    # Pour chaque batch de données...\n",
    "    for array in split_array:\n",
    "        # Envoi du batch au modèle SageMaker, récupération de la prédiction sous forme texte et ajout à la chaîne des prédictions\n",
    "        predictions = ','.join([predictions, xgb_predictor.predict(array).decode('utf-8')])\n",
    "        \n",
    "        print(predictions)\n",
    "\n",
    "    # Conversion de la chaîne en tableau NumPy (en ignorant la première virgule)\n",
    "    return np.fromstring(predictions[1:], sep=',')"
   ]
  },
  {
   "cell_type": "markdown",
   "metadata": {},
   "source": [
    "La fonction predict effectue des prédictions sur le jeu de données 'data' par batchs de 1000 lignes maximum.\n",
    "Elle envoie chaque batch au modèle SageMaker déployé, récupère les prédictions, puis reconstruit un vecteur final avec toutes les probabilités.\n",
    "    \n",
    "    Paramètres :\n",
    "    - data : tableau NumPy ou DataFrame transformé (float), sans la colonne cible.\n",
    "    - rows : taille maximale de chaque batch envoyé au modèle (par défaut : 1000).\n",
    "    \n",
    "    Retour :\n",
    "    - predictions : tableau NumPy des probabilités prédites pour chaque ligne."
   ]
  },
  {
   "cell_type": "code",
   "execution_count": null,
   "metadata": {},
   "outputs": [],
   "source": [
    "# Conversion de toutes les variables de X_test en int\n",
    "test_clean = test.copy()\n",
    "\n",
    "bool_cols = test_clean.select_dtypes(include='bool').columns\n",
    "test_clean[bool_cols] = test_clean[bool_cols].astype(int)\n",
    "\n",
    "test_clean = test_clean.astype(float)"
   ]
  },
  {
   "cell_type": "code",
   "execution_count": null,
   "metadata": {},
   "outputs": [
    {
     "name": "stdout",
     "output_type": "stream",
     "text": [
      ",0.2773977816104889,0.11852703988552094,0.010515413247048855,0.013616691343486309,0.006433744914829731,0.0433109886944294,0.031877290457487106,0.004978642333298922,0.005746259354054928,0.03613923862576485,0.20304273068904877,0.010060315020382404,0.08923359960317612,0.19281230866909027,0.9908108711242676,0.1493971347808838,0.058951713144779205,0.019262488931417465,0.005035112611949444,0.08345314860343933,0.004199295770376921,0.9770888686180115,0.27422159910202026,0.21996183693408966,0.33779338002204895,0.997597873210907,0.007663318421691656,0.02441844902932644,0.2446136474609375,0.37681448459625244,0.005527537316083908,0.5546919107437134,0.9719304442405701,0.00950708519667387,0.07607660442590714,0.8680921792984009,0.07362200319766998,0.09218236804008484,0.027127394452691078,0.007876557298004627,0.04997487738728523,0.11873488128185272,0.0353606641292572,0.00457402691245079,0.3963072896003723,0.01429886743426323,0.024033060297369957,0.6170311570167542,0.9209426641464233,0.006421950645744801,0.02667306736111641,0.013042930513620377,0.17228083312511444,0.7017297744750977,0.2996029853820801,0.004369894042611122,0.015026113018393517,0.02929040789604187,0.013883315958082676,0.012418818660080433,0.003570348024368286,0.00732904439792037,0.8379892706871033,0.9973860383033752,0.011988448910415173,0.002847063820809126,0.5140021443367004,0.01887473836541176,0.0025101725477725267,0.02502020262181759,0.009813481941819191,0.012418585829436779,0.14339923858642578,0.03195321932435036,0.013075226917862892,0.10253460705280304,0.005431856028735638,0.8914090991020203,0.006489244289696217,0.04789452999830246,0.04044343903660774,0.6553500294685364,0.09875801205635071,0.01296239160001278,0.07900344580411911,0.3216444253921509,0.16509811580181122,0.02790297381579876,0.017527621239423752,0.8383894562721252,0.0014062116388231516,0.5325044989585876,0.5071660876274109,0.017085278406739235,0.050325244665145874,0.9950053095817566,0.03626000136137009,0.03231651708483696,0.15288704633712769,0.02717139758169651,0.006316342391073704,0.6301339864730835,0.2737872898578644,0.0025890010874718428,0.13164904713630676,0.03195174038410187,0.020718056708574295,0.05206291750073433,0.09616684913635254,0.29146450757980347,0.003012490924447775,0.008775648660957813,0.012390884570777416,0.06549432873725891,0.0058641680516302586,0.02207755856215954,0.021213078871369362,0.06514307856559753,0.07678563892841339,0.9714106321334839,0.0023130818735808134,0.9112508296966553,0.1584462672472,0.0012460444122552872,0.20886853337287903,0.9966114163398743,0.058535195887088776,0.04596894979476929,0.01373340468853712,0.0213430505245924,0.006262390874326229,0.008705218322575092,0.8692532777786255,0.07534690201282501,0.001107945223338902,0.008986099623143673,0.003406756091862917,0.010272780433297157,0.024498876184225082,0.029649361968040466,0.1615111380815506,0.013212217018008232,0.005646289326250553,0.009205412119626999,0.0080855842679739,0.047593262046575546,0.10521107912063599,0.019773025065660477,0.019415635615587234,0.008807810954749584,0.00337157747708261,0.07049912214279175,0.10104148834943771,0.05333852767944336,0.254756361246109,0.08795099705457687,0.27639874815940857,0.41577011346817017,0.041750237345695496,0.0031323437578976154,0.8046577572822571,0.09552853554487228,0.02191704884171486,0.15105365216732025,0.0642760619521141,0.04801242798566818,0.3748186528682709,0.029337795451283455,0.14026066660881042,0.023732846602797508,0.04585506021976471,0.41565096378326416,0.03278020769357681,0.013376092538237572,0.01145899947732687,0.7903426885604858,0.037937626242637634,0.46501290798187256,0.005666298791766167,0.007696244399994612,0.07122033834457397,0.6408954858779907,0.11821171641349792,0.96062833070755,0.9893354773521423,0.9573080539703369,0.03104276768863201,0.013228378258645535,0.021744584664702415,0.008851755410432816,0.03929510712623596,0.8983271718025208,0.7990497350692749,0.9485012888908386,0.017058825120329857,0.27793535590171814,0.0072472854517400265,0.0025578984059393406,0.009349197149276733,0.0805811658501625,0.02722821570932865,0.013703539967536926,0.026648733764886856,0.012790982611477375,0.997527539730072,0.14912854135036469,0.005839110817760229,0.7261150479316711,0.0894276574254036,0.6638891696929932,0.19647441804409027,0.6276739835739136,0.9920696020126343,0.00905583705753088,0.0726756900548935,0.2051636427640915,0.2785680890083313,0.09649703651666641,0.0034434832632541656,0.017380060628056526,0.8292653560638428,0.5738905668258667,0.2261303961277008,0.027991559356451035,0.014844529330730438,0.5857817530632019,0.453988254070282,0.25591593980789185,0.15465140342712402,0.012060101144015789,0.4033609926700592,0.5265728235244751,0.012966351583600044,0.020535551011562347,0.01769004575908184,0.9453876614570618,0.04116689786314964,0.36710044741630554,0.0029534061904996634,0.9186298251152039,0.004588263109326363,0.06142749264836311,0.021383941173553467,0.0706285685300827,0.04037376120686531,0.011700627394020557,0.021316474303603172,0.9792461395263672,0.015240175649523735,0.04417843744158745,0.991907000541687,0.7278491258621216,0.013431629166007042,0.8852490782737732,0.23930294811725616,0.027452893555164337,0.004083095118403435,0.04063495621085167,0.8035547137260437,0.23004597425460815,0.012682844884693623,0.9121531248092651,0.011770619079470634,0.012091816402971745,0.0076585146598517895,0.060643985867500305,0.6819567084312439,0.13520681858062744,0.9624733924865723,0.016494818031787872,0.039168134331703186,0.007950598374009132,0.005678990855813026,0.23886635899543762,0.012135160155594349,0.08835925161838531,0.014989586547017097,0.020715894177556038,0.048034243285655975,0.045178357511758804,0.8070141077041626,0.02067401632666588,0.017928507179021835,0.01280792523175478,0.2721497118473053,0.9900115132331848,0.009035957045853138,0.1136123389005661,0.42843323945999146,0.02321387641131878,0.8584755063056946,0.010193930938839912,0.35996130108833313,0.326936811208725,0.015934495255351067,0.008732987567782402,0.044283997267484665,0.7479890584945679,0.1727060079574585,0.035035550594329834,0.00957911740988493,0.017845137044787407,0.01905048079788685,0.055142082273960114,0.008126399479806423,0.011523972265422344,0.0645616352558136,0.4886240065097809,0.13988403975963593,0.0018488685600459576,0.00926125142723322,0.0014348002150654793,0.9968627691268921,0.011698367074131966,0.08411193639039993,0.8261034488677979,0.9927696585655212,0.08349818736314774,0.027872905135154724,0.9843368530273438,0.9285823702812195,0.11730294674634933,0.05402711033821106,0.09130051732063293,0.024613002315163612,0.030763648450374603,0.8825337886810303,0.017726682126522064,0.04621061310172081,0.012223092839121819,0.9868670701980591,0.3006855249404907,0.9117253422737122,0.9843050837516785,0.00937714148312807,0.0038592990022152662,0.01756754145026207,0.006912205833941698,0.03561732545495033,0.004052794072777033,0.001775642391294241,0.022915977984666824,0.030229849740862846,0.07804225385189056,0.01352525595575571,0.6599509119987488,0.1314973682165146,0.019620440900325775,0.41190966963768005,0.7959219813346863,0.03591437637805939,0.01522950828075409,0.003374587744474411,0.16878125071525574,0.001624655444175005,0.02447296492755413,0.1112014427781105,0.01066742092370987,0.02952731028199196,0.017971493303775787,0.5681538581848145,0.009675661101937294,0.024081993848085403,0.013984381221234798,0.003092576516792178,0.023263389244675636,0.008855399675667286,0.008561228401958942,0.018222486600279808,0.9929649829864502,0.045169901102781296,0.11704213172197342,0.35466429591178894,0.01830572821199894,0.0019708091858774424,0.0021003305446356535,0.7896806597709656,0.16314299404621124,0.008329899050295353,0.06073899194598198,0.003068541409447789,0.011754561215639114,0.014327660202980042,0.425648957490921,0.009140477515757084,0.1004253551363945,0.34955930709838867,0.5394057631492615,0.026279523968696594,0.2468387633562088,0.005772176198661327,0.5716122388839722,0.36782750487327576,0.07633478194475174,0.01781558431684971,0.006904397159814835,0.0036648402456194162,0.0613083653151989,0.03453187644481659,0.0015862189466133714,0.07768980413675308,0.12085648626089096,0.003565719584003091,0.16579489409923553,0.07378993928432465,0.7263835072517395,0.16755276918411255,0.0314619205892086,0.047721024602651596,0.0585443340241909,0.031623564660549164,0.005032731220126152,0.05871378630399704,0.1783955693244934,0.010741098783910275,0.007537935394793749,0.22354577481746674,0.005237177014350891,0.06126878410577774,0.006750199012458324,0.044018037617206573,0.1541101634502411,0.004263207316398621,0.36004409193992615,0.529638409614563,0.7192527055740356,0.01081422995775938,0.2685350775718689,0.0038425528910011053,0.04642677679657936,0.9743667840957642,0.03440065681934357,0.036243949085474014,0.07139918208122253,0.7625182271003723,0.08308485150337219,0.009052624925971031,0.9966704249382019,0.32139286398887634,0.1263515055179596,0.006117870565503836,0.0028758281841874123,0.009907722473144531,0.19385483860969543,0.9575290083885193,0.07712586224079132,0.0040223426185548306,0.5822537541389465,0.021543635055422783,0.013166713528335094,0.940310537815094,0.035984985530376434,0.005379559472203255,0.11875897645950317,0.0316932238638401,0.7001622915267944,0.7078102827072144,0.016456177458167076,0.010468710213899612,0.025223353877663612,0.01562186423689127,0.05472598969936371,0.017631474882364273,0.07989518344402313,0.21530136466026306,0.003501258324831724,0.06446829438209534,0.025254331529140472,0.01263105496764183,0.005378406494855881,0.012124081142246723,0.011952344328165054,0.09509408473968506,0.0036988735664635897,0.10256905853748322,0.09387688338756561,0.04451536014676094,0.04597057029604912,0.08927532285451889,0.030982106924057007,0.012629099190235138,0.05101795494556427,0.005791602190583944,0.011852802708745003,0.5095151662826538,0.9478710889816284,0.03893951699137688,0.01734573021531105,0.015117119066417217,0.3944927752017975,0.02222573757171631,0.9133632183074951,0.31652817130088806,0.030606338754296303,0.0039275274612009525,0.9780200719833374,0.5744919776916504,0.015949822962284088,0.7538456916809082,0.035750772804021835,0.012099599465727806,0.08416595309972763,0.8728755116462708,0.05740083009004593,0.09047409892082214,0.010530918836593628,0.004546573385596275,0.018211761489510536,0.02856353111565113,0.00926965568214655,0.022686367854475975,0.10056661069393158,0.03823217749595642,0.02024932950735092,0.9848900437355042,0.9413718581199646,0.002196443034335971,0.05337583273649216,0.0015281186206266284,0.09173141419887543,0.02097967080771923,0.30765092372894287,0.03191739320755005,0.006477691698819399,0.020878605544567108,0.03378234803676605,0.029308851808309555,0.006567331496626139,0.3907178044319153,0.9687166810035706,0.011654745787382126,0.39357784390449524,0.010668161325156689,0.2092980444431305,0.7348172664642334,0.06877084076404572,0.002747759222984314,0.00420190067961812,0.35513144731521606,0.019753331318497658,0.25420942902565,0.01176214125007391,0.05149444192647934,0.7435733675956726,0.6479922533035278,0.007233825512230396,0.24235600233078003,0.00786226149648428,0.06458110362291336,0.09408272057771683,0.5239006876945496,0.5626123547554016,0.019122427329421043,0.017831193283200264,0.10669457167387009,0.8456708788871765,0.6403465867042542,0.025541793555021286,0.013901411555707455,0.6127567291259766,0.0019504951778799295,0.07146647572517395,0.4144592583179474,0.011813721619546413,0.06933271884918213,0.011528062634170055,0.032305896282196045,0.013588104397058487,0.05031747370958328,0.002015130128711462,0.020319340750575066,0.99000084400177,0.010913444682955742,0.14062689244747162,0.006489889230579138,0.9066396355628967,0.2913472354412079,0.01792996935546398,0.5921425819396973,0.12763328850269318,0.007483151741325855,0.9167697429656982,0.0038425528910011053,0.005724676884710789,0.17549514770507812,0.04385640472173691,0.0036920933052897453,0.0033421299885958433,0.0024136353749781847,0.0023426050320267677,0.0356406569480896,0.9050657153129578,0.8237884640693665,0.016209030523896217,0.9880682826042175,0.006162879057228565,0.014867434278130531,0.09988413751125336,0.23236317932605743,0.008218791335821152,0.025209050625562668,0.01847846433520317,0.027365554124116898,0.02966693975031376,0.34556078910827637,0.07266947627067566,0.9616007804870605,0.06159009784460068,0.0036828769370913506,0.014218133874237537,0.006528239697217941,0.5355936884880066,0.02056295983493328,0.0036667713429778814,0.09452088922262192,0.004418676253408194,0.9687862992286682,0.11267230659723282,0.008230852894484997,0.0227618757635355,0.49654337763786316,0.14853455126285553,0.01022852398455143,0.01312280260026455,0.03302030265331268,0.029209455475211143,0.004135672468692064,0.07282835990190506,0.0029794613365083933,0.7206928133964539,0.03717654198408127,0.028380420058965683,0.0029921531677246094,0.02930581383407116,0.8584300875663757,0.014914845116436481,0.026519756764173508,0.015763062983751297,0.05569891631603241,0.2668435275554657,0.01333254761993885,0.10217370837926865,0.17263802886009216,0.2734795808792114,0.025273563340306282,0.010442898608744144,0.009705744683742523,0.1207304447889328,0.038918446749448776,0.0145413251593709,0.018033865839242935,0.0028379233554005623,0.5936949253082275,0.019664820283651352,0.003023880533874035,0.08782888948917389,0.061888378113508224,0.007191244978457689,0.007785024121403694,0.10142499208450317,0.0538717545568943,0.011302110739052296,0.014927868731319904,0.002356399782001972,0.03937336802482605,0.020435335114598274,0.1605217009782791,0.011714674532413483,0.34293919801712036,0.8486986756324768,0.003242641920223832,0.04157571867108345,0.10618723183870316,0.9714283347129822,0.009257988072931767,0.8597146272659302,0.08411728590726852,0.022506315261125565,0.14245831966400146,0.36588889360427856,0.0038131477776914835,0.1276537925004959,0.5763413310050964,0.05295084789395332,0.5973209142684937,0.007300963159650564,0.8301606178283691,0.021894318982958794,0.07103220373392105,0.003938169218599796,0.011243076995015144,0.03194787725806236,0.009249668568372726,0.6912211775779724,0.04932120814919472,0.0044100587256252766,0.01149685587733984,0.011290591210126877,0.22527314722537994,0.007674142252653837,0.15451771020889282,0.007117273285984993,0.09819284826517105,0.011810370720922947,0.08627629280090332,0.008316942490637302,0.011096166446805,0.916533350944519,0.024585938081145287,0.004945535212755203,0.31383201479911804,0.9929642677307129,0.9361299276351929,0.9542561173439026,0.03549579158425331,0.021419582888484,0.031455595046281815,0.007002021186053753,0.017794718965888023,0.01375108677893877,0.007448746357113123,0.013568256050348282,0.04157469421625137,0.25792208313941956,0.03396286815404892,0.054430022835731506,0.001490565249696374,0.7057448029518127,0.11125492304563522,0.3887387812137604,0.9889293313026428,0.12643785774707794,0.17379993200302124,0.9212464094161987,0.22980260848999023,0.005832070484757423,0.9048537611961365,0.9290350079536438,0.06950657814741135,0.010796472430229187,0.2458581179380417,0.0035021600779145956,0.031818781048059464,0.0011933202622458339,0.03888961672782898,0.006659675855189562,0.013772210106253624,0.007846469059586525,0.023969167843461037,0.1526239812374115,0.9932112097740173,0.37679362297058105,0.021917909383773804,0.03393112123012543,0.01147250086069107,0.019409354776144028,0.12560586631298065,0.9923413991928101,0.3106688857078552,0.026470325887203217,0.005590465851128101,0.3136541545391083,0.029407231137156487,0.035686515271663666,0.004145318176597357,0.17789649963378906,0.006814059801399708,0.9607610106468201,0.0034858384169638157,0.01088676881045103,0.07894625514745712,0.018903236836194992,0.5996249914169312,0.020091263577342033,0.05409067124128342,0.003990041557699442,0.012760749086737633,0.062007151544094086,0.10115031898021698,0.015004095621407032,0.15945059061050415,0.02765839733183384,0.01052146777510643,0.9792424440383911,0.01188795454800129,0.032319337129592896,0.023739557713270187,0.04450148344039917,0.006398147437721491,0.02470875158905983,0.0025454210117459297,0.23076218366622925,0.002442480530589819,0.061381228268146515,0.007801189552992582,0.25823113322257996,0.003340044990181923,0.014771563932299614,0.9681601524353027,0.7394555807113647,0.014868530444800854,0.9511030316352844,0.008304708637297153,0.00807021651417017,0.4804127514362335,0.4933653473854065,0.07869088649749756,0.008248407393693924,0.031316012144088745,0.326753705739975,0.03491261228919029,0.005260420963168144,0.07446920871734619,0.007058402989059687,0.01177438534796238,0.059426914900541306,0.004841637797653675,0.0485355369746685,0.001089582103304565,0.17467592656612396,0.8666288256645203,0.09639591723680496,0.024959301576018333,0.9212524890899658,0.030857201665639877,0.04370913282036781,0.021948939189314842,0.0275249220430851,0.8954192399978638,0.30288416147232056,0.004377888515591621,0.00940423458814621,0.9920365214347839,0.002847063820809126,0.05286150798201561,0.7015632390975952,0.045609187334775925,0.9754832983016968,0.021809272468090057,0.13926412165164948,0.008126399479806423,0.014147857204079628,0.00375963537953794,0.007861082442104816,0.004248423967510462,0.451282262802124,0.03371382877230644,0.2972066104412079,0.026666507124900818,0.10181314498186111,0.4243033528327942,0.09288881719112396,0.9448031783103943,0.016323329880833626,0.023753764107823372,0.025518884882330894,0.01047896035015583,0.0031740146223455667,0.046961747109889984,0.23633518815040588,0.008991481736302376,0.0026525119319558144,0.9666540026664734,0.014876781031489372,0.0594538152217865,0.005784892942756414,0.03305938467383385,0.05568135902285576,0.3614864647388458,0.932640790939331,0.0436604805290699,0.041670940816402435,0.1302872896194458,0.10425949096679688,0.007861168123781681,0.013123407028615475,0.010839774273335934,0.2547655403614044,0.06129191815853119,0.9332849979400635,0.9579155445098877,0.05968554690480232,0.010565243661403656,0.01762242615222931,0.04012339189648628,0.012123036198318005,0.030634695664048195,0.013187970034778118,0.0717046931385994,0.022980067878961563,0.03060734272003174,0.35475921630859375,0.012582750990986824,0.30060362815856934,0.0348789356648922\n",
      ",0.2773977816104889,0.11852703988552094,0.010515413247048855,0.013616691343486309,0.006433744914829731,0.0433109886944294,0.031877290457487106,0.004978642333298922,0.005746259354054928,0.03613923862576485,0.20304273068904877,0.010060315020382404,0.08923359960317612,0.19281230866909027,0.9908108711242676,0.1493971347808838,0.058951713144779205,0.019262488931417465,0.005035112611949444,0.08345314860343933,0.004199295770376921,0.9770888686180115,0.27422159910202026,0.21996183693408966,0.33779338002204895,0.997597873210907,0.007663318421691656,0.02441844902932644,0.2446136474609375,0.37681448459625244,0.005527537316083908,0.5546919107437134,0.9719304442405701,0.00950708519667387,0.07607660442590714,0.8680921792984009,0.07362200319766998,0.09218236804008484,0.027127394452691078,0.007876557298004627,0.04997487738728523,0.11873488128185272,0.0353606641292572,0.00457402691245079,0.3963072896003723,0.01429886743426323,0.024033060297369957,0.6170311570167542,0.9209426641464233,0.006421950645744801,0.02667306736111641,0.013042930513620377,0.17228083312511444,0.7017297744750977,0.2996029853820801,0.004369894042611122,0.015026113018393517,0.02929040789604187,0.013883315958082676,0.012418818660080433,0.003570348024368286,0.00732904439792037,0.8379892706871033,0.9973860383033752,0.011988448910415173,0.002847063820809126,0.5140021443367004,0.01887473836541176,0.0025101725477725267,0.02502020262181759,0.009813481941819191,0.012418585829436779,0.14339923858642578,0.03195321932435036,0.013075226917862892,0.10253460705280304,0.005431856028735638,0.8914090991020203,0.006489244289696217,0.04789452999830246,0.04044343903660774,0.6553500294685364,0.09875801205635071,0.01296239160001278,0.07900344580411911,0.3216444253921509,0.16509811580181122,0.02790297381579876,0.017527621239423752,0.8383894562721252,0.0014062116388231516,0.5325044989585876,0.5071660876274109,0.017085278406739235,0.050325244665145874,0.9950053095817566,0.03626000136137009,0.03231651708483696,0.15288704633712769,0.02717139758169651,0.006316342391073704,0.6301339864730835,0.2737872898578644,0.0025890010874718428,0.13164904713630676,0.03195174038410187,0.020718056708574295,0.05206291750073433,0.09616684913635254,0.29146450757980347,0.003012490924447775,0.008775648660957813,0.012390884570777416,0.06549432873725891,0.0058641680516302586,0.02207755856215954,0.021213078871369362,0.06514307856559753,0.07678563892841339,0.9714106321334839,0.0023130818735808134,0.9112508296966553,0.1584462672472,0.0012460444122552872,0.20886853337287903,0.9966114163398743,0.058535195887088776,0.04596894979476929,0.01373340468853712,0.0213430505245924,0.006262390874326229,0.008705218322575092,0.8692532777786255,0.07534690201282501,0.001107945223338902,0.008986099623143673,0.003406756091862917,0.010272780433297157,0.024498876184225082,0.029649361968040466,0.1615111380815506,0.013212217018008232,0.005646289326250553,0.009205412119626999,0.0080855842679739,0.047593262046575546,0.10521107912063599,0.019773025065660477,0.019415635615587234,0.008807810954749584,0.00337157747708261,0.07049912214279175,0.10104148834943771,0.05333852767944336,0.254756361246109,0.08795099705457687,0.27639874815940857,0.41577011346817017,0.041750237345695496,0.0031323437578976154,0.8046577572822571,0.09552853554487228,0.02191704884171486,0.15105365216732025,0.0642760619521141,0.04801242798566818,0.3748186528682709,0.029337795451283455,0.14026066660881042,0.023732846602797508,0.04585506021976471,0.41565096378326416,0.03278020769357681,0.013376092538237572,0.01145899947732687,0.7903426885604858,0.037937626242637634,0.46501290798187256,0.005666298791766167,0.007696244399994612,0.07122033834457397,0.6408954858779907,0.11821171641349792,0.96062833070755,0.9893354773521423,0.9573080539703369,0.03104276768863201,0.013228378258645535,0.021744584664702415,0.008851755410432816,0.03929510712623596,0.8983271718025208,0.7990497350692749,0.9485012888908386,0.017058825120329857,0.27793535590171814,0.0072472854517400265,0.0025578984059393406,0.009349197149276733,0.0805811658501625,0.02722821570932865,0.013703539967536926,0.026648733764886856,0.012790982611477375,0.997527539730072,0.14912854135036469,0.005839110817760229,0.7261150479316711,0.0894276574254036,0.6638891696929932,0.19647441804409027,0.6276739835739136,0.9920696020126343,0.00905583705753088,0.0726756900548935,0.2051636427640915,0.2785680890083313,0.09649703651666641,0.0034434832632541656,0.017380060628056526,0.8292653560638428,0.5738905668258667,0.2261303961277008,0.027991559356451035,0.014844529330730438,0.5857817530632019,0.453988254070282,0.25591593980789185,0.15465140342712402,0.012060101144015789,0.4033609926700592,0.5265728235244751,0.012966351583600044,0.020535551011562347,0.01769004575908184,0.9453876614570618,0.04116689786314964,0.36710044741630554,0.0029534061904996634,0.9186298251152039,0.004588263109326363,0.06142749264836311,0.021383941173553467,0.0706285685300827,0.04037376120686531,0.011700627394020557,0.021316474303603172,0.9792461395263672,0.015240175649523735,0.04417843744158745,0.991907000541687,0.7278491258621216,0.013431629166007042,0.8852490782737732,0.23930294811725616,0.027452893555164337,0.004083095118403435,0.04063495621085167,0.8035547137260437,0.23004597425460815,0.012682844884693623,0.9121531248092651,0.011770619079470634,0.012091816402971745,0.0076585146598517895,0.060643985867500305,0.6819567084312439,0.13520681858062744,0.9624733924865723,0.016494818031787872,0.039168134331703186,0.007950598374009132,0.005678990855813026,0.23886635899543762,0.012135160155594349,0.08835925161838531,0.014989586547017097,0.020715894177556038,0.048034243285655975,0.045178357511758804,0.8070141077041626,0.02067401632666588,0.017928507179021835,0.01280792523175478,0.2721497118473053,0.9900115132331848,0.009035957045853138,0.1136123389005661,0.42843323945999146,0.02321387641131878,0.8584755063056946,0.010193930938839912,0.35996130108833313,0.326936811208725,0.015934495255351067,0.008732987567782402,0.044283997267484665,0.7479890584945679,0.1727060079574585,0.035035550594329834,0.00957911740988493,0.017845137044787407,0.01905048079788685,0.055142082273960114,0.008126399479806423,0.011523972265422344,0.0645616352558136,0.4886240065097809,0.13988403975963593,0.0018488685600459576,0.00926125142723322,0.0014348002150654793,0.9968627691268921,0.011698367074131966,0.08411193639039993,0.8261034488677979,0.9927696585655212,0.08349818736314774,0.027872905135154724,0.9843368530273438,0.9285823702812195,0.11730294674634933,0.05402711033821106,0.09130051732063293,0.024613002315163612,0.030763648450374603,0.8825337886810303,0.017726682126522064,0.04621061310172081,0.012223092839121819,0.9868670701980591,0.3006855249404907,0.9117253422737122,0.9843050837516785,0.00937714148312807,0.0038592990022152662,0.01756754145026207,0.006912205833941698,0.03561732545495033,0.004052794072777033,0.001775642391294241,0.022915977984666824,0.030229849740862846,0.07804225385189056,0.01352525595575571,0.6599509119987488,0.1314973682165146,0.019620440900325775,0.41190966963768005,0.7959219813346863,0.03591437637805939,0.01522950828075409,0.003374587744474411,0.16878125071525574,0.001624655444175005,0.02447296492755413,0.1112014427781105,0.01066742092370987,0.02952731028199196,0.017971493303775787,0.5681538581848145,0.009675661101937294,0.024081993848085403,0.013984381221234798,0.003092576516792178,0.023263389244675636,0.008855399675667286,0.008561228401958942,0.018222486600279808,0.9929649829864502,0.045169901102781296,0.11704213172197342,0.35466429591178894,0.01830572821199894,0.0019708091858774424,0.0021003305446356535,0.7896806597709656,0.16314299404621124,0.008329899050295353,0.06073899194598198,0.003068541409447789,0.011754561215639114,0.014327660202980042,0.425648957490921,0.009140477515757084,0.1004253551363945,0.34955930709838867,0.5394057631492615,0.026279523968696594,0.2468387633562088,0.005772176198661327,0.5716122388839722,0.36782750487327576,0.07633478194475174,0.01781558431684971,0.006904397159814835,0.0036648402456194162,0.0613083653151989,0.03453187644481659,0.0015862189466133714,0.07768980413675308,0.12085648626089096,0.003565719584003091,0.16579489409923553,0.07378993928432465,0.7263835072517395,0.16755276918411255,0.0314619205892086,0.047721024602651596,0.0585443340241909,0.031623564660549164,0.005032731220126152,0.05871378630399704,0.1783955693244934,0.010741098783910275,0.007537935394793749,0.22354577481746674,0.005237177014350891,0.06126878410577774,0.006750199012458324,0.044018037617206573,0.1541101634502411,0.004263207316398621,0.36004409193992615,0.529638409614563,0.7192527055740356,0.01081422995775938,0.2685350775718689,0.0038425528910011053,0.04642677679657936,0.9743667840957642,0.03440065681934357,0.036243949085474014,0.07139918208122253,0.7625182271003723,0.08308485150337219,0.009052624925971031,0.9966704249382019,0.32139286398887634,0.1263515055179596,0.006117870565503836,0.0028758281841874123,0.009907722473144531,0.19385483860969543,0.9575290083885193,0.07712586224079132,0.0040223426185548306,0.5822537541389465,0.021543635055422783,0.013166713528335094,0.940310537815094,0.035984985530376434,0.005379559472203255,0.11875897645950317,0.0316932238638401,0.7001622915267944,0.7078102827072144,0.016456177458167076,0.010468710213899612,0.025223353877663612,0.01562186423689127,0.05472598969936371,0.017631474882364273,0.07989518344402313,0.21530136466026306,0.003501258324831724,0.06446829438209534,0.025254331529140472,0.01263105496764183,0.005378406494855881,0.012124081142246723,0.011952344328165054,0.09509408473968506,0.0036988735664635897,0.10256905853748322,0.09387688338756561,0.04451536014676094,0.04597057029604912,0.08927532285451889,0.030982106924057007,0.012629099190235138,0.05101795494556427,0.005791602190583944,0.011852802708745003,0.5095151662826538,0.9478710889816284,0.03893951699137688,0.01734573021531105,0.015117119066417217,0.3944927752017975,0.02222573757171631,0.9133632183074951,0.31652817130088806,0.030606338754296303,0.0039275274612009525,0.9780200719833374,0.5744919776916504,0.015949822962284088,0.7538456916809082,0.035750772804021835,0.012099599465727806,0.08416595309972763,0.8728755116462708,0.05740083009004593,0.09047409892082214,0.010530918836593628,0.004546573385596275,0.018211761489510536,0.02856353111565113,0.00926965568214655,0.022686367854475975,0.10056661069393158,0.03823217749595642,0.02024932950735092,0.9848900437355042,0.9413718581199646,0.002196443034335971,0.05337583273649216,0.0015281186206266284,0.09173141419887543,0.02097967080771923,0.30765092372894287,0.03191739320755005,0.006477691698819399,0.020878605544567108,0.03378234803676605,0.029308851808309555,0.006567331496626139,0.3907178044319153,0.9687166810035706,0.011654745787382126,0.39357784390449524,0.010668161325156689,0.2092980444431305,0.7348172664642334,0.06877084076404572,0.002747759222984314,0.00420190067961812,0.35513144731521606,0.019753331318497658,0.25420942902565,0.01176214125007391,0.05149444192647934,0.7435733675956726,0.6479922533035278,0.007233825512230396,0.24235600233078003,0.00786226149648428,0.06458110362291336,0.09408272057771683,0.5239006876945496,0.5626123547554016,0.019122427329421043,0.017831193283200264,0.10669457167387009,0.8456708788871765,0.6403465867042542,0.025541793555021286,0.013901411555707455,0.6127567291259766,0.0019504951778799295,0.07146647572517395,0.4144592583179474,0.011813721619546413,0.06933271884918213,0.011528062634170055,0.032305896282196045,0.013588104397058487,0.05031747370958328,0.002015130128711462,0.020319340750575066,0.99000084400177,0.010913444682955742,0.14062689244747162,0.006489889230579138,0.9066396355628967,0.2913472354412079,0.01792996935546398,0.5921425819396973,0.12763328850269318,0.007483151741325855,0.9167697429656982,0.0038425528910011053,0.005724676884710789,0.17549514770507812,0.04385640472173691,0.0036920933052897453,0.0033421299885958433,0.0024136353749781847,0.0023426050320267677,0.0356406569480896,0.9050657153129578,0.8237884640693665,0.016209030523896217,0.9880682826042175,0.006162879057228565,0.014867434278130531,0.09988413751125336,0.23236317932605743,0.008218791335821152,0.025209050625562668,0.01847846433520317,0.027365554124116898,0.02966693975031376,0.34556078910827637,0.07266947627067566,0.9616007804870605,0.06159009784460068,0.0036828769370913506,0.014218133874237537,0.006528239697217941,0.5355936884880066,0.02056295983493328,0.0036667713429778814,0.09452088922262192,0.004418676253408194,0.9687862992286682,0.11267230659723282,0.008230852894484997,0.0227618757635355,0.49654337763786316,0.14853455126285553,0.01022852398455143,0.01312280260026455,0.03302030265331268,0.029209455475211143,0.004135672468692064,0.07282835990190506,0.0029794613365083933,0.7206928133964539,0.03717654198408127,0.028380420058965683,0.0029921531677246094,0.02930581383407116,0.8584300875663757,0.014914845116436481,0.026519756764173508,0.015763062983751297,0.05569891631603241,0.2668435275554657,0.01333254761993885,0.10217370837926865,0.17263802886009216,0.2734795808792114,0.025273563340306282,0.010442898608744144,0.009705744683742523,0.1207304447889328,0.038918446749448776,0.0145413251593709,0.018033865839242935,0.0028379233554005623,0.5936949253082275,0.019664820283651352,0.003023880533874035,0.08782888948917389,0.061888378113508224,0.007191244978457689,0.007785024121403694,0.10142499208450317,0.0538717545568943,0.011302110739052296,0.014927868731319904,0.002356399782001972,0.03937336802482605,0.020435335114598274,0.1605217009782791,0.011714674532413483,0.34293919801712036,0.8486986756324768,0.003242641920223832,0.04157571867108345,0.10618723183870316,0.9714283347129822,0.009257988072931767,0.8597146272659302,0.08411728590726852,0.022506315261125565,0.14245831966400146,0.36588889360427856,0.0038131477776914835,0.1276537925004959,0.5763413310050964,0.05295084789395332,0.5973209142684937,0.007300963159650564,0.8301606178283691,0.021894318982958794,0.07103220373392105,0.003938169218599796,0.011243076995015144,0.03194787725806236,0.009249668568372726,0.6912211775779724,0.04932120814919472,0.0044100587256252766,0.01149685587733984,0.011290591210126877,0.22527314722537994,0.007674142252653837,0.15451771020889282,0.007117273285984993,0.09819284826517105,0.011810370720922947,0.08627629280090332,0.008316942490637302,0.011096166446805,0.916533350944519,0.024585938081145287,0.004945535212755203,0.31383201479911804,0.9929642677307129,0.9361299276351929,0.9542561173439026,0.03549579158425331,0.021419582888484,0.031455595046281815,0.007002021186053753,0.017794718965888023,0.01375108677893877,0.007448746357113123,0.013568256050348282,0.04157469421625137,0.25792208313941956,0.03396286815404892,0.054430022835731506,0.001490565249696374,0.7057448029518127,0.11125492304563522,0.3887387812137604,0.9889293313026428,0.12643785774707794,0.17379993200302124,0.9212464094161987,0.22980260848999023,0.005832070484757423,0.9048537611961365,0.9290350079536438,0.06950657814741135,0.010796472430229187,0.2458581179380417,0.0035021600779145956,0.031818781048059464,0.0011933202622458339,0.03888961672782898,0.006659675855189562,0.013772210106253624,0.007846469059586525,0.023969167843461037,0.1526239812374115,0.9932112097740173,0.37679362297058105,0.021917909383773804,0.03393112123012543,0.01147250086069107,0.019409354776144028,0.12560586631298065,0.9923413991928101,0.3106688857078552,0.026470325887203217,0.005590465851128101,0.3136541545391083,0.029407231137156487,0.035686515271663666,0.004145318176597357,0.17789649963378906,0.006814059801399708,0.9607610106468201,0.0034858384169638157,0.01088676881045103,0.07894625514745712,0.018903236836194992,0.5996249914169312,0.020091263577342033,0.05409067124128342,0.003990041557699442,0.012760749086737633,0.062007151544094086,0.10115031898021698,0.015004095621407032,0.15945059061050415,0.02765839733183384,0.01052146777510643,0.9792424440383911,0.01188795454800129,0.032319337129592896,0.023739557713270187,0.04450148344039917,0.006398147437721491,0.02470875158905983,0.0025454210117459297,0.23076218366622925,0.002442480530589819,0.061381228268146515,0.007801189552992582,0.25823113322257996,0.003340044990181923,0.014771563932299614,0.9681601524353027,0.7394555807113647,0.014868530444800854,0.9511030316352844,0.008304708637297153,0.00807021651417017,0.4804127514362335,0.4933653473854065,0.07869088649749756,0.008248407393693924,0.031316012144088745,0.326753705739975,0.03491261228919029,0.005260420963168144,0.07446920871734619,0.007058402989059687,0.01177438534796238,0.059426914900541306,0.004841637797653675,0.0485355369746685,0.001089582103304565,0.17467592656612396,0.8666288256645203,0.09639591723680496,0.024959301576018333,0.9212524890899658,0.030857201665639877,0.04370913282036781,0.021948939189314842,0.0275249220430851,0.8954192399978638,0.30288416147232056,0.004377888515591621,0.00940423458814621,0.9920365214347839,0.002847063820809126,0.05286150798201561,0.7015632390975952,0.045609187334775925,0.9754832983016968,0.021809272468090057,0.13926412165164948,0.008126399479806423,0.014147857204079628,0.00375963537953794,0.007861082442104816,0.004248423967510462,0.451282262802124,0.03371382877230644,0.2972066104412079,0.026666507124900818,0.10181314498186111,0.4243033528327942,0.09288881719112396,0.9448031783103943,0.016323329880833626,0.023753764107823372,0.025518884882330894,0.01047896035015583,0.0031740146223455667,0.046961747109889984,0.23633518815040588,0.008991481736302376,0.0026525119319558144,0.9666540026664734,0.014876781031489372,0.0594538152217865,0.005784892942756414,0.03305938467383385,0.05568135902285576,0.3614864647388458,0.932640790939331,0.0436604805290699,0.041670940816402435,0.1302872896194458,0.10425949096679688,0.007861168123781681,0.013123407028615475,0.010839774273335934,0.2547655403614044,0.06129191815853119,0.9332849979400635,0.9579155445098877,0.05968554690480232,0.010565243661403656,0.01762242615222931,0.04012339189648628,0.012123036198318005,0.030634695664048195,0.013187970034778118,0.0717046931385994,0.022980067878961563,0.03060734272003174,0.35475921630859375,0.012582750990986824,0.30060362815856934,0.0348789356648922,0.05599477142095566,0.842268168926239,0.013498015701770782,0.012592054903507233,0.014566306956112385,0.09563054889440536,0.13176578283309937,0.002603128319606185,0.7459903955459595,0.010951103642582893,0.09030067920684814,0.019043078646063805,0.008397494442760944,0.017051590606570244,0.01208704337477684,0.23674675822257996,0.009782143868505955,0.022257689386606216,0.7489665150642395,0.011612780392169952,0.00984340813010931,0.01833519898355007,0.002971881767734885,0.004751861095428467,0.03386324271559715,0.01587826944887638,0.013376162387430668,0.24849224090576172,0.2804035246372223,0.0020342273637652397,0.024810824543237686,0.004226607270538807,0.009876661002635956,0.0172126404941082,0.004910752642899752,0.7823322415351868,0.9981734752655029,0.013559948652982712,0.06728645414113998,0.009417770430445671,0.6083999872207642,0.07003692537546158,0.008667685091495514,0.12784121930599213,0.9262810945510864,0.1524016261100769,0.03753365948796272,0.9938223361968994,0.9572091698646545,0.009601808153092861,0.036038145422935486,0.019532063975930214,0.011280583217740059,0.012354228645563126,0.06188761815428734,0.8523633480072021,0.009420733898878098,0.02948859892785549,0.07606256008148193,0.005058414302766323,0.04828547313809395,0.9366454482078552,0.9637199640274048,0.13891196250915527,0.0024877600371837616,0.008195002563297749,0.08103368431329727,0.14882344007492065,0.0217613372951746,0.009671531617641449,0.5234779715538025,0.9954500794410706,0.059925660490989685,0.0071769943460822105,0.03294523060321808,0.735852062702179,0.004434076603502035,0.0033106126356869936,0.14064030349254608,0.09561453014612198,0.026751063764095306,0.008865181356668472,0.5968109965324402,0.005777345038950443,0.04541764780879021,0.5167701840400696,0.02770722284913063,0.007974742911756039,0.05451330170035362,0.006888966076076031,0.04634569585323334,0.07636862993240356,0.06153351441025734,0.007487240247428417,0.015957115218043327,0.006780997850000858,0.0038646480534225702,0.010111183859407902,0.02724066562950611,0.4835757613182068,0.015052014961838722,0.0022084214724600315,0.8584797382354736,0.43642932176589966,0.9959083795547485,0.027757661417126656,0.01814267784357071,0.0029144512955099344,0.017266687005758286,0.158922478556633,0.046184930950403214,0.017878521233797073,0.05484988912940025,0.5673478841781616,0.003820289159193635,0.020110981538891792,0.006416771560907364,0.014042629860341549,0.03737529739737511,0.8151912093162537,0.011945600621402264,0.0027702238876372576,0.5111054182052612,0.004814541433006525,0.008223230950534344,0.002847063820809126,0.002169097075238824,0.020065411925315857,0.0568067729473114,0.3537321984767914,0.4178851544857025,0.9985866546630859,0.017605304718017578,0.14227908849716187,0.01918308064341545,0.003933366388082504,0.0037019604351371527,0.7107528448104858,0.0011143612209707499,0.6362850666046143,0.6230760812759399,0.5262588262557983,0.4520762264728546,0.07766879349946976,0.047496549785137177,0.0836426392197609,0.039043497294187546,0.0073286909610033035,0.056650400161743164,0.03223162889480591,0.9691821932792664,0.012261251918971539,0.9619991779327393,0.028492305427789688,0.009365742094814777,0.07120978832244873,0.018680302426218987,0.009626425802707672,0.39117926359176636,0.012942085973918438,0.08810040354728699,0.04564009979367256,0.1947537362575531,0.002502723829820752,0.93465656042099,0.019216015934944153,0.1909831464290619,0.05548467859625816,0.15274381637573242,0.8211744427680969,0.014543682336807251,0.44642361998558044,0.007672141306102276,0.0005949101177975535,0.9971388578414917,0.02741425670683384,0.03748415410518646,0.017845110967755318,0.006165294907987118,0.04080122336745262,0.8807299733161926,0.18485073745250702,0.015749087557196617,0.5291856527328491,0.053504422307014465,0.0869307741522789,0.48558369278907776,0.09783712774515152,0.7768204212188721,0.2954139709472656,0.2343326210975647,0.005235741380602121,0.0013002271298319101,0.007418380584567785,0.038840848952531815,0.1042194738984108,0.03513437882065773,0.3331354260444641,0.09453266859054565,0.05808139964938164,0.6245265007019043,0.08734303712844849,0.008555704727768898,0.00397774251177907,0.003735785838216543,0.010592104867100716,0.04309900104999542,0.5502734780311584,0.0527399443089962,0.03861825168132782,0.01727376878261566,0.8993396759033203,0.0062439632602036,0.12583252787590027,0.00447927275672555,0.12722116708755493,0.889755129814148,0.001646309858188033,0.021266940981149673,0.28017547726631165,0.040476102381944656,0.02556481584906578,0.010282326489686966,0.08039708435535431,0.047150082886219025,0.0038078317884355783,0.01806245557963848,0.011912614107131958,0.015179073438048363,0.0021555053535848856,0.010246179066598415,0.9539948105812073,0.028394781053066254,0.8794447183609009,0.016692010685801506,0.010005632415413857,0.01680215820670128,0.030772853642702103,0.006725890561938286,0.7928993701934814,0.9539862275123596,0.013355443254113197,0.008817549794912338,0.03361620008945465,0.1505361646413803,0.7659446597099304,0.02840409055352211,0.005235741380602121,0.534220814704895,0.013461390510201454,0.4107349216938019,0.9769569039344788,0.0064585888758301735,0.134161576628685,0.007861361838877201,0.0532093420624733,0.09294267743825912,0.0235926304012537,0.13671161234378815,0.07639570534229279,0.003501138649880886,0.005455558188259602,0.011591142974793911,0.15923941135406494,0.031127983704209328,0.8881829380989075,0.014318006113171577,0.06899239867925644,0.009448979049921036,0.7220584750175476,0.007173852063715458,0.025194793939590454,0.02853233925998211,0.021022429689764977,0.9867161512374878,0.008227556943893433,0.014913185499608517,0.7360766530036926,0.08647678047418594,0.016520250588655472,0.016504770144820213,0.019935932010412216,0.2512385845184326,0.1275426745414734,0.05253801494836807,0.03945522382855415,0.03491372615098953,0.007638341281563044,0.015129520557820797,0.07574287056922913,0.0033354766201227903,0.6724424362182617,0.019623100757598877,0.007701694034039974,0.008180671371519566,0.027192356064915657,0.0899415984749794,0.02826818823814392,0.004785174038261175,0.016844313591718674,0.03749134764075279,0.0065288301557302475,0.08313819020986557,0.9106481075286865,0.04676906764507294,0.16474170982837677,0.1328900307416916,0.07835348695516586,0.09748996794223785,0.32446834444999695,0.01239596214145422,0.14399978518486023,0.015902234241366386,0.05808456242084503,0.007490336894989014,0.10538776218891144,0.057872381061315536,0.0034454800188541412,0.01936984248459339,0.001577427377924323,0.011714154854416847,0.3451956510543823,0.9627104997634888,0.11324287205934525,0.008096092380583286,0.012767328880727291,0.0652926042675972,0.006114427000284195,0.34890034794807434,0.13059550523757935,0.021570630371570587,0.0979035347700119,0.0555868037045002,0.0027523781172931194,0.07527904212474823,0.06591559201478958,0.01815914176404476,0.036671411246061325,0.010502887889742851,0.5714902281761169,0.0126663688570261,0.6400739550590515,0.8879432082176208,0.23157306015491486,0.5559977293014526,0.011254855431616306,0.0899275615811348,0.014042049646377563,0.04889541491866112,0.005235741380602121,0.09398309886455536,0.7401936054229736,0.015992186963558197,0.9992353916168213,0.013216737657785416,0.9859813451766968,0.007197507657110691,0.1330939084291458,0.006216489244252443,0.09940456598997116,0.0017347619868814945,0.050818465650081635,0.9181951284408569,0.9823375940322876,0.23266208171844482,0.015267830342054367,0.5486534237861633,0.03523889556527138,0.03247944265604019,0.03881979361176491,0.0036425101570785046,0.0789530873298645,0.10750779509544373,0.008429302833974361,0.9822885990142822,0.0425160676240921,0.01574944145977497,0.6929498314857483,0.010369502007961273,0.048229921609163284,0.01990482583642006,0.4293794631958008,0.011952039785683155,0.9307715892791748,0.0045471410267055035,0.6521418690681458,0.5907896161079407,0.016521302983164787,0.06859693676233292,0.025929143652319908,0.1099739745259285,0.013168541714549065,0.24786880612373352,0.012209058739244938,0.05818270891904831,0.05761389434337616,0.023322127759456635,0.009074998088181019,0.04039755091071129,0.008186055347323418,0.008073289878666401,0.042188771069049835,0.1775570958852768,0.007953690364956856,0.026537667959928513,0.17769160866737366,0.013084896840155125,0.6393230557441711,0.3967841863632202,0.7946361899375916,0.017482319846749306,0.5051157474517822,0.03620541840791702,0.025402352213859558,0.0016521926736459136,0.007255204487591982,0.11900487542152405,0.04598405957221985,0.024975495412945747,0.006064140237867832,0.055888671427965164,0.006125027313828468,0.057430069893598557,0.009921549819409847,0.02022252418100834,0.2558239996433258,0.9777436256408691,0.1533297449350357,0.009308183565735817,0.050117846578359604,0.008846665732562542,0.010478440672159195,0.06646053493022919,0.036953434348106384,0.02551238425076008,0.12117351591587067,0.0019531697034835815,0.01902618259191513,0.0009754503844305873,0.014286002144217491,0.9368143081665039,0.03349265828728676,0.09079179912805557,0.07068806141614914,0.049658454954624176,0.05211830511689186,0.4631752669811249,0.00812009908258915,0.0027523781172931194,0.021224066615104675,0.006319299805909395,0.020166069269180298,0.7006164789199829,0.04807485640048981,0.9260061383247375,0.004453142173588276,0.06410416960716248,0.023642536252737045,0.060491710901260376,0.0075956289656460285,0.032502513378858566,0.5436013340950012,0.006477691698819399,0.1134146898984909,0.05239627882838249,0.010624655522406101,0.025397393852472305,0.008814983069896698,0.01353409606963396,0.005736780818551779,0.009268928319215775,0.4302198886871338,0.0240731593221426,0.010909471660852432,0.044291071593761444,0.0028310660272836685,0.004897403065115213,0.125949889421463,0.016401054337620735,0.0058210138231515884,0.2602038085460663,0.008469663560390472,0.2973026931285858,0.010429079644382,0.003796677105128765,0.8549128174781799,0.06189802289009094,0.0030757924541831017,0.10717806965112686,0.02747725136578083,0.005084707401692867,0.043802179396152496,0.01141703687608242,0.833611786365509,0.006572061683982611,0.04849629104137421,0.013734567910432816,0.0010688432957977057,0.038751132786273956,0.06500222533941269,0.012552158907055855,0.2491142600774765,0.02009303867816925,0.007063159719109535,0.0025380768347531557,0.04802464693784714,0.9414255619049072,0.3785971701145172,0.09659760445356369,0.14990195631980896,0.007889659143984318,0.9870489239692688,0.9597758650779724,0.024899033829569817,0.0029368684627115726,0.8060893416404724,0.015655474737286568,0.016272978857159615,0.043248675763607025,0.034135445952415466,0.005052097141742706,0.1882796585559845,0.06224915012717247,0.020310789346694946,0.00891493447124958,0.029008135199546814,0.9893084168434143,0.005510765593498945,0.0473712719976902,0.11418060958385468,0.0665033683180809,0.040160201489925385,0.14663831889629364,0.09389309585094452,0.1486007124185562,0.9553492069244385,0.003875882364809513,0.9514621496200562,0.026913482695817947,0.006213646847754717,0.013893870636820793,0.15445853769779205,0.00740037951618433,0.003717165905982256,0.02988608554005623,0.02062234655022621,0.0035834116861224174,0.020340699702501297,0.06764420121908188,0.09499846398830414,0.007433556951582432,0.03267595171928406,0.042749352753162384,0.006155071314424276,0.21639809012413025,0.0074472445994615555,0.06482822448015213,0.007648305967450142,0.013694552704691887,0.058009520173072815,0.949771523475647,0.008855743333697319,0.01159963570535183,0.02020872011780739,0.16922788321971893,0.10791134089231491,0.06013321131467819,0.05382461100816727,0.01711473986506462,0.0011472288751974702,0.007308144588023424,0.048315346240997314,0.0816788300871849,0.44747012853622437,0.04585299268364906,0.013895086012780666,0.2618522346019745,0.021583233028650284,0.30985572934150696,0.005649934057146311,0.006759857293218374,0.2125973403453827,0.002445074962452054,0.11047981679439545,0.7732685804367065,0.9899815917015076,0.9915953278541565,0.02607499435544014,0.04633914306759834,0.01072001177817583,0.9761995673179626,0.0172276571393013,0.0027306461706757545,0.009042544290423393,0.7200726270675659,0.30253779888153076,0.04638870060443878,0.0833301842212677,0.0044608223251998425,0.2441125363111496,0.05300489813089371,0.38724321126937866,0.7713418006896973,0.013334906660020351,0.025076506659388542,0.011220099404454231,0.033060938119888306,0.1785935014486313,0.003029485000297427,0.010044589638710022,0.002923267660662532,0.001668392913416028,0.015361121855676174,0.00630060164257884,0.0010484172962605953,0.410133421421051,0.004689784254878759,0.9730153679847717,0.005266587249934673,0.004793492611497641,0.02384445071220398,0.0010448347311466932,0.12150800973176956,0.004988940432667732,0.03061705268919468,0.05853961408138275,0.023186219856142998,0.11034748703241348,0.9700774550437927,0.0029940269887447357,0.006345725618302822,0.04374365881085396,0.028511719778180122,0.004485228098928928,0.02452511340379715,0.7667191028594971,0.01408461481332779,0.02331160008907318,0.5724015235900879,0.008886986412107944,0.04720228537917137,0.0023687907960265875,0.049810741096735,0.021353421732783318,0.0177968367934227,0.2600956857204437,0.9675644636154175,0.007905702106654644,0.04076346755027771,0.9984143972396851,0.023540034890174866,0.006793125532567501,0.04008100926876068,0.029652614146471024,0.06250675767660141,0.03203479200601578,0.05671796575188637,0.0015036358963698149,0.005514734424650669,0.0040223426185548306,0.013598764315247536,0.003285725601017475,0.008391008712351322,0.012029635719954967,0.0140257328748703,0.13678677380084991,0.5799745321273804,0.9277046918869019,0.6769686341285706,0.012355438433587551,0.017472919076681137,0.044097818434238434,0.08369839191436768,0.9838081002235413,0.13672137260437012,0.05292961373925209,0.037038419395685196,0.01438356563448906,0.01738261803984642,0.2723526358604431,0.011057060211896896,0.9955646991729736,0.09124155342578888,0.0035166041925549507,0.007464231923222542,0.06905487924814224,0.004631991032510996,0.008315471932291985,0.8160116076469421,0.3229375183582306,0.029088400304317474,0.010441946797072887,0.11671231687068939,0.013299762271344662,0.006214907392859459,0.012249274179339409,0.16698186099529266,0.9699710011482239,0.01889878883957863,0.07639162987470627,0.10834121704101562,0.7688047885894775,0.02171121910214424,0.007439223118126392,0.7279026508331299,0.05436365306377411,0.6200611591339111,0.18014995753765106,0.3577873110771179,0.038141775876283646,0.9987558126449585,0.00760144367814064,0.006660572253167629,0.004615005571395159,0.00621076812967658,0.07903499156236649,0.00138194824103266,0.6281983852386475,0.8621823191642761,0.9627153873443604,0.9483181238174438,0.4123830199241638,0.006994710769504309,0.008478758856654167,0.5475229620933533,0.049121011048555374,0.2783820629119873,0.5314130783081055,0.03779185190796852,0.06184554472565651,0.020726222544908524,0.005167912691831589,0.007290040608495474,0.0020232563838362694,0.8725373148918152,0.03927553445100784,0.786268413066864,0.9672183394432068,0.006547838449478149,0.05364534258842468,0.6360953450202942,0.011307104490697384,0.08687912672758102,0.016643797978758812,0.0516081340610981,0.5696080327033997,0.00996118038892746,0.006246668286621571,0.03330477699637413,0.01685510389506817,0.003808859270066023,0.19882182776927948,0.27020835876464844,0.04223589599132538,0.015295290388166904,0.004560211673378944,0.37650758028030396,0.24976693093776703,0.018051471561193466,0.7629997730255127,0.04398695379495621,0.016071537509560585,0.0808984637260437,0.03211376070976257,0.9914940595626831,0.049761418253183365,0.28680577874183655,0.012455816380679607,0.0011452645994722843,0.041879139840602875,0.25955909490585327,0.048916444182395935,0.0026167824398726225,0.019946875050663948,0.01501211803406477,0.04999128356575966,0.9015687704086304,0.8817687034606934,0.751248836517334,0.005463188048452139,0.044210728257894516,0.31467998027801514,0.014992748387157917,0.00843642745167017,0.6494116187095642,0.2621317505836487,0.8110620379447937,0.14212587475776672,0.011102071031928062,0.8972550630569458,0.974222719669342,0.32119157910346985,0.048951853066682816,0.008044408634305,0.002433088840916753,0.0046224393881857395,0.015045852400362492,0.20147545635700226,0.9830747246742249,0.011192750185728073,0.919087290763855,0.12499302625656128,0.03026645816862583,0.006266391836106777,0.07945399731397629,0.04302355647087097,0.9490143060684204,0.07215069234371185,0.011937819421291351,0.23405061662197113,0.11279568821191788,0.043274715542793274,0.12143388390541077,0.059435632079839706,0.010588602162897587,0.04596617445349693,0.899356484413147,0.012951616197824478,0.9841949939727783,0.004073360934853554,0.15171709656715393,0.027413155883550644,0.006059279199689627,0.29220399260520935,0.3890892267227173,0.08782944083213806,0.009303348138928413,0.11368764936923981,0.002412418369203806,0.044122569262981415,0.0012146634981036186,0.020982099696993828,0.008476718328893185,0.004864662420004606,0.03211408108472824,0.1727074533700943,0.010387265123426914,0.022317752242088318,0.2103789895772934,0.02539663389325142,0.009704007767140865,0.31879186630249023,0.0567794144153595,0.011699077673256397,0.022249585017561913,0.7506632804870605,0.008222006261348724,0.8031179308891296,0.9588339328765869,0.9419671297073364,0.03613239526748657,0.9210593700408936,0.08790581673383713,0.8275142312049866,0.6654760837554932,0.00398606201633811,0.036243975162506104,0.007573552429676056,0.005831122398376465,0.025586504489183426,0.027634460479021072,0.04469455033540726,0.6777778267860413,0.13631391525268555,0.6083112359046936,0.029637683182954788,0.013578317128121853,0.03531152755022049,0.04528365656733513,0.004786541685461998,0.978962242603302,0.6528521180152893,0.022011011838912964,0.63047194480896,0.0069173239171504974,0.027092983946204185,0.013236448168754578,0.08014508336782455,0.99614018201828,0.003085921285673976,0.003402880858629942,0.03324552997946739,0.4940336346626282,0.035869259387254715,0.01605227403342724,0.02585296332836151,0.02319587580859661,0.9863237738609314,0.007612495217472315,0.16720958054065704,0.007584800012409687,0.00929530430585146,0.06100721284747124,0.05839332938194275\n"
     ]
    },
    {
     "data": {
      "image/png": "[encoded data removed]",
      "text/plain": [
       "<Figure size 640x480 with 1 Axes>"
      ]
     },
     "metadata": {},
     "output_type": "display_data"
    }
   ],
   "source": [
    "# Prédictions et Histogramme (probabilités)\n",
    "import matplotlib.pyplot as plt\n",
    "\n",
    "predictions=predict(test_clean.to_numpy()[:,1:])\n",
    "\n",
    "plt.hist(predictions)\n",
    "plt.show()"
   ]
  },
  {
   "cell_type": "markdown",
   "metadata": {},
   "source": [
    "L'histogramme montre la distribution des probabilités de défaut de paiement (BAD = 1) prédites par le modèle SageMaker XGBoost sur l'ensemble test.\n",
    "On observe qu'environs 1200 observations ont une probabilité proche de 0, donc le modèle est très confiant que ces clients ne sont pas à risque\n",
    "On observe aussi que moins de 300 des observations ont des probabilités superieures a 0.5, cela correspond aux cas que le modèle considère à risque élevé de défaut. Le modèle est donc peu incertain, il prend des décisions tranchées"
   ]
  },
  {
   "cell_type": "code",
   "execution_count": 43,
   "metadata": {},
   "outputs": [
    {
     "data": {
      "image/png": "[encoded data removed]",
      "text/plain": [
       "<Figure size 640x480 with 2 Axes>"
      ]
     },
     "metadata": {},
     "output_type": "display_data"
    },
    {
     "name": "stdout",
     "output_type": "stream",
     "text": [
      "Évaluation du modele sur X_test :\n",
      "              precision    recall  f1-score   support\n",
      "\n",
      "           0       0.92      0.96      0.94      1432\n",
      "           1       0.80      0.66      0.72       357\n",
      "\n",
      "    accuracy                           0.90      1789\n",
      "   macro avg       0.86      0.81      0.83      1789\n",
      "weighted avg       0.89      0.90      0.90      1789\n",
      "\n"
     ]
    }
   ],
   "source": [
    "import sklearn\n",
    "import matplotlib.pyplot as plt\n",
    "\n",
    "cutoff = 0.5\n",
    "\n",
    "# Matrice de confusion\n",
    "cm = sklearn.metrics.confusion_matrix(test.iloc[:, 0], np.where(predictions > cutoff, 1, 0))\n",
    "disp = ConfusionMatrixDisplay(confusion_matrix=cm, display_labels=[0, 1])\n",
    "disp.plot(cmap=\"Blues\")\n",
    "plt.title(f\"Matrice de confusion (cutoff = {cutoff})\")\n",
    "plt.grid(False)\n",
    "plt.show()\n",
    "\n",
    "# Rapport de classification\n",
    "print(\"Évaluation du modele sur X_test :\")\n",
    "print(sklearn.metrics.classification_report(test.iloc[:, 0], np.where(predictions > cutoff, 1, 0)))"
   ]
  },
  {
   "cell_type": "markdown",
   "metadata": {},
   "source": [
    "Le modèle est très bon pour détecter les non-défaillants (classe 0), precision et recall 0.92 et 0.96 respectivement.\n",
    "Il est raisonnablement bon pour les défaillants, la précision est de 0.80, sur 100 clients prédits \"défaillants\", 80 le sont réellement; le rappel est de 0.66, le modèle détecte 66 % des vrais défaillants et donc 1/3 échappent à la détection."
   ]
  },
  {
   "cell_type": "code",
   "execution_count": 44,
   "metadata": {},
   "outputs": [
    {
     "data": {
      "text/html": [
       "<pre style=\"white-space:pre;overflow-x:auto;line-height:normal;font-family:Menlo,'DejaVu Sans Mono',consolas,'Courier New',monospace\"><span style=\"color: #7fbfbf; text-decoration-color: #7fbfbf\">[04/22/25 07:34:56] </span><span style=\"color: #d7af00; text-decoration-color: #d7af00; font-weight: bold\">WARNING </span> The function delete_endpoint is a no-op in sagemaker&gt;=<span style=\"color: #008080; text-decoration-color: #008080; font-weight: bold\">2</span>.            <a href=\"file://c:\\Users\\t\\AppData\\Local\\Programs\\Python\\Python312\\Lib\\site-packages\\sagemaker\\deprecations.py\" target=\"_blank\"><span style=\"color: #7f7f7f; text-decoration-color: #7f7f7f\">deprecations.py</span></a><span style=\"color: #7f7f7f; text-decoration-color: #7f7f7f\">:</span><a href=\"file://c:\\Users\\t\\AppData\\Local\\Programs\\Python\\Python312\\Lib\\site-packages\\sagemaker\\deprecations.py#34\" target=\"_blank\"><span style=\"color: #7f7f7f; text-decoration-color: #7f7f7f\">34</span></a>\n",
       "<span style=\"color: #7fbfbf; text-decoration-color: #7fbfbf\">                    </span>         See: <span style=\"color: #0069ff; text-decoration-color: #0069ff; text-decoration: underline\">https://sagemaker.readthedocs.io/en/stable/v2.html</span> for         <span style=\"color: #7f7f7f; text-decoration-color: #7f7f7f\">                  </span>\n",
       "<span style=\"color: #7fbfbf; text-decoration-color: #7fbfbf\">                    </span>         details.                                                            <span style=\"color: #7f7f7f; text-decoration-color: #7f7f7f\">                  </span>\n",
       "</pre>\n"
      ],
      "text/plain": [
       "\u001b[2;36m[04/22/25 07:34:56]\u001b[0m\u001b[2;36m \u001b[0m\u001b[1;38;2;215;175;0mWARNING \u001b[0m The function delete_endpoint is a no-op in sagemaker>=\u001b[1;36m2\u001b[0m.            \u001b]8;id=765552;file://c:\\Users\\t\\AppData\\Local\\Programs\\Python\\Python312\\Lib\\site-packages\\sagemaker\\deprecations.py\u001b\\\u001b[2mdeprecations.py\u001b[0m\u001b]8;;\u001b\\\u001b[2m:\u001b[0m\u001b]8;id=478152;file://c:\\Users\\t\\AppData\\Local\\Programs\\Python\\Python312\\Lib\\site-packages\\sagemaker\\deprecations.py#34\u001b\\\u001b[2m34\u001b[0m\u001b]8;;\u001b\\\n",
       "\u001b[2;36m                    \u001b[0m         See: \u001b[4;38;2;0;105;255mhttps://sagemaker.readthedocs.io/en/stable/v2.html\u001b[0m for         \u001b[2m                  \u001b[0m\n",
       "\u001b[2;36m                    \u001b[0m         details.                                                            \u001b[2m                  \u001b[0m\n"
      ]
     },
     "metadata": {},
     "output_type": "display_data"
    }
   ],
   "source": [
    "#suppression de l'endpoint\n",
    "xgb_model.delete_endpoint()"
   ]
  }
 ],
 "metadata": {
  "kernelspec": {
   "display_name": "Python 3 (ipykernel)",
   "language": "python",
   "name": "python3"
  },
  "language_info": {
   "codemirror_mode": {
    "name": "ipython",
    "version": 3
   },
   "file_extension": ".py",
   "mimetype": "text/x-python",
   "name": "python",
   "nbconvert_exporter": "python",
   "pygments_lexer": "ipython3",
   "version": "3.11.5"
  }
 },
 "nbformat": 4,
 "nbformat_minor": 4
}
